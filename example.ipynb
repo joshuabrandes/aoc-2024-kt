{
 "cells": [
  {
   "metadata": {},
   "cell_type": "markdown",
   "source": [
    "## Spoiler warning\n",
    "Contains solution for AOC 2019 Day 1"
   ]
  },
  {
   "metadata": {
    "ExecuteTime": {
     "end_time": "2024-11-30T01:53:19.204624319Z",
     "start_time": "2024-11-30T01:53:19.101369160Z"
    }
   },
   "cell_type": "code",
   "source": [
    "import com.toldoven.aoc.notebook.AocClient\n",
    "\n",
    "val aoc = AocClient.fromEnv().interactiveDay(2019, 1)"
   ],
   "outputs": [],
   "execution_count": 1
  },
  {
   "metadata": {
    "ExecuteTime": {
     "end_time": "2024-11-30T01:53:19.265924945Z",
     "start_time": "2024-11-30T01:53:19.218027075Z"
    }
   },
   "cell_type": "code",
   "source": "aoc.viewPartOne()",
   "outputs": [
    {
     "data": {
      "text/html": [
       "<h2>--- Day 1: The Tyranny of the Rocket Equation ---</h2>\n",
       "<p>Santa has become stranded at the edge of the Solar System while delivering presents to other planets! To accurately calculate his position in space, safely align his warp drive, and return to Earth in time to save Christmas, he needs you to bring him <span title=\"If only you had time to grab an astrolabe.\">measurements</span> from <em class=\"star\">fifty stars</em>.</p> \n",
       "<p>Collect stars by solving puzzles. Two puzzles will be made available on each day in the Advent calendar; the second puzzle is unlocked when you complete the first. Each puzzle grants <em class=\"star\">one star</em>. Good luck!</p> \n",
       "<p>The Elves quickly load you into a spacecraft and prepare to launch.</p> \n",
       "<p>At the first Go / No Go poll, every Elf is Go until the Fuel Counter-Upper. They haven't determined the amount of fuel required yet.</p> \n",
       "<p>Fuel required to launch a given <em>module</em> is based on its <em>mass</em>. Specifically, to find the fuel required for a module, take its mass, divide by three, round down, and subtract 2.</p> \n",
       "<p>For example:</p> \n",
       "<ul> \n",
       " <li>For a mass of <code>12</code>, divide by 3 and round down to get <code>4</code>, then subtract 2 to get <code>2</code>.</li> \n",
       " <li>For a mass of <code>14</code>, dividing by 3 and rounding down still yields <code>4</code>, so the fuel required is also <code>2</code>.</li> \n",
       " <li>For a mass of <code>1969</code>, the fuel required is <code>654</code>.</li> \n",
       " <li>For a mass of <code>100756</code>, the fuel required is <code>33583</code>.</li> \n",
       "</ul> \n",
       "<p>The Fuel Counter-Upper needs to know the total fuel requirement. To find it, individually calculate the fuel needed for the mass of each module (your puzzle input), then add together all the fuel values.</p> \n",
       "<p><em>What is the sum of the fuel requirements</em> for all of the modules on your spacecraft?</p>"
      ]
     },
     "execution_count": 2,
     "metadata": {},
     "output_type": "execute_result"
    }
   ],
   "execution_count": 2
  },
  {
   "metadata": {
    "ExecuteTime": {
     "end_time": "2024-11-30T01:53:19.321890211Z",
     "start_time": "2024-11-30T01:53:19.271136401Z"
    }
   },
   "cell_type": "code",
   "source": "aoc.input()",
   "outputs": [
    {
     "data": {
      "text/plain": [
       "119031\n",
       "111204\n",
       "75773\n",
       "95544\n",
       "69987\n",
       "147194\n",
       "74024\n",
       "100438\n",
       "86116\n",
       "89945\n",
       "144856\n",
       "123315\n",
       "64102\n",
       "55491\n",
       "95959\n",
       "149174\n",
       "66810\n",
       "134674\n",
       "88921\n",
       "124270\n",
       "60833\n",
       "125667\n",
       "84885\n",
       "57688\n",
       "89059\n",
       "126854\n",
       "93633\n",
       "103791\n",
       "104295\n",
       "137762\n",
       "101216\n",
       "138060\n",
       "103271\n",
       "95822\n",
       "102000\n",
       "66821\n",
       "126916\n",
       "104629\n",
       "87710\n",
       "79852\n",
       "87852\n",
       "149281\n",
       "92055\n",
       "50969\n",
       "62626\n",
       "112069\n",
       "68560\n",
       "66131\n",
       "139961\n",
       "89456\n",
       "100536\n",
       "51338\n",
       "51075\n",
       "112858\n",
       "134878\n",
       "137702\n",
       "60091\n",
       "111576\n",
       "70517\n",
       "131524\n",
       "56162\n",
       "148346\n",
       "62696\n",
       "110191\n",
       "141106\n",
       "54858\n",
       "66248\n",
       "86402\n",
       "132012\n",
       "96367\n",
       "95319\n",
       "133879\n",
       "115031\n",
       "77875\n",
       "129470\n",
       "146650\n",
       "70048\n",
       "147454\n",
       "123076\n",
       "74563\n",
       "94228\n",
       "59920\n",
       "147986\n",
       "92398\n",
       "51890\n",
       "92686\n",
       "110452\n",
       "85205\n",
       "67482\n",
       "87931\n",
       "69535\n",
       "73948\n",
       "114576\n",
       "65958\n",
       "53081\n",
       "132809\n",
       "76088\n",
       "74553\n",
       "121820\n",
       "121214"
      ]
     },
     "execution_count": 3,
     "metadata": {},
     "output_type": "execute_result"
    }
   ],
   "execution_count": 3
  },
  {
   "metadata": {
    "ExecuteTime": {
     "end_time": "2024-11-30T01:53:19.644805808Z",
     "start_time": "2024-11-30T01:53:19.326719787Z"
    }
   },
   "cell_type": "code",
   "source": [
    "val result = aoc.input()\n",
    "    .lines()\n",
    "    .map { it.toInt() }\n",
    "    .sumOf {\n",
    "        it / 3 - 2\n",
    "    }\n",
    "\n",
    "result"
   ],
   "outputs": [
    {
     "data": {
      "text/plain": [
       "3249817"
      ]
     },
     "execution_count": 4,
     "metadata": {},
     "output_type": "execute_result"
    }
   ],
   "execution_count": 4
  },
  {
   "metadata": {
    "ExecuteTime": {
     "end_time": "2024-11-30T01:53:20.546415965Z",
     "start_time": "2024-11-30T01:53:19.657633137Z"
    }
   },
   "cell_type": "code",
   "source": "aoc.submitPartOne(result)",
   "outputs": [
    {
     "data": {
      "text/html": [
       "<p>The answer is correct!</p><p>Your answer: 3249817</p><small>You already completed this part.</small>"
      ]
     },
     "execution_count": 5,
     "metadata": {},
     "output_type": "execute_result"
    }
   ],
   "execution_count": 5
  },
  {
   "metadata": {
    "ExecuteTime": {
     "end_time": "2024-11-30T01:53:20.596957044Z",
     "start_time": "2024-11-30T01:53:20.551157103Z"
    }
   },
   "cell_type": "code",
   "source": "aoc.viewPartTwo()",
   "outputs": [
    {
     "data": {
      "text/html": [
       "<h2 id=\"part2\">--- Part Two ---</h2>\n",
       "<p>During the second Go / No Go poll, the Elf in charge of the Rocket Equation Double-Checker stops the launch sequence. Apparently, you forgot to include additional fuel for the fuel you just added.</p> \n",
       "<p>Fuel itself requires fuel just like a module - take its mass, divide by three, round down, and subtract 2. However, that fuel <em>also</em> requires fuel, and <em>that</em> fuel requires fuel, and so on. Any mass that would require <em>negative fuel</em> should instead be treated as if it requires <em>zero fuel</em>; the remaining mass, if any, is instead handled by <em>wishing really hard</em>, which has no mass and is outside the scope of this calculation.</p> \n",
       "<p>So, for each module mass, calculate its fuel and add it to the total. Then, treat the fuel amount you just calculated as the input mass and repeat the process, continuing until a fuel requirement is zero or negative. For example:</p> \n",
       "<ul> \n",
       " <li>A module of mass <code>14</code> requires <code>2</code> fuel. This fuel requires no further fuel (2 divided by 3 and rounded down is <code>0</code>, which would call for a negative fuel), so the total fuel required is still just <code>2</code>.</li> \n",
       " <li>At first, a module of mass <code>1969</code> requires <code>654</code> fuel. Then, this fuel requires <code>216</code> more fuel (<code>654 / 3 - 2</code>). <code>216</code> then requires <code>70</code> more fuel, which requires <code>21</code> fuel, which requires <code>5</code> fuel, which requires no further fuel. So, the total fuel required for a module of mass <code>1969</code> is <code>654 + 216 + 70 + 21 + 5 = 966</code>.</li> \n",
       " <li>The fuel required by a module of mass <code>100756</code> and its fuel is: <code>33583 + 11192 + 3728 + 1240 + 411 + 135 + 43 + 12 + 2 = 50346</code>.</li> \n",
       "</ul> \n",
       "<p><em>What is the sum of the fuel requirements</em> for all of the modules on your spacecraft when also taking into account the mass of the added fuel? (Calculate the fuel requirements for each module separately, then add them all up at the end.)</p>"
      ]
     },
     "execution_count": 6,
     "metadata": {},
     "output_type": "execute_result"
    }
   ],
   "execution_count": 6
  },
  {
   "metadata": {
    "ExecuteTime": {
     "end_time": "2024-11-30T01:53:20.810020760Z",
     "start_time": "2024-11-30T01:53:20.604540977Z"
    }
   },
   "cell_type": "code",
   "source": [
    "val result = aoc.input()\n",
    "    .lines()\n",
    "    .map { it.toInt() }\n",
    "    .sumOf {\n",
    "        generateSequence(it) {\n",
    "            it / 3 - 2\n",
    "        }\n",
    "            .drop(1)\n",
    "            .takeWhile { it > 0 }\n",
    "            .sum()\n",
    "    }\n",
    "\n",
    "result"
   ],
   "outputs": [
    {
     "data": {
      "text/plain": [
       "4871866"
      ]
     },
     "execution_count": 7,
     "metadata": {},
     "output_type": "execute_result"
    }
   ],
   "execution_count": 7
  },
  {
   "metadata": {
    "ExecuteTime": {
     "end_time": "2024-11-30T02:11:00.138626730Z",
     "start_time": "2024-11-30T02:10:59.669349559Z"
    }
   },
   "cell_type": "code",
   "source": "aoc.submitPartTwo(result)",
   "outputs": [
    {
     "data": {
      "text/html": [
       "<p>The answer is correct!</p><p>Your answer: 4871866</p><small>You already completed this part.</small>"
      ]
     },
     "execution_count": 9,
     "metadata": {},
     "output_type": "execute_result"
    }
   ],
   "execution_count": 9
  }
 ],
 "metadata": {
  "kernelspec": {
   "display_name": "Kotlin",
   "language": "kotlin",
   "name": "kotlin"
  },
  "language_info": {
   "name": "kotlin",
   "version": "1.9.23",
   "mimetype": "text/x-kotlin",
   "file_extension": ".kt",
   "pygments_lexer": "kotlin",
   "codemirror_mode": "text/x-kotlin",
   "nbconvert_exporter": ""
  },
  "ktnbPluginMetadata": {
   "projectDependencies": [
    "aoc.main"
   ],
   "projectLibraries": false
  }
 },
 "nbformat": 4,
 "nbformat_minor": 0
}

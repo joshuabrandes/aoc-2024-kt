{
 "cells": [
  {
   "metadata": {},
   "cell_type": "markdown",
   "source": "# Advent of Code 2024"
  },
  {
   "metadata": {},
   "cell_type": "markdown",
   "source": "# Day 1"
  },
  {
   "metadata": {
    "collapsed": true,
    "ExecuteTime": {
     "end_time": "2024-12-01T20:36:49.093002100Z",
     "start_time": "2024-12-01T20:36:48.002799600Z"
    }
   },
   "cell_type": "code",
   "source": [
    "import com.toldoven.aoc.notebook.AocClient\n",
    "\n",
    "val aoc = AocClient.fromEnv().interactiveDay(2024, 1)\n",
    "\n",
    "aoc.viewPartOne()"
   ],
   "outputs": [
    {
     "data": {
      "text/html": [
       "<h2>--- Day 1: Historian Hysteria ---</h2>\n",
       "<p>The <em>Chief Historian</em> is always present for the big Christmas sleigh launch, but nobody has seen him in months! Last anyone heard, he was visiting locations that are historically significant to the North Pole; a group of Senior Historians has asked you to accompany them as they check the places they think he was most likely to visit.</p> \n",
       "<p>As each location is checked, they will mark it on their list with a <em class=\"star\">star</em>. They figure the Chief Historian <em>must</em> be in one of the first fifty places they'll look, so in order to save Christmas, you need to help them get <em class=\"star\">fifty stars</em> on their list before Santa takes off on December 25th.</p> \n",
       "<p>Collect stars by solving puzzles. Two puzzles will be made available on each day in the Advent calendar; the second puzzle is unlocked when you complete the first. Each puzzle grants <em class=\"star\">one star</em>. Good luck!</p> \n",
       "<p>You haven't even left yet and the group of Elvish Senior Historians has already hit a problem: their list of locations to check is currently <em>empty</em>. Eventually, someone decides that the best place to check first would be the Chief Historian's office.</p> \n",
       "<p>Upon pouring into the office, everyone confirms that the Chief Historian is indeed nowhere to be found. Instead, the Elves discover an assortment of notes and lists of historically significant locations! This seems to be the planning the Chief Historian was doing before he left. Perhaps these notes can be used to determine which locations to search?</p> \n",
       "<p>Throughout the Chief's office, the historically significant locations are listed not by name but by a unique number called the <em>location ID</em>. To make sure they don't miss anything, The Historians split into two groups, each searching the office and trying to create their own complete list of location IDs.</p> \n",
       "<p>There's just one problem: by holding the two lists up <em>side by side</em> (your puzzle input), it quickly becomes clear that the lists aren't very similar. Maybe you can help The Historians reconcile their lists?</p> \n",
       "<p>For example:</p> \n",
       "<pre><code>3   4\n",
       "4   3\n",
       "2   5\n",
       "1   3\n",
       "3   9\n",
       "3   3\n",
       "</code></pre> \n",
       "<p>Maybe the lists are only off by a small amount! To find out, pair up the numbers and measure how far apart they are. Pair up the <em>smallest number in the left list</em> with the <em>smallest number in the right list</em>, then the <em>second-smallest left number</em> with the <em>second-smallest right number</em>, and so on.</p> \n",
       "<p>Within each pair, figure out <em>how far apart</em> the two numbers are; you'll need to <em>add up all of those distances</em>. For example, if you pair up a <code>3</code> from the left list with a <code>7</code> from the right list, the distance apart is <code>4</code>; if you pair up a <code>9</code> with a <code>3</code>, the distance apart is <code>6</code>.</p> \n",
       "<p>In the example list above, the pairs and distances would be as follows:</p> \n",
       "<ul> \n",
       " <li>The smallest number in the left list is <code>1</code>, and the smallest number in the right list is <code>3</code>. The distance between them is <code><em>2</em></code>.</li> \n",
       " <li>The second-smallest number in the left list is <code>2</code>, and the second-smallest number in the right list is another <code>3</code>. The distance between them is <code><em>1</em></code>.</li> \n",
       " <li>The third-smallest number in both lists is <code>3</code>, so the distance between them is <code><em>0</em></code>.</li> \n",
       " <li>The next numbers to pair up are <code>3</code> and <code>4</code>, a distance of <code><em>1</em></code>.</li> \n",
       " <li>The fifth-smallest numbers in each list are <code>3</code> and <code>5</code>, a distance of <code><em>2</em></code>.</li> \n",
       " <li>Finally, the largest number in the left list is <code>4</code>, while the largest number in the right list is <code>9</code>; these are a distance <code><em>5</em></code> apart.</li> \n",
       "</ul> \n",
       "<p>To find the <em>total distance</em> between the left list and the right list, add up the distances between all of the pairs you found. In the example above, this is <code>2 + 1 + 0 + 1 + 2 + 5</code>, a total distance of <code><em>11</em></code>!</p> \n",
       "<p>Your actual left and right lists contain many location IDs. <em>What is the total distance between your lists?</em></p>"
      ]
     },
     "execution_count": 1,
     "metadata": {},
     "output_type": "execute_result"
    }
   ],
   "execution_count": 1
  },
  {
   "metadata": {
    "ExecuteTime": {
     "end_time": "2024-12-01T20:59:25.640168400Z",
     "start_time": "2024-12-01T20:59:24.867570100Z"
    }
   },
   "cell_type": "code",
   "source": [
    "val input = aoc.input()\n",
    "    .lines()\n",
    "\n",
    "val (leftList, rightList) = input\n",
    "    .filter { it.isNotEmpty() }\n",
    "    .map { line ->\n",
    "        line.split(\" \")\n",
    "            .filter { it.isNotEmpty() }\n",
    "            .map { it.toInt() }\n",
    "    }\n",
    "    .let { line -> line.map { it[0] } to line.map { it[1] } }\n",
    "\n",
    "// Listen sortieren\n",
    "val sortedLeft = leftList.sorted()\n",
    "val sortedRight = rightList.sorted()\n",
    "\n",
    "// Paare bilden und Differenzen berechnen\n",
    "val result = sortedLeft.zip(sortedRight)\n",
    "    .sumOf { (left, right) -> kotlin.math.abs(left - right) }\n",
    "\n",
    "aoc.submitPartOne(result)\n"
   ],
   "outputs": [
    {
     "data": {
      "text/html": [
       "<div>\n",
       "    <p>Your answer: 1834060.</p>\n",
       "    <p>That's the right answer! You are <span class=\"day-success\">one gold star</span> closer to finding the Chief Historian. <a href=\"/2024/day/1#part2\">[Continue to Part Two]</a></p>\n",
       "</div>"
      ]
     },
     "execution_count": 5,
     "metadata": {},
     "output_type": "execute_result"
    }
   ],
   "execution_count": 5
  },
  {
   "metadata": {
    "ExecuteTime": {
     "end_time": "2024-12-01T20:59:40.886667600Z",
     "start_time": "2024-12-01T20:59:40.473630100Z"
    }
   },
   "cell_type": "code",
   "source": "aoc.viewPartTwo()",
   "outputs": [
    {
     "data": {
      "text/html": [
       "<h2 id=\"part2\">--- Part Two ---</h2>\n",
       "<p>Your analysis only confirmed what everyone feared: the two lists of location IDs are indeed very different.</p> \n",
       "<p>Or are they?</p> \n",
       "<p>The Historians can't agree on which group made the mistakes <em>or</em> how to read most of the Chief's handwriting, but in the commotion you notice an interesting detail: <span title=\"We were THIS close to summoning the Alot of Location IDs!\">a lot</span> of location IDs appear in both lists! Maybe the other numbers aren't location IDs at all but rather misinterpreted handwriting.</p> \n",
       "<p>This time, you'll need to figure out exactly how often each number from the left list appears in the right list. Calculate a total <em>similarity score</em> by adding up each number in the left list after multiplying it by the number of times that number appears in the right list.</p> \n",
       "<p>Here are the same example lists again:</p> \n",
       "<pre><code>3   4\n",
       "4   3\n",
       "2   5\n",
       "1   3\n",
       "3   9\n",
       "3   3\n",
       "</code></pre> \n",
       "<p>For these example lists, here is the process of finding the similarity score:</p> \n",
       "<ul> \n",
       " <li>The first number in the left list is <code>3</code>. It appears in the right list three times, so the similarity score increases by <code>3 * 3 = <em>9</em></code>.</li> \n",
       " <li>The second number in the left list is <code>4</code>. It appears in the right list once, so the similarity score increases by <code>4 * 1 = <em>4</em></code>.</li> \n",
       " <li>The third number in the left list is <code>2</code>. It does not appear in the right list, so the similarity score does not increase (<code>2 * 0 = 0</code>).</li> \n",
       " <li>The fourth number, <code>1</code>, also does not appear in the right list.</li> \n",
       " <li>The fifth number, <code>3</code>, appears in the right list three times; the similarity score increases by <code><em>9</em></code>.</li> \n",
       " <li>The last number, <code>3</code>, appears in the right list three times; the similarity score again increases by <code><em>9</em></code>.</li> \n",
       "</ul> \n",
       "<p>So, for these example lists, the similarity score at the end of this process is <code><em>31</em></code> (<code>9 + 4 + 0 + 0 + 9 + 9</code>).</p> \n",
       "<p>Once again consider your left and right lists. <em>What is their similarity score?</em></p>"
      ]
     },
     "execution_count": 6,
     "metadata": {},
     "output_type": "execute_result"
    }
   ],
   "execution_count": 6
  },
  {
   "metadata": {
    "ExecuteTime": {
     "end_time": "2024-12-01T21:04:11.887337100Z",
     "start_time": "2024-12-01T21:04:11.173539500Z"
    }
   },
   "cell_type": "code",
   "source": [
    "val rightFreqencies = rightList.groupingBy { it }.eachCount()\n",
    "\n",
    "// for every number in leftList:\n",
    "// - find the number of occurences of the number in rightList (0 if not found)\n",
    "// - multiply the number of occurences with the number\n",
    "\n",
    "val result2 = leftList.sumOf { num ->\n",
    "    num * (rightFreqencies[num] ?: 0)\n",
    "}\n",
    "\n",
    "aoc.submitPartTwo(result2)"
   ],
   "outputs": [
    {
     "data": {
      "text/html": [
       "        <div>\n",
       "            <p>Your answer: 21607792.</p>\n",
       "            <p>That's the right answer! You are <span class=\"day-success\">one gold star</span> closer to finding the Chief Historian.</p>\n",
       "<p>You have completed Day 1! You can <span class=\"share\">[Share<span class=\"share-content\">on <a href=\"https://bsky.app/intent/compose?text=I+just+completed+%22Historian+Hysteria%22+%2D+Day+1+%2D+Advent+of+Code+2024+%23AdventOfCode+https%3A%2F%2Fadventofcode%2Ecom%2F2024%2Fday%2F1\" target=\"_blank\">Bluesky</a> <a href=\"https://twitter.com/intent/tweet?text=I+just+completed+%22Historian+Hysteria%22+%2D+Day+1+%2D+Advent+of+Code+2024&amp;url=https%3A%2F%2Fadventofcode%2Ecom%2F2024%2Fday%2F1&amp;related=ericwastl&amp;hashtags=AdventOfCode\" target=\"_blank\">Twitter</a> <a href=\"javascript:void(0);\" onclick=\"var ms; try{ms=localStorage.getItem('mastodon.server')}finally{} if(typeof ms!=='string')ms=''; ms=prompt('Mastodon Server?',ms); if(typeof ms==='string' &amp;&amp; ms.length){this.href='https://'+ms+'/share?text=I+just+completed+%22Historian+Hysteria%22+%2D+Day+1+%2D+Advent+of+Code+2024+%23AdventOfCode+https%3A%2F%2Fadventofcode%2Ecom%2F2024%2Fday%2F1';try{localStorage.setItem('mastodon.server',ms);}finally{}}else{return false;}\" target=\"_blank\">Mastodon</a></span>]</span> this victory or <a href=\"/2024\">[Return to Your Advent Calendar]</a>.</p>\n",
       "        </div>"
      ]
     },
     "execution_count": 7,
     "metadata": {},
     "output_type": "execute_result"
    }
   ],
   "execution_count": 7
  },
  {
   "metadata": {},
   "cell_type": "markdown",
   "source": "# Day 2"
  },
  {
   "metadata": {
    "ExecuteTime": {
     "end_time": "2024-12-03T07:26:03.436351Z",
     "start_time": "2024-12-03T07:26:02.739640Z"
    }
   },
   "cell_type": "code",
   "source": [
    "import com.toldoven.aoc.notebook.AocClient\n",
    "\n",
    "val aoc2 = AocClient.fromEnv().interactiveDay(2024, 2)\n",
    "\n",
    "aoc2.viewPartOne()"
   ],
   "outputs": [
    {
     "data": {
      "text/html": [
       "<h2>--- Day 2: Red-Nosed Reports ---</h2>\n",
       "<p>Fortunately, the first location The Historians want to search isn't a long walk from the Chief Historian's office.</p> \n",
       "<p>While the <a href=\"/2015/day/19\">Red-Nosed Reindeer nuclear fusion/fission plant</a> appears to contain no sign of the Chief Historian, the engineers there run up to you as soon as they see you. Apparently, they <em>still</em> talk about the time Rudolph was saved through molecular synthesis from a single electron.</p> \n",
       "<p>They're quick to add that - since you're already here - they'd really appreciate your help analyzing some unusual data from the Red-Nosed reactor. You turn to check if The Historians are waiting for you, but they seem to have already divided into groups that are currently searching every corner of the facility. You offer to help with the unusual data.</p> \n",
       "<p>The unusual data (your puzzle input) consists of many <em>reports</em>, one report per line. Each report is a list of numbers called <em>levels</em> that are separated by spaces. For example:</p> \n",
       "<pre><code>7 6 4 2 1\n",
       "1 2 7 8 9\n",
       "9 7 6 2 1\n",
       "1 3 2 4 5\n",
       "8 6 4 4 1\n",
       "1 3 6 7 9\n",
       "</code></pre> \n",
       "<p>This example data contains six reports each containing five levels.</p> \n",
       "<p>The engineers are trying to figure out which reports are <em>safe</em>. The Red-Nosed reactor safety systems can only tolerate levels that are either gradually increasing or gradually decreasing. So, a report only counts as safe if both of the following are true:</p> \n",
       "<ul> \n",
       " <li>The levels are either <em>all increasing</em> or <em>all decreasing</em>.</li> \n",
       " <li>Any two adjacent levels differ by <em>at least one</em> and <em>at most three</em>.</li> \n",
       "</ul> \n",
       "<p>In the example above, the reports can be found safe or unsafe by checking those rules:</p> \n",
       "<ul> \n",
       " <li><code>7 6 4 2 1</code>: <em>Safe</em> because the levels are all decreasing by 1 or 2.</li> \n",
       " <li><code>1 2 7 8 9</code>: <em>Unsafe</em> because <code>2 7</code> is an increase of 5.</li> \n",
       " <li><code>9 7 6 2 1</code>: <em>Unsafe</em> because <code>6 2</code> is a decrease of 4.</li> \n",
       " <li><code>1 3 2 4 5</code>: <em>Unsafe</em> because <code>1 3</code> is increasing but <code>3 2</code> is decreasing.</li> \n",
       " <li><code>8 6 4 4 1</code>: <em>Unsafe</em> because <code>4 4</code> is neither an increase or a decrease.</li> \n",
       " <li><code>1 3 6 7 9</code>: <em>Safe</em> because the levels are all increasing by 1, 2, or 3.</li> \n",
       "</ul> \n",
       "<p>So, in this example, <code><em>2</em></code> reports are <em>safe</em>.</p> \n",
       "<p>Analyze the unusual data from the engineers. <em>How many reports are safe?</em></p>"
      ]
     },
     "execution_count": 2,
     "metadata": {},
     "output_type": "execute_result"
    }
   ],
   "execution_count": 2
  },
  {
   "metadata": {
    "ExecuteTime": {
     "end_time": "2024-12-03T07:46:28.361741Z",
     "start_time": "2024-12-03T07:46:27.519124Z"
    }
   },
   "cell_type": "code",
   "source": [
    "val input = aoc2.input()\n",
    "    .lines()\n",
    "    .filter { it.isNotEmpty() }\n",
    "\n",
    "class Entry(val data: List<Int>) {\n",
    "    /**\n",
    "     * Checks if the entry is safe. Conditions:\n",
    "     * - Decreasing values can only cahnge by 1 or 2 from the previous value\n",
    "     * - Increasing values can only change by 1, 2 or 3 from the previous value\n",
    "     * - one Entry cannot have both increasing and decreasing values\n",
    "     * - the difference between two consecutive values must not be 0\n",
    "     */\n",
    "    fun isSafe(): Boolean {\n",
    "        val pairs = data.zipWithNext()\n",
    "\n",
    "        if (pairs.any { (a, b) -> a == b }) return false\n",
    "\n",
    "        val hasDecreasingPairs = pairs.any { (a, b) -> a > b }\n",
    "        val hasIncreasingPairs = pairs.any { (a, b) -> a < b }\n",
    "\n",
    "        if (hasDecreasingPairs && hasIncreasingPairs) return false\n",
    "\n",
    "        return if (hasDecreasingPairs) {\n",
    "            pairs.all { (a, b) -> b - a in -3..0 }\n",
    "        } else {\n",
    "            pairs.all { (a, b) -> b - a in 1..3 }\n",
    "        }\n",
    "    }\n",
    "}\n",
    "\n",
    "val entries = input\n",
    "    .map { it.split(\" \").filter { it.isNotEmpty() } }\n",
    "    .map { it.map { it.toInt() } }\n",
    "    .map { Entry(it) }\n",
    "    .filter { it.isSafe() }\n",
    "\n",
    "aoc2.submitPartOne(entries.size)"
   ],
   "outputs": [
    {
     "data": {
      "text/html": [
       "<div>\n",
       "    <p>Your answer: 334.</p>\n",
       "    <p>That's the right answer! You are <span class=\"day-success\">one gold star</span> closer to finding the Chief Historian. <a href=\"/2024/day/2#part2\">[Continue to Part Two]</a></p>\n",
       "</div>"
      ]
     },
     "execution_count": 5,
     "metadata": {},
     "output_type": "execute_result"
    }
   ],
   "execution_count": 5
  },
  {
   "metadata": {
    "ExecuteTime": {
     "end_time": "2024-12-03T07:46:50.881594Z",
     "start_time": "2024-12-03T07:46:50.488201Z"
    }
   },
   "cell_type": "code",
   "source": "aoc2.viewPartTwo()",
   "outputs": [
    {
     "data": {
      "text/html": [
       "<h2 id=\"part2\">--- Part Two ---</h2>\n",
       "<p>The engineers are surprised by the low number of safe reports until they realize they forgot to tell you about the <span title=\"I need to get one of these!\">Problem Dampener</span>.</p> \n",
       "<p>The Problem Dampener is a reactor-mounted module that lets the reactor safety systems <em>tolerate a single bad level</em> in what would otherwise be a safe report. It's like the bad level never happened!</p> \n",
       "<p>Now, the same rules apply as before, except if removing a single level from an unsafe report would make it safe, the report instead counts as safe.</p> \n",
       "<p>More of the above example's reports are now safe:</p> \n",
       "<ul> \n",
       " <li><code>7 6 4 2 1</code>: <em>Safe</em> without removing any level.</li> \n",
       " <li><code>1 2 7 8 9</code>: <em>Unsafe</em> regardless of which level is removed.</li> \n",
       " <li><code>9 7 6 2 1</code>: <em>Unsafe</em> regardless of which level is removed.</li> \n",
       " <li><code>1 <em>3</em> 2 4 5</code>: <em>Safe</em> by removing the second level, <code>3</code>.</li> \n",
       " <li><code>8 6 <em>4</em> 4 1</code>: <em>Safe</em> by removing the third level, <code>4</code>.</li> \n",
       " <li><code>1 3 6 7 9</code>: <em>Safe</em> without removing any level.</li> \n",
       "</ul> \n",
       "<p>Thanks to the Problem Dampener, <code><em>4</em></code> reports are actually <em>safe</em>!</p> \n",
       "<p>Update your analysis by handling situations where the Problem Dampener can remove a single level from unsafe reports. <em>How many reports are now safe?</em></p>"
      ]
     },
     "execution_count": 6,
     "metadata": {},
     "output_type": "execute_result"
    }
   ],
   "execution_count": 6
  },
  {
   "metadata": {
    "ExecuteTime": {
     "end_time": "2024-12-03T08:08:58.028341Z",
     "start_time": "2024-12-03T08:08:57.413706Z"
    }
   },
   "cell_type": "code",
   "source": [
    "fun Entry.canBeMadeSafe(): Boolean {\n",
    "    if (isSafe()) return true\n",
    "\n",
    "    for (i in data.indices) {\n",
    "        val newList = data.filterIndexed { index, _ -> index != i }\n",
    "        if (Entry(newList).isSafe()) return true\n",
    "    }\n",
    "\n",
    "    return false\n",
    "}\n",
    "\n",
    "val invalidEntries = input\n",
    "    .map { it.split(\" \").filter { it.isNotEmpty() } }\n",
    "    .map { it.map { it.toInt() } }\n",
    "    .map { Entry(it) }\n",
    "    .filter { it.canBeMadeSafe() }\n",
    "\n",
    "aoc2.submitPartTwo(invalidEntries.size)"
   ],
   "outputs": [
    {
     "data": {
      "text/html": [
       "        <div>\n",
       "            <p>Your answer: 400.</p>\n",
       "            <p>That's the right answer! You are <span class=\"day-success\">one gold star</span> closer to finding the Chief Historian.</p>\n",
       "<p>You have completed Day 2! You can <span class=\"share\">[Share<span class=\"share-content\">on <a href=\"https://bsky.app/intent/compose?text=I+just+completed+%22Red%2DNosed+Reports%22+%2D+Day+2+%2D+Advent+of+Code+2024+%23AdventOfCode+https%3A%2F%2Fadventofcode%2Ecom%2F2024%2Fday%2F2\" target=\"_blank\">Bluesky</a> <a href=\"https://twitter.com/intent/tweet?text=I+just+completed+%22Red%2DNosed+Reports%22+%2D+Day+2+%2D+Advent+of+Code+2024&amp;url=https%3A%2F%2Fadventofcode%2Ecom%2F2024%2Fday%2F2&amp;related=ericwastl&amp;hashtags=AdventOfCode\" target=\"_blank\">Twitter</a> <a href=\"javascript:void(0);\" onclick=\"var ms; try{ms=localStorage.getItem('mastodon.server')}finally{} if(typeof ms!=='string')ms=''; ms=prompt('Mastodon Server?',ms); if(typeof ms==='string' &amp;&amp; ms.length){this.href='https://'+ms+'/share?text=I+just+completed+%22Red%2DNosed+Reports%22+%2D+Day+2+%2D+Advent+of+Code+2024+%23AdventOfCode+https%3A%2F%2Fadventofcode%2Ecom%2F2024%2Fday%2F2';try{localStorage.setItem('mastodon.server',ms);}finally{}}else{return false;}\" target=\"_blank\">Mastodon</a></span>]</span> this victory or <a href=\"/2024\">[Return to Your Advent Calendar]</a>.</p>\n",
       "        </div>"
      ]
     },
     "execution_count": 12,
     "metadata": {},
     "output_type": "execute_result"
    }
   ],
   "execution_count": 12
  },
  {
   "metadata": {},
   "cell_type": "markdown",
   "source": "# Day 3"
  },
  {
   "metadata": {
    "ExecuteTime": {
     "end_time": "2024-12-03T13:38:27.524170200Z",
     "start_time": "2024-12-03T13:38:27.357611500Z"
    }
   },
   "cell_type": "code",
   "source": [
    "import com.toldoven.aoc.notebook.AocClient\n",
    "\n",
    "val aoc3 = AocClient.fromEnv().interactiveDay(2024, 3)\n",
    "aoc3.viewPartOne()"
   ],
   "outputs": [
    {
     "data": {
      "text/html": [
       "<h2>--- Day 3: Mull It Over ---</h2>\n",
       "<p>\"Our computers are having issues, so I have no idea if we have any Chief Historians <span title=\"There's a spot reserved for Chief Historians between the green toboggans and the red toboggans. They've never actually had any Chief Historians in stock, but it's best to be prepared.\">in stock</span>! You're welcome to check the warehouse, though,\" says the mildly flustered shopkeeper at the <a href=\"/2020/day/2\">North Pole Toboggan Rental Shop</a>. The Historians head out to take a look.</p> \n",
       "<p>The shopkeeper turns to you. \"Any chance you can see why our computers are having issues again?\"</p> \n",
       "<p>The computer appears to be trying to run a program, but its memory (your puzzle input) is <em>corrupted</em>. All of the instructions have been jumbled up!</p> \n",
       "<p>It seems like the goal of the program is just to <em>multiply some numbers</em>. It does that with instructions like <code>mul(X,Y)</code>, where <code>X</code> and <code>Y</code> are each 1-3 digit numbers. For instance, <code>mul(44,46)</code> multiplies <code>44</code> by <code>46</code> to get a result of <code>2024</code>. Similarly, <code>mul(123,4)</code> would multiply <code>123</code> by <code>4</code>.</p> \n",
       "<p>However, because the program's memory has been corrupted, there are also many invalid characters that should be <em>ignored</em>, even if they look like part of a <code>mul</code> instruction. Sequences like <code>mul(4*</code>, <code>mul(6,9!</code>, <code>?(12,34)</code>, or <code>mul ( 2 , 4 )</code> do <em>nothing</em>.</p> \n",
       "<p>For example, consider the following section of corrupted memory:</p> \n",
       "<pre><code>x<em>mul(2,4)</em>%&amp;mul[3,7]!@^do_not_<em>mul(5,5)</em>+mul(32,64]then(<em>mul(11,8)mul(8,5)</em>)</code></pre> \n",
       "<p>Only the four highlighted sections are real <code>mul</code> instructions. Adding up the result of each instruction produces <code><em>161</em></code> (<code>2*4 + 5*5 + 11*8 + 8*5</code>).</p> \n",
       "<p>Scan the corrupted memory for uncorrupted <code>mul</code> instructions. <em>What do you get if you add up all of the results of the multiplications?</em></p>"
      ]
     },
     "execution_count": 1,
     "metadata": {},
     "output_type": "execute_result"
    }
   ],
   "execution_count": 1
  },
  {
   "metadata": {
    "ExecuteTime": {
     "end_time": "2024-12-03T14:03:12.711113400Z",
     "start_time": "2024-12-03T14:03:11.922476500Z"
    }
   },
   "cell_type": "code",
   "source": [
    "val input = aoc3.input()\n",
    "    .lines()\n",
    "    .filter { it.isNotEmpty() }\n",
    "\n",
    "val mulRegEx = Regex(\"\"\"mul\\((\\d{1,3}),(\\d{1,3})\\)\"\"\")\n",
    "\n",
    "val result = input\n",
    "    .map { mulRegEx.findAll(it).toList() }\n",
    "    .map { it.map { it.groupValues[1].toInt() * it.groupValues[2].toInt() }.sum() }\n",
    "    .sum()\n",
    "\n",
    "aoc3.submitPartOne(result)"
   ],
   "outputs": [
    {
     "data": {
      "text/html": [
       "<div>\n",
       "    <p>Your answer: 167650499.</p>\n",
       "    <p>That's the right answer! You are <span class=\"day-success\">one gold star</span> closer to finding the Chief Historian. <a href=\"/2024/day/3#part2\">[Continue to Part Two]</a></p>\n",
       "</div>"
      ]
     },
     "execution_count": 12,
     "metadata": {},
     "output_type": "execute_result"
    }
   ],
   "execution_count": 12
  },
  {
   "metadata": {
    "ExecuteTime": {
     "end_time": "2024-12-03T14:03:23.397616400Z",
     "start_time": "2024-12-03T14:03:22.861450900Z"
    }
   },
   "cell_type": "code",
   "source": "aoc3.viewPartTwo()",
   "outputs": [
    {
     "data": {
      "text/html": [
       "<h2 id=\"part2\">--- Part Two ---</h2>\n",
       "<p>As you scan through the corrupted memory, you notice that some of the conditional statements are also still intact. If you handle some of the uncorrupted conditional statements in the program, you might be able to get an even more accurate result.</p> \n",
       "<p>There are two new instructions you'll need to handle:</p> \n",
       "<ul> \n",
       " <li>The <code>do()</code> instruction <em>enables</em> future <code>mul</code> instructions.</li> \n",
       " <li>The <code>don't()</code> instruction <em>disables</em> future <code>mul</code> instructions.</li> \n",
       "</ul> \n",
       "<p>Only the <em>most recent</em> <code>do()</code> or <code>don't()</code> instruction applies. At the beginning of the program, <code>mul</code> instructions are <em>enabled</em>.</p> \n",
       "<p>For example:</p> \n",
       "<pre><code>x<em>mul(2,4)</em>&amp;mul[3,7]!^<em>don't()</em>_mul(5,5)+mul(32,64](mul(11,8)un<em>do()</em>?<em>mul(8,5)</em>)</code></pre> \n",
       "<p>This corrupted memory is similar to the example from before, but this time the <code>mul(5,5)</code> and <code>mul(11,8)</code> instructions are <em>disabled</em> because there is a <code>don't()</code> instruction before them. The other <code>mul</code> instructions function normally, including the one at the end that gets re-<em>enabled</em> by a <code>do()</code> instruction.</p> \n",
       "<p>This time, the sum of the results is <code><em>48</em></code> (<code>2*4 + 8*5</code>).</p> \n",
       "<p>Handle the new instructions; <em>what do you get if you add up all of the results of just the enabled multiplications?</em></p>"
      ]
     },
     "execution_count": 13,
     "metadata": {},
     "output_type": "execute_result"
    }
   ],
   "execution_count": 13
  },
  {
   "metadata": {
    "ExecuteTime": {
     "end_time": "2024-12-03T14:26:59.442919200Z",
     "start_time": "2024-12-03T14:26:58.761143400Z"
    }
   },
   "cell_type": "code",
   "source": [
    "val input = aoc3.input()\n",
    "    .lines()\n",
    "    .filter { it.isNotEmpty() }\n",
    "    .joinToString(\"\")  // Füge alle Zeilen zu einer einzigen Zeichenkette zusammen\n",
    "\n",
    "// define a regular expression to match the instructions\n",
    "// Gruppe 1: do()\n",
    "// Gruppe 2: don't()\n",
    "// Gruppe 3: mul(x,y) with x and y being sub-groups\n",
    "val part2RegEx = Regex(\"\"\"do\\(\\)|don't\\(\\)|mul\\((\\d{1,3}),(\\d{1,3})\\)\"\"\")\n",
    "\n",
    "var mulEnabled = true\n",
    "var sum = 0\n",
    "\n",
    "for (match in part2RegEx.findAll(input)) {\n",
    "    when {\n",
    "        match.value == \"do()\" -> mulEnabled = true\n",
    "        match.value == \"don't()\" -> mulEnabled = false\n",
    "        match.value.startsWith(\"mul(\") -> {\n",
    "            if (mulEnabled) {\n",
    "                val x = match.groupValues[1].toInt()\n",
    "                val y = match.groupValues[2].toInt()\n",
    "                sum += x * y\n",
    "            }\n",
    "        }\n",
    "    }\n",
    "}\n",
    "\n",
    "// Reiche das Ergebnis ein\n",
    "aoc3.submitPartTwo(sum)"
   ],
   "outputs": [
    {
     "data": {
      "text/html": [
       "        <div>\n",
       "            <p>Your answer: 95846796.</p>\n",
       "            <p>That's the right answer! You are <span class=\"day-success\">one gold star</span> closer to finding the Chief Historian.</p>\n",
       "<p>You have completed Day 3! You can <span class=\"share\">[Share<span class=\"share-content\">on <a href=\"https://bsky.app/intent/compose?text=I+just+completed+%22Mull+It+Over%22+%2D+Day+3+%2D+Advent+of+Code+2024+%23AdventOfCode+https%3A%2F%2Fadventofcode%2Ecom%2F2024%2Fday%2F3\" target=\"_blank\">Bluesky</a> <a href=\"https://twitter.com/intent/tweet?text=I+just+completed+%22Mull+It+Over%22+%2D+Day+3+%2D+Advent+of+Code+2024&amp;url=https%3A%2F%2Fadventofcode%2Ecom%2F2024%2Fday%2F3&amp;related=ericwastl&amp;hashtags=AdventOfCode\" target=\"_blank\">Twitter</a> <a href=\"javascript:void(0);\" onclick=\"var ms; try{ms=localStorage.getItem('mastodon.server')}finally{} if(typeof ms!=='string')ms=''; ms=prompt('Mastodon Server?',ms); if(typeof ms==='string' &amp;&amp; ms.length){this.href='https://'+ms+'/share?text=I+just+completed+%22Mull+It+Over%22+%2D+Day+3+%2D+Advent+of+Code+2024+%23AdventOfCode+https%3A%2F%2Fadventofcode%2Ecom%2F2024%2Fday%2F3';try{localStorage.setItem('mastodon.server',ms);}finally{}}else{return false;}\" target=\"_blank\">Mastodon</a></span>]</span> this victory or <a href=\"/2024\">[Return to Your Advent Calendar]</a>.</p>\n",
       "        </div>"
      ]
     },
     "execution_count": 17,
     "metadata": {},
     "output_type": "execute_result"
    }
   ],
   "execution_count": 17
  },
  {
   "metadata": {},
   "cell_type": "markdown",
   "source": "# Day 4"
  },
  {
   "metadata": {
    "ExecuteTime": {
     "end_time": "2024-12-04T14:53:50.391427800Z",
     "start_time": "2024-12-04T14:53:49.287978200Z"
    }
   },
   "cell_type": "code",
   "source": [
    "import com.toldoven.aoc.notebook.AocClient\n",
    "\n",
    "val aoc4 = AocClient.fromEnv().interactiveDay(2024, 4)\n",
    "aoc4.viewPartOne()"
   ],
   "outputs": [
    {
     "data": {
      "text/html": [
       "<h2>--- Day 4: Ceres Search ---</h2>\n",
       "<p>\"Looks like the Chief's not here. Next!\" One of The Historians pulls out a device and pushes the only button on it. After a brief flash, you recognize the interior of the <a href=\"/2019/day/10\">Ceres monitoring station</a>!</p> \n",
       "<p>As the search for the Chief continues, a small Elf who lives on the station tugs on your shirt; she'd like to know if you could help her with her <em>word search</em> (your puzzle input). She only has to find one word: <code>XMAS</code>.</p> \n",
       "<p>This word search allows words to be horizontal, vertical, diagonal, written backwards, or even overlapping other words. It's a little unusual, though, as you don't merely need to find one instance of <code>XMAS</code> - you need to find <em>all of them</em>. Here are a few ways <code>XMAS</code> might appear, where irrelevant characters have been replaced with <code>.</code>:</p>\n",
       "<p> </p>\n",
       "<pre><code>..X...\n",
       ".SAMX.\n",
       ".A..A.\n",
       "XMAS.S\n",
       ".X....\n",
       "</code></pre> \n",
       "<p>The actual word search will be full of letters instead. For example:</p> \n",
       "<pre><code>MMMSXXMASM\n",
       "MSAMXMSMSA\n",
       "AMXSXMAAMM\n",
       "MSAMASMSMX\n",
       "XMASAMXAMM\n",
       "XXAMMXXAMA\n",
       "SMSMSASXSS\n",
       "SAXAMASAAA\n",
       "MAMMMXMMMM\n",
       "MXMXAXMASX\n",
       "</code></pre> \n",
       "<p>In this word search, <code>XMAS</code> occurs a total of <code><em>18</em></code> times; here's the same word search again, but where letters not involved in any <code>XMAS</code> have been replaced with <code>.</code>:</p> \n",
       "<pre><code>....XXMAS.\n",
       ".SAMXMS...\n",
       "...S..A...\n",
       "..A.A.MS.X\n",
       "XMASAMX.MM\n",
       "X.....XA.A\n",
       "S.S.S.S.SS\n",
       ".A.A.A.A.A\n",
       "..M.M.M.MM\n",
       ".X.X.XMASX\n",
       "</code></pre> \n",
       "<p>Take a look at the little Elf's word search. <em>How many times does <code>XMAS</code> appear?</em></p>"
      ]
     },
     "execution_count": 4,
     "metadata": {},
     "output_type": "execute_result"
    }
   ],
   "execution_count": 4
  },
  {
   "metadata": {
    "ExecuteTime": {
     "end_time": "2024-12-04T15:03:22.774523200Z",
     "start_time": "2024-12-04T15:03:22.063276400Z"
    }
   },
   "cell_type": "code",
   "source": [
    "val SEARCHED = \"XMAS\"\n",
    "\n",
    "val input = aoc4.input()\n",
    "    .lines()\n",
    "    .filter { it.isNotEmpty() }\n",
    "\n",
    "fun countXMAS(input: List<String>): Int {\n",
    "    val height = input.size\n",
    "    val width = input[0].length\n",
    "    var count = 0\n",
    "\n",
    "    val directions = listOf(\n",
    "        -1 to -1, -1 to 0, -1 to 1,\n",
    "        0 to -1,            0 to 1,\n",
    "        1 to -1,   1 to 0,  1 to 1\n",
    "    )\n",
    "\n",
    "    fun isValid(row: Int, col: Int) = row in 0 until height && col in 0 until width\n",
    "\n",
    "    fun checkWord(startRow: Int, startCol: Int, dRow: Int, dCol: Int): Boolean {\n",
    "        if (!isValid(startRow + 3 * dRow, startCol + 3 * dCol)) return false\n",
    "\n",
    "        return SEARCHED == buildString {\n",
    "            for (i in 0..3) {\n",
    "                append(input[startRow + i * dRow][startCol + i * dCol])\n",
    "            }\n",
    "        }\n",
    "    }\n",
    "\n",
    "    for (row in 0 until height) {\n",
    "        for (col in 0 until width) {\n",
    "            for ((dRow, dCol) in directions) {\n",
    "                if (checkWord(row, col, dRow, dCol)) {\n",
    "                    count++\n",
    "                }\n",
    "            }\n",
    "        }\n",
    "    }\n",
    "\n",
    "    return count\n",
    "}\n",
    "\n",
    "val result = countXMAS(input)\n",
    "\n",
    "aoc4.submitPartOne(result)"
   ],
   "outputs": [
    {
     "data": {
      "text/html": [
       "<div>\n",
       "    <p>Your answer: 2545.</p>\n",
       "    <p>That's the right answer! You are <span class=\"day-success\">one gold star</span> closer to finding the Chief Historian. <a href=\"/2024/day/4#part2\">[Continue to Part Two]</a></p>\n",
       "</div>"
      ]
     },
     "execution_count": 6,
     "metadata": {},
     "output_type": "execute_result"
    }
   ],
   "execution_count": 6
  },
  {
   "metadata": {
    "ExecuteTime": {
     "end_time": "2024-12-04T15:03:33.734607200Z",
     "start_time": "2024-12-04T15:03:33.312751Z"
    }
   },
   "cell_type": "code",
   "source": "aoc4.viewPartTwo()",
   "outputs": [
    {
     "data": {
      "text/html": [
       "<h2 id=\"part2\">--- Part Two ---</h2>\n",
       "<p>The Elf looks quizzically at you. Did you misunderstand the assignment?</p> \n",
       "<p>Looking for the instructions, you flip over the word search to find that this isn't actually an <code><em>XMAS</em></code> puzzle; it's an <span title=\"This part originally involved searching for something else, but this joke was too dumb to pass up.\"><code><em>X-MAS</em></code></span> puzzle in which you're supposed to find two <code>MAS</code> in the shape of an <code>X</code>. One way to achieve that is like this:</p> \n",
       "<pre><code>M.S\n",
       ".A.\n",
       "M.S\n",
       "</code></pre> \n",
       "<p>Irrelevant characters have again been replaced with <code>.</code> in the above diagram. Within the <code>X</code>, each <code>MAS</code> can be written forwards or backwards.</p> \n",
       "<p>Here's the same example from before, but this time all of the <code>X-MAS</code>es have been kept instead:</p> \n",
       "<pre><code>.M.S......\n",
       "..A..MSMS.\n",
       ".M.S.MAA..\n",
       "..A.ASMSM.\n",
       ".M.S.M....\n",
       "..........\n",
       "S.S.S.S.S.\n",
       ".A.A.A.A..\n",
       "M.M.M.M.M.\n",
       "..........\n",
       "</code></pre> \n",
       "<p>In this example, an <code>X-MAS</code> appears <code><em>9</em></code> times.</p> \n",
       "<p>Flip the word search from the instructions back over to the word search side and try again. <em>How many times does an <code>X-MAS</code> appear?</em></p>"
      ]
     },
     "execution_count": 7,
     "metadata": {},
     "output_type": "execute_result"
    }
   ],
   "execution_count": 7
  },
  {
   "metadata": {
    "ExecuteTime": {
     "end_time": "2024-12-04T16:14:43.674281800Z",
     "start_time": "2024-12-04T16:14:43.063019700Z"
    }
   },
   "cell_type": "code",
   "source": [
    "fun countX_MAS(grid: List<String>): Int {\n",
    "    var sum = 0\n",
    "    var data = grid.map { it.toCharArray().toList() }\n",
    "\n",
    "    repeat(4) {\n",
    "        // Durchlaufe alle möglichen Startpunkte im Gitter\n",
    "        for (i in 0 until data.size - 2) {\n",
    "            for (j in 0 until data[i].size - 2) {\n",
    "                if (data[i][j] == 'M' &&\n",
    "                    data[i][j + 2] == 'S' &&\n",
    "                    data[i + 1][j + 1] == 'A' &&\n",
    "                    data[i + 2][j] == 'M' &&\n",
    "                    data[i + 2][j + 2] == 'S') {\n",
    "                    sum++\n",
    "                }\n",
    "            }\n",
    "        }\n",
    "        data = rotate90(data)\n",
    "    }\n",
    "\n",
    "    return sum\n",
    "}\n",
    "\n",
    "/**\n",
    " * Rotates the given grid 90 degrees clockwise.\n",
    " *\n",
    " * @param grid The current grid as a list of lists of Char.\n",
    " * @return The grid rotated by 90 degrees.\n",
    " */\n",
    "fun rotate90(grid: List<List<Char>>): List<List<Char>> {\n",
    "    val numRows = grid.size\n",
    "    val numCols = grid[0].size\n",
    "    // Create new list representing the rotated grid\n",
    "    val rotated = mutableListOf<List<Char>>()\n",
    "\n",
    "    for (col in 0 until numCols) {\n",
    "        val newRow = mutableListOf<Char>()\n",
    "        for (row in numRows - 1 downTo 0) {\n",
    "            newRow.add(grid[row][col])\n",
    "        }\n",
    "        rotated.add(newRow)\n",
    "    }\n",
    "\n",
    "    return rotated\n",
    "}\n",
    "\n",
    "val input2 = aoc4.input()\n",
    "    .lines()\n",
    "    .filter { it.isNotEmpty() }\n",
    "    .map {\n",
    "        it.map {\n",
    "            if (it in releventChars) it\n",
    "            else '.'\n",
    "        }.joinToString(\"\")\n",
    "    }\n",
    "\n",
    "\n",
    "val result = countX_MAS(input2)\n",
    "\n",
    "// println(\"Found X-MAS patterns: $result\")\n",
    "aoc4.submitPartTwo(result)"
   ],
   "outputs": [
    {
     "data": {
      "text/html": [
       "        <div>\n",
       "            <p>Your answer: 1886.</p>\n",
       "            <p>That's the right answer! You are <span class=\"day-success\">one gold star</span> closer to finding the Chief Historian.</p>\n",
       "<p>You have completed Day 4! You can <span class=\"share\">[Share<span class=\"share-content\">on <a href=\"https://bsky.app/intent/compose?text=I+just+completed+%22Ceres+Search%22+%2D+Day+4+%2D+Advent+of+Code+2024+%23AdventOfCode+https%3A%2F%2Fadventofcode%2Ecom%2F2024%2Fday%2F4\" target=\"_blank\">Bluesky</a> <a href=\"https://twitter.com/intent/tweet?text=I+just+completed+%22Ceres+Search%22+%2D+Day+4+%2D+Advent+of+Code+2024&amp;url=https%3A%2F%2Fadventofcode%2Ecom%2F2024%2Fday%2F4&amp;related=ericwastl&amp;hashtags=AdventOfCode\" target=\"_blank\">Twitter</a> <a href=\"javascript:void(0);\" onclick=\"var ms; try{ms=localStorage.getItem('mastodon.server')}finally{} if(typeof ms!=='string')ms=''; ms=prompt('Mastodon Server?',ms); if(typeof ms==='string' &amp;&amp; ms.length){this.href='https://'+ms+'/share?text=I+just+completed+%22Ceres+Search%22+%2D+Day+4+%2D+Advent+of+Code+2024+%23AdventOfCode+https%3A%2F%2Fadventofcode%2Ecom%2F2024%2Fday%2F4';try{localStorage.setItem('mastodon.server',ms);}finally{}}else{return false;}\" target=\"_blank\">Mastodon</a></span>]</span> this victory or <a href=\"/2024\">[Return to Your Advent Calendar]</a>.</p>\n",
       "        </div>"
      ]
     },
     "execution_count": 33,
     "metadata": {},
     "output_type": "execute_result"
    }
   ],
   "execution_count": 33
  },
  {
   "metadata": {},
   "cell_type": "markdown",
   "source": "# Day 5"
  },
  {
   "metadata": {
    "ExecuteTime": {
     "end_time": "2024-12-05T09:41:43.673274900Z",
     "start_time": "2024-12-05T09:41:42.130022300Z"
    }
   },
   "cell_type": "code",
   "source": [
    "import com.toldoven.aoc.notebook.AocClient\n",
    "\n",
    "val aoc5 = AocClient.fromEnv().interactiveDay(2024, 5)\n",
    "aoc5.viewPartOne()"
   ],
   "outputs": [
    {
     "data": {
      "text/html": [
       "<h2>--- Day 5: Print Queue ---</h2>\n",
       "<p>Satisfied with their search on Ceres, the squadron of scholars suggests subsequently scanning the <span title=\"Specifically, the surely-stationary stationery stacks.\">stationery</span> stacks of sub-basement 17.</p> \n",
       "<p>The North Pole printing department is busier than ever this close to Christmas, and while The Historians continue their search of this historically significant facility, an Elf operating a <a href=\"/2017/day/1\">very familiar printer</a> beckons you over.</p> \n",
       "<p>The Elf must recognize you, because they waste no time explaining that the new <em>sleigh launch safety manual</em> updates won't print correctly. Failure to update the safety manuals would be dire indeed, so you offer your services.</p> \n",
       "<p>Safety protocols clearly indicate that new pages for the safety manuals must be printed in a <em>very specific order</em>. The notation <code>X|Y</code> means that if both page number <code>X</code> and page number <code>Y</code> are to be produced as part of an update, page number <code>X</code> <em>must</em> be printed at some point before page number <code>Y</code>.</p> \n",
       "<p>The Elf has for you both the <em>page ordering rules</em> and the <em>pages to produce in each update</em> (your puzzle input), but can't figure out whether each update has the pages in the right order.</p> \n",
       "<p>For example:</p> \n",
       "<pre><code>47|53\n",
       "97|13\n",
       "97|61\n",
       "97|47\n",
       "75|29\n",
       "61|13\n",
       "75|53\n",
       "29|13\n",
       "97|29\n",
       "53|29\n",
       "61|53\n",
       "97|53\n",
       "61|29\n",
       "47|13\n",
       "75|47\n",
       "97|75\n",
       "47|61\n",
       "75|61\n",
       "47|29\n",
       "75|13\n",
       "53|13\n",
       "\n",
       "75,47,61,53,29\n",
       "97,61,53,29,13\n",
       "75,29,13\n",
       "75,97,47,61,53\n",
       "61,13,29\n",
       "97,13,75,29,47\n",
       "</code></pre> \n",
       "<p>The first section specifies the <em>page ordering rules</em>, one per line. The first rule, <code>47|53</code>, means that if an update includes both page number 47 and page number 53, then page number 47 <em>must</em> be printed at some point before page number 53. (47 doesn't necessarily need to be <em>immediately</em> before 53; other pages are allowed to be between them.)</p> \n",
       "<p>The second section specifies the page numbers of each <em>update</em>. Because most safety manuals are different, the pages needed in the updates are different too. The first update, <code>75,47,61,53,29</code>, means that the update consists of page numbers 75, 47, 61, 53, and 29.</p> \n",
       "<p>To get the printers going as soon as possible, start by identifying <em>which updates are already in the right order</em>.</p> \n",
       "<p>In the above example, the first update (<code>75,47,61,53,29</code>) is in the right order:</p> \n",
       "<ul> \n",
       " <li><code>75</code> is correctly first because there are rules that put each other page after it: <code>75|47</code>, <code>75|61</code>, <code>75|53</code>, and <code>75|29</code>.</li> \n",
       " <li><code>47</code> is correctly second because 75 must be before it (<code>75|47</code>) and every other page must be after it according to <code>47|61</code>, <code>47|53</code>, and <code>47|29</code>.</li> \n",
       " <li><code>61</code> is correctly in the middle because 75 and 47 are before it (<code>75|61</code> and <code>47|61</code>) and 53 and 29 are after it (<code>61|53</code> and <code>61|29</code>).</li> \n",
       " <li><code>53</code> is correctly fourth because it is before page number 29 (<code>53|29</code>).</li> \n",
       " <li><code>29</code> is the only page left and so is correctly last.</li> \n",
       "</ul> \n",
       "<p>Because the first update does not include some page numbers, the ordering rules involving those missing page numbers are ignored.</p> \n",
       "<p>The second and third updates are also in the correct order according to the rules. Like the first update, they also do not include every page number, and so only some of the ordering rules apply - within each update, the ordering rules that involve missing page numbers are not used.</p> \n",
       "<p>The fourth update, <code>75,97,47,61,53</code>, is <em>not</em> in the correct order: it would print 75 before 97, which violates the rule <code>97|75</code>.</p> \n",
       "<p>The fifth update, <code>61,13,29</code>, is also <em>not</em> in the correct order, since it breaks the rule <code>29|13</code>.</p> \n",
       "<p>The last update, <code>97,13,75,29,47</code>, is <em>not</em> in the correct order due to breaking several rules.</p> \n",
       "<p>For some reason, the Elves also need to know the <em>middle page number</em> of each update being printed. Because you are currently only printing the correctly-ordered updates, you will need to find the middle page number of each correctly-ordered update. In the above example, the correctly-ordered updates are:</p> \n",
       "<pre><code>75,47,<em>61</em>,53,29\n",
       "97,61,<em>53</em>,29,13\n",
       "75,<em>29</em>,13\n",
       "</code></pre> \n",
       "<p>These have middle page numbers of <code>61</code>, <code>53</code>, and <code>29</code> respectively. Adding these page numbers together gives <code><em>143</em></code>.</p> \n",
       "<p>Of course, you'll need to be careful: the actual list of <em>page ordering rules</em> is bigger and more complicated than the above example.</p> \n",
       "<p>Determine which updates are already in the correct order. <em>What do you get if you add up the middle page number from those correctly-ordered updates?</em></p>"
      ]
     },
     "execution_count": 1,
     "metadata": {},
     "output_type": "execute_result"
    }
   ],
   "execution_count": 1
  },
  {
   "metadata": {
    "ExecuteTime": {
     "end_time": "2024-12-05T10:17:28.894054500Z",
     "start_time": "2024-12-05T10:17:27.998717300Z"
    }
   },
   "cell_type": "code",
   "source": [
    "val input = aoc5.input()\n",
    "    .lines()\n",
    "    .filter { it.isNotEmpty() }\n",
    "\n",
    "data class Rule(val first: Int, val second: Int) {\n",
    "    fun contains(number: Int): Boolean {\n",
    "        return number in setOf(first, second)\n",
    "    }\n",
    "}\n",
    "\n",
    "val rules = input\n",
    "    .filter { it.contains(\"|\") }\n",
    "    .map { it.split(\"|\").map { it.trim() } }\n",
    "    .filter {\n",
    "        when (it.size) {\n",
    "            2 -> true\n",
    "            else -> {\n",
    "                println(\"Invalid input: $it\")\n",
    "                false\n",
    "            }\n",
    "        }\n",
    "    }\n",
    "    .map { Rule(it[0].toInt(), it[1].toInt()) }\n",
    "\n",
    "data class Update(val pages: List<Int>) {\n",
    "    fun isValid(rules: List<Rule>): Boolean {\n",
    "        for (index in pages.indices) {\n",
    "            val page = pages[index]\n",
    "            val pagesBefore = pages.subList(0, index)\n",
    "            val pagesAfter = pages.subList(index + 1, pages.size)\n",
    "\n",
    "            val anyRuleViotaled: Boolean = rules\n",
    "                .filter { it.contains(page) }\n",
    "                .any {\n",
    "                    when (page) {\n",
    "                        it.second -> !pagesBefore.contains(it.first) && pages.contains(it.first)\n",
    "                        it.first -> pagesAfter.contains(it.second) && pagesBefore.contains(it.second)\n",
    "                        else -> false\n",
    "                    }\n",
    "                }\n",
    "\n",
    "            if (anyRuleViotaled) return false\n",
    "        }\n",
    "\n",
    "        return true\n",
    "    }\n",
    "\n",
    "    fun getMiddlePage(): Int {\n",
    "        return pages[pages.size / 2]\n",
    "    }\n",
    "}\n",
    "\n",
    "val updates = input\n",
    "    .filter { !it.contains(\"|\") }\n",
    "    .map { it.split(\",\").map { it.trim() }.filter { it.isNotEmpty() }.map { it.toInt() } }\n",
    "    .map { Update(it) }\n",
    "\n",
    "val validUpdates = updates.filter { it.isValid(rules) }\n",
    "\n",
    "println(\"Valid updates: ${validUpdates.size}\")\n",
    "\n",
    "aoc5.submitPartOne(validUpdates.sumOf { it.getMiddlePage() })"
   ],
   "outputs": [
    {
     "name": "stdout",
     "output_type": "stream",
     "text": [
      "Valid updates: 125\r\n"
     ]
    },
    {
     "data": {
      "text/html": [
       "<div>\n",
       "    <p>Your answer: 6951.</p>\n",
       "    <p>That's the right answer! You are <span class=\"day-success\">one gold star</span> closer to finding the Chief Historian. <a href=\"/2024/day/5#part2\">[Continue to Part Two]</a></p>\n",
       "</div>"
      ]
     },
     "execution_count": 6,
     "metadata": {},
     "output_type": "execute_result"
    }
   ],
   "execution_count": 6
  },
  {
   "metadata": {
    "ExecuteTime": {
     "end_time": "2024-12-05T10:17:44.004791700Z",
     "start_time": "2024-12-05T10:17:43.597334Z"
    }
   },
   "cell_type": "code",
   "source": "aoc5.viewPartTwo()",
   "outputs": [
    {
     "data": {
      "text/html": [
       "<h2 id=\"part2\">--- Part Two ---</h2>\n",
       "<p>While the Elves get to work printing the correctly-ordered updates, you have a little time to fix the rest of them.</p> \n",
       "<p>For each of the <em>incorrectly-ordered updates</em>, use the page ordering rules to put the page numbers in the right order. For the above example, here are the three incorrectly-ordered updates and their correct orderings:</p> \n",
       "<ul> \n",
       " <li><code>75,97,47,61,53</code> becomes <code>97,75,<em>47</em>,61,53</code>.</li> \n",
       " <li><code>61,13,29</code> becomes <code>61,<em>29</em>,13</code>.</li> \n",
       " <li><code>97,13,75,29,47</code> becomes <code>97,75,<em>47</em>,29,13</code>.</li> \n",
       "</ul> \n",
       "<p>After taking <em>only the incorrectly-ordered updates</em> and ordering them correctly, their middle page numbers are <code>47</code>, <code>29</code>, and <code>47</code>. Adding these together produces <code><em>123</em></code>.</p> \n",
       "<p>Find the updates which are not in the correct order. <em>What do you get if you add up the middle page numbers after correctly ordering just those updates?</em></p>"
      ]
     },
     "execution_count": 7,
     "metadata": {},
     "output_type": "execute_result"
    }
   ],
   "execution_count": 7
  },
  {
   "metadata": {
    "ExecuteTime": {
     "end_time": "2024-12-05T10:30:19.622034400Z",
     "start_time": "2024-12-05T10:30:18.697402500Z"
    }
   },
   "cell_type": "code",
   "source": [
    "val incorrectUpdates = updates.filter { !it.isValid(rules) }\n",
    "\n",
    "fun Update.fixOrder(rules: List<Rule>): Update {\n",
    "    // create dependency list and degree count\n",
    "    val graph = pages.associateWith { mutableListOf<Int>() }\n",
    "    val degree = pages.associateWith { 0 }.toMutableMap()\n",
    "\n",
    "    // build graph using relevant rules\n",
    "    rules.forEach { rule ->\n",
    "        if (rule.first in pages && rule.second in pages) {\n",
    "            graph[rule.first]?.add(rule.second)\n",
    "            degree[rule.second] = degree[rule.second]!! + 1\n",
    "        }\n",
    "    }\n",
    "\n",
    "    // find nodes with no incoming edges (degree 0)\n",
    "    val queue = ArrayDeque(pages.filter { degree[it] == 0 })\n",
    "    val result = mutableListOf<Int>()\n",
    "\n",
    "    // process queue in a topological sort\n",
    "    while (queue.isNotEmpty()) {\n",
    "        val current = queue.removeFirst()\n",
    "        result.add(current)\n",
    "\n",
    "        // remove edges from current node\n",
    "        graph[current]?.forEach { neighbor ->\n",
    "            degree[neighbor] = degree[neighbor]!! - 1\n",
    "            if (degree[neighbor] == 0) {\n",
    "                queue.add(neighbor)\n",
    "            }\n",
    "        }\n",
    "    }\n",
    "\n",
    "    return Update(result)\n",
    "}\n",
    "\n",
    "val fixedUpdates = incorrectUpdates.map { it.fixOrder(rules) }\n",
    "\n",
    "aoc5.submitPartTwo(fixedUpdates.sumOf { it.getMiddlePage() })"
   ],
   "outputs": [
    {
     "data": {
      "text/html": [
       "        <div>\n",
       "            <p>Your answer: 4121.</p>\n",
       "            <p>That's the right answer! You are <span class=\"day-success\">one gold star</span> closer to finding the Chief Historian.</p>\n",
       "<p>You have completed Day 5! You can <span class=\"share\">[Share<span class=\"share-content\">on <a href=\"https://bsky.app/intent/compose?text=I+just+completed+%22Print+Queue%22+%2D+Day+5+%2D+Advent+of+Code+2024+%23AdventOfCode+https%3A%2F%2Fadventofcode%2Ecom%2F2024%2Fday%2F5\" target=\"_blank\">Bluesky</a> <a href=\"https://twitter.com/intent/tweet?text=I+just+completed+%22Print+Queue%22+%2D+Day+5+%2D+Advent+of+Code+2024&amp;url=https%3A%2F%2Fadventofcode%2Ecom%2F2024%2Fday%2F5&amp;related=ericwastl&amp;hashtags=AdventOfCode\" target=\"_blank\">Twitter</a> <a href=\"javascript:void(0);\" onclick=\"var ms; try{ms=localStorage.getItem('mastodon.server')}finally{} if(typeof ms!=='string')ms=''; ms=prompt('Mastodon Server?',ms); if(typeof ms==='string' &amp;&amp; ms.length){this.href='https://'+ms+'/share?text=I+just+completed+%22Print+Queue%22+%2D+Day+5+%2D+Advent+of+Code+2024+%23AdventOfCode+https%3A%2F%2Fadventofcode%2Ecom%2F2024%2Fday%2F5';try{localStorage.setItem('mastodon.server',ms);}finally{}}else{return false;}\" target=\"_blank\">Mastodon</a></span>]</span> this victory or <a href=\"/2024\">[Return to Your Advent Calendar]</a>.</p>\n",
       "        </div>"
      ]
     },
     "execution_count": 8,
     "metadata": {},
     "output_type": "execute_result"
    }
   ],
   "execution_count": 8
  },
  {
   "metadata": {},
   "cell_type": "markdown",
   "source": "# Day 6"
  },
  {
   "metadata": {
    "ExecuteTime": {
     "end_time": "2024-12-06T19:47:36.504686Z",
     "start_time": "2024-12-06T19:47:36.378743Z"
    }
   },
   "cell_type": "code",
   "source": [
    "import com.toldoven.aoc.notebook.AocClient\n",
    "\n",
    "val aoc6 = AocClient.fromEnv().interactiveDay(2024, 6)\n",
    "aoc6.viewPartOne()"
   ],
   "outputs": [
    {
     "data": {
      "text/html": [
       "<h2>--- Day 6: Guard Gallivant ---</h2>\n",
       "<p>The Historians use their fancy <a href=\"4\">device</a> again, this time to whisk you all away to the North Pole prototype suit manufacturing lab... in the year <a href=\"/2018/day/5\">1518</a>! It turns out that having direct access to history is very convenient for a group of historians.</p> \n",
       "<p>You still have to be careful of time paradoxes, and so it will be important to avoid anyone from 1518 while The Historians search for the Chief. Unfortunately, a single <em>guard</em> is patrolling this part of the lab.</p> \n",
       "<p>Maybe you can work out where the guard will go ahead of time so that The Historians can search safely?</p> \n",
       "<p>You start by making a map (your puzzle input) of the situation. For example:</p> \n",
       "<pre><code>....#.....\n",
       ".........#\n",
       "..........\n",
       "..#.......\n",
       ".......#..\n",
       "..........\n",
       ".#..^.....\n",
       "........#.\n",
       "#.........\n",
       "......#...\n",
       "</code></pre> \n",
       "<p>The map shows the current position of the guard with <code>^</code> (to indicate the guard is currently facing <em>up</em> from the perspective of the map). Any <em>obstructions</em> - crates, desks, alchemical reactors, etc. - are shown as <code>#</code>.</p> \n",
       "<p>Lab guards in 1518 follow a very strict patrol protocol which involves repeatedly following these steps:</p> \n",
       "<ul> \n",
       " <li>If there is something directly in front of you, turn right 90 degrees.</li> \n",
       " <li>Otherwise, take a step forward.</li> \n",
       "</ul> \n",
       "<p>Following the above protocol, the guard moves up several times until she reaches an obstacle (in this case, a pile of failed suit prototypes):</p> \n",
       "<pre><code>....#.....\n",
       "....^....#\n",
       "..........\n",
       "..#.......\n",
       ".......#..\n",
       "..........\n",
       ".#........\n",
       "........#.\n",
       "#.........\n",
       "......#...\n",
       "</code></pre> \n",
       "<p>Because there is now an obstacle in front of the guard, she turns right before continuing straight in her new facing direction:</p> \n",
       "<pre><code>....#.....\n",
       "........&gt;#\n",
       "..........\n",
       "..#.......\n",
       ".......#..\n",
       "..........\n",
       ".#........\n",
       "........#.\n",
       "#.........\n",
       "......#...\n",
       "</code></pre> \n",
       "<p>Reaching another obstacle (a spool of several <em>very</em> long polymers), she turns right again and continues downward:</p> \n",
       "<pre><code>....#.....\n",
       ".........#\n",
       "..........\n",
       "..#.......\n",
       ".......#..\n",
       "..........\n",
       ".#......v.\n",
       "........#.\n",
       "#.........\n",
       "......#...\n",
       "</code></pre> \n",
       "<p>This process continues for a while, but the guard eventually leaves the mapped area (after walking past a tank of universal solvent):</p> \n",
       "<pre><code>....#.....\n",
       ".........#\n",
       "..........\n",
       "..#.......\n",
       ".......#..\n",
       "..........\n",
       ".#........\n",
       "........#.\n",
       "#.........\n",
       "......#v..\n",
       "</code></pre> \n",
       "<p>By predicting the guard's route, you can determine which specific positions in the lab will be in the patrol path. <em>Including the guard's starting position</em>, the positions visited by the guard before leaving the area are marked with an <code>X</code>:</p> \n",
       "<pre><code>....#.....\n",
       "....XXXXX#\n",
       "....X...X.\n",
       "..#.X...X.\n",
       "..XXXXX#X.\n",
       "..X.X.X.X.\n",
       ".#XXXXXXX.\n",
       ".XXXXXXX#.\n",
       "#XXXXXXX..\n",
       "......#X..\n",
       "</code></pre> \n",
       "<p>In this example, the guard will visit <code><em>41</em></code> distinct positions on your map.</p> \n",
       "<p>Predict the path of the guard. <em>How many distinct positions will the guard visit before leaving the mapped area?</em></p>"
      ]
     },
     "execution_count": 1,
     "metadata": {},
     "output_type": "execute_result"
    }
   ],
   "execution_count": 1
  },
  {
   "metadata": {
    "ExecuteTime": {
     "end_time": "2024-12-06T19:47:41.823355Z",
     "start_time": "2024-12-06T19:47:39.937Z"
    }
   },
   "cell_type": "code",
   "source": [
    "val input = aoc6.input()\n",
    "    .lines()\n",
    "    .filter { it.isNotEmpty() }\n",
    "\n",
    "val grid = mutableListOf<MutableList<Char>>()\n",
    "for (line in input) {\n",
    "    val row = mutableListOf<Char>()\n",
    "    for (char in line) {\n",
    "        row.add(char)\n",
    "    }\n",
    "    grid.add(row)\n",
    "}\n",
    "\n",
    "enum class Direction {\n",
    "    TOP, BOTTOM, LEFT, RIGHT;\n",
    "\n",
    "    fun getNextDirection(): Direction {\n",
    "        return when (this) {\n",
    "            Direction.TOP -> Direction.RIGHT\n",
    "            Direction.RIGHT -> Direction.BOTTOM\n",
    "            Direction.BOTTOM -> Direction.LEFT\n",
    "            Direction.LEFT -> Direction.TOP\n",
    "        }\n",
    "    }\n",
    "}\n",
    "\n",
    "data class Guard(var direction: Direction, var positionX: Int, var positionY: Int) {\n",
    "    fun move(direction: Direction = this.direction) {\n",
    "        when (direction) {\n",
    "            Direction.TOP -> moveBy(0, -1)\n",
    "            Direction.BOTTOM -> moveBy(0, 1)\n",
    "            Direction.LEFT -> moveBy(-1, 0)\n",
    "            Direction.RIGHT -> moveBy(1, 0)\n",
    "        }\n",
    "    }\n",
    "\n",
    "    fun moveBy(stepX: Int, stepY: Int) {\n",
    "        positionX += stepX\n",
    "        positionY += stepY\n",
    "    }\n",
    "\n",
    "    fun setPosition(x: Int, y: Int) {\n",
    "        positionX = x\n",
    "        positionY = y\n",
    "    }\n",
    "\n",
    "    fun getNextPosition(direction: Direction = this.direction): Pair<Int, Int> {\n",
    "        val tmp = Guard(direction, positionX, positionY)\n",
    "        tmp.move()\n",
    "        return tmp.positionX to tmp.positionY\n",
    "    }\n",
    "}\n",
    "\n",
    "fun initGuard(input: List<String>): Guard {\n",
    "    val guard = Guard(Direction.TOP, Int.MIN_VALUE, Int.MIN_VALUE)\n",
    "    for (row in input.indices) {\n",
    "        val rowString = input[row]\n",
    "        for (col in rowString.indices) {\n",
    "            if (rowString[col] == '^') {\n",
    "                guard.setPosition(col, row)\n",
    "                // Wir wissen aus dem Beispiel, dass '^' nach oben schaut.\n",
    "                guard.direction = Direction.TOP\n",
    "                return guard\n",
    "            }\n",
    "        }\n",
    "    }\n",
    "    throw Exception(\"Guard not found\")\n",
    "}\n",
    "\n",
    "/**\n",
    " * Versucht die Wache einen Schritt zu bewegen.\n",
    " * Gibt `true` zurück, wenn die Wache sich noch im Grid befindet,\n",
    " * und `false`, wenn sie das Gebiet verlässt.\n",
    " */\n",
    "fun moveGuard(guard: Guard, grid: MutableList<MutableList<Char>>): Boolean {\n",
    "    var tries = 0\n",
    "    while (tries < 4) {\n",
    "        val (nx, ny) = guard.getNextPosition()\n",
    "        // Prüfe auf OutOfBounds\n",
    "        val outOfBounds = ny < 0 || ny >= grid.size || nx < 0 || nx >= grid[0].size\n",
    "        if (outOfBounds) {\n",
    "            // Die Wache verlässt das Gebiet\n",
    "            // Aktuelle Position noch markieren\n",
    "            grid[guard.positionY][guard.positionX] = 'X'\n",
    "            return false\n",
    "        } else if (grid[ny][nx] != '#') {\n",
    "            // Weg ist frei, aktuelle Position markieren und weitergehen\n",
    "            grid[guard.positionY][guard.positionX] = 'X'\n",
    "            guard.move()\n",
    "            return true\n",
    "        } else {\n",
    "            // Hindernis, drehe nach rechts\n",
    "            guard.direction = guard.direction.getNextDirection()\n",
    "            tries++\n",
    "        }\n",
    "    }\n",
    "    throw Exception(\"Guard couldn't move at all\")\n",
    "}\n",
    "\n",
    "fun predict(grid: MutableList<MutableList<Char>>, input: List<String>): Int {\n",
    "    val guard = initGuard(input)\n",
    "    // Markiere Startposition\n",
    "    grid[guard.positionY][guard.positionX] = 'X'\n",
    "\n",
    "    while (true) {\n",
    "        val stillInGrid = moveGuard(guard, grid)\n",
    "        if (!stillInGrid) {\n",
    "            // Wache hat das Gebiet verlassen\n",
    "            return grid.sumOf { row -> row.count { it == 'X' } }\n",
    "        }\n",
    "    }\n",
    "}\n",
    "\n",
    "val result = predict(grid, input)\n",
    "aoc6.submitPartOne(result)"
   ],
   "outputs": [
    {
     "data": {
      "text/html": [
       "<p>The answer is correct!</p><p>Your answer: 5030</p><small>You already completed this part.</small>"
      ]
     },
     "execution_count": 2,
     "metadata": {},
     "output_type": "execute_result"
    }
   ],
   "execution_count": 2
  },
  {
   "metadata": {
    "ExecuteTime": {
     "end_time": "2024-12-06T19:47:43.372338Z",
     "start_time": "2024-12-06T19:47:43.329055Z"
    }
   },
   "cell_type": "code",
   "source": "aoc6.viewPartTwo()",
   "outputs": [
    {
     "data": {
      "text/html": [
       "<h2 id=\"part2\">--- Part Two ---</h2>\n",
       "<p>While The Historians begin working around the guard's patrol route, you borrow their fancy device and step outside the lab. From the safety of a supply closet, you time travel through the last few months and <a href=\"/2018/day/4\">record</a> the nightly status of the lab's guard post on the walls of the closet.</p> \n",
       "<p>Returning after what seems like only a few seconds to The Historians, they explain that the guard's patrol area is simply too large for them to safely search the lab without getting caught.</p> \n",
       "<p>Fortunately, they are <em>pretty sure</em> that adding a single new obstruction <em>won't</em> cause a time paradox. They'd like to place the new obstruction in such a way that the guard will get <span title=\"This vulnerability was later fixed by having the guard always turn left instead.\"><em>stuck in a loop</em></span>, making the rest of the lab safe to search.</p> \n",
       "<p>To have the lowest chance of creating a time paradox, The Historians would like to know <em>all</em> of the possible positions for such an obstruction. The new obstruction can't be placed at the guard's starting position - the guard is there right now and would notice.</p> \n",
       "<p>In the above example, there are only <code><em>6</em></code> different positions where a new obstruction would cause the guard to get stuck in a loop. The diagrams of these six situations use <code>O</code> to mark the new obstruction, <code>|</code> to show a position where the guard moves up/down, <code>-</code> to show a position where the guard moves left/right, and <code>+</code> to show a position where the guard moves both up/down and left/right.</p> \n",
       "<p>Option one, put a printing press next to the guard's starting position:</p> \n",
       "<pre><code>....#.....\n",
       "....+---+#\n",
       "....|...|.\n",
       "..#.|...|.\n",
       "....|..#|.\n",
       "....|...|.\n",
       ".#.<em>O</em>^---+.\n",
       "........#.\n",
       "#.........\n",
       "......#...\n",
       "</code></pre> \n",
       "<p>Option two, put a stack of failed suit prototypes in the bottom right quadrant of the mapped area:</p>\n",
       "<p> </p>\n",
       "<pre><code>....#.....\n",
       "....+---+#\n",
       "....|...|.\n",
       "..#.|...|.\n",
       "..+-+-+#|.\n",
       "..|.|.|.|.\n",
       ".#+-^-+-+.\n",
       "......<em>O</em>.#.\n",
       "#.........\n",
       "......#...\n",
       "</code></pre> \n",
       "<p>Option three, put a crate of chimney-squeeze prototype fabric next to the standing desk in the bottom right quadrant:</p> \n",
       "<pre><code>....#.....\n",
       "....+---+#\n",
       "....|...|.\n",
       "..#.|...|.\n",
       "..+-+-+#|.\n",
       "..|.|.|.|.\n",
       ".#+-^-+-+.\n",
       ".+----+<em>O</em>#.\n",
       "#+----+...\n",
       "......#...\n",
       "</code></pre> \n",
       "<p>Option four, put an alchemical retroencabulator near the bottom left corner:</p> \n",
       "<pre><code>....#.....\n",
       "....+---+#\n",
       "....|...|.\n",
       "..#.|...|.\n",
       "..+-+-+#|.\n",
       "..|.|.|.|.\n",
       ".#+-^-+-+.\n",
       "..|...|.#.\n",
       "#<em>O</em>+---+...\n",
       "......#...\n",
       "</code></pre> \n",
       "<p>Option five, put the alchemical retroencabulator a bit to the right instead:</p> \n",
       "<pre><code>....#.....\n",
       "....+---+#\n",
       "....|...|.\n",
       "..#.|...|.\n",
       "..+-+-+#|.\n",
       "..|.|.|.|.\n",
       ".#+-^-+-+.\n",
       "....|.|.#.\n",
       "#..<em>O</em>+-+...\n",
       "......#...\n",
       "</code></pre> \n",
       "<p>Option six, put a tank of sovereign glue right next to the tank of universal solvent:</p> \n",
       "<pre><code>....#.....\n",
       "....+---+#\n",
       "....|...|.\n",
       "..#.|...|.\n",
       "..+-+-+#|.\n",
       "..|.|.|.|.\n",
       ".#+-^-+-+.\n",
       ".+----++#.\n",
       "#+----++..\n",
       "......#<em>O</em>..\n",
       "</code></pre> \n",
       "<p>It doesn't really matter what you choose to use as an obstacle so long as you and The Historians can put it into position without the guard noticing. The important thing is having enough options that you can find one that minimizes time paradoxes, and in this example, there are <code><em>6</em></code> different positions you could choose.</p> \n",
       "<p>You need to get the guard stuck in a loop by adding a single new obstruction. <em>How many different positions could you choose for this obstruction?</em></p>"
      ]
     },
     "execution_count": 3,
     "metadata": {},
     "output_type": "execute_result"
    }
   ],
   "execution_count": 3
  },
  {
   "metadata": {
    "ExecuteTime": {
     "end_time": "2024-12-06T19:54:10.590264Z",
     "start_time": "2024-12-06T19:53:34.908760Z"
    }
   },
   "cell_type": "code",
   "source": [
    "import java.util.concurrent.Executors\n",
    "\n",
    "data class Movement(val direction: Direction, val startPosition: Pair<Int, Int>)\n",
    "\n",
    "val gridPartTwo = mutableListOf<MutableList<Char>>()\n",
    "for (line in input) {\n",
    "    val row = mutableListOf<Char>()\n",
    "    for (char in line) {\n",
    "        row.add(char)\n",
    "    }\n",
    "    gridPartTwo.add(row)\n",
    "}\n",
    "\n",
    "fun addObstacle(count: Int, grid: MutableList<MutableList<Char>>):\n",
    "        MutableList<MutableList<Char>>? {\n",
    "    // copy of grid\n",
    "    val result = mutableListOf<MutableList<Char>>()\n",
    "\n",
    "    for (row in grid) {\n",
    "        val newRow = mutableListOf<Char>()\n",
    "        for (char in row) {\n",
    "            newRow.add(char)\n",
    "        }\n",
    "        result.add(newRow)\n",
    "    }\n",
    "\n",
    "    val rowLength = grid[0].size\n",
    "    if (result[count / rowLength][count % rowLength] != '#') {\n",
    "        result[count / rowLength][count % rowLength] = '#'\n",
    "        return result\n",
    "    } else {\n",
    "        // return null if no obstacle can be added\n",
    "        return null\n",
    "    }\n",
    "}\n",
    "\n",
    "fun hasLoop(grid: MutableList<MutableList<Char>>): Boolean {\n",
    "    // Erstelle eine Tiefenkopie des Grids\n",
    "    val gridCopy = grid.map { it.toMutableList() }.toMutableList()\n",
    "\n",
    "    val movements = mutableListOf<Movement>()\n",
    "    val guard = initGuard(input)\n",
    "    gridCopy[guard.positionY][guard.positionX] = 'X'\n",
    "\n",
    "    while (true) {\n",
    "        val stillInGrid = moveGuard(guard, gridCopy)\n",
    "        if (!stillInGrid) {\n",
    "            return false\n",
    "        }\n",
    "\n",
    "        val currentMovement = Movement(guard.direction, guard.positionX to guard.positionY)\n",
    "        if (currentMovement in movements) {\n",
    "            return true\n",
    "        } else {\n",
    "            movements.add(currentMovement)\n",
    "        }\n",
    "    }\n",
    "}\n",
    "\n",
    "/**\n",
    " * find number of loops that can be creted through adding a single obstacle (#)\n",
    " * @param grid the grid to find loops in\n",
    " * @return the number of loops that can be created\n",
    " */\n",
    "fun findLoops(grid: MutableList<MutableList<Char>>): Int {\n",
    "    val gridSize = grid.size * grid[0].size\n",
    "    val grids = (0 until gridSize)\n",
    "        .mapNotNull { addObstacle(it, grid) }\n",
    "\n",
    "    val threadPool = Executors.newVirtualThreadPerTaskExecutor()\n",
    "    try {\n",
    "        val futures = grids.map { grid ->\n",
    "            threadPool.submit<Boolean> {\n",
    "                try {\n",
    "                    hasLoop(grid)\n",
    "                } catch (e: Exception) {\n",
    "                    println(\"Error in thread: ${e.message}\")\n",
    "                    false\n",
    "                }\n",
    "            }\n",
    "        }\n",
    "\n",
    "        return futures.count { it.get() }\n",
    "    } finally {\n",
    "        threadPool.shutdown()\n",
    "    }\n",
    "}\n",
    "\n",
    "val result = findLoops(gridPartTwo)\n",
    "\n",
    "aoc6.submitPartTwo(result)"
   ],
   "outputs": [
    {
     "data": {
      "text/html": [
       "        <div>\n",
       "            <p>Your answer: 1928.</p>\n",
       "            <p>That's the right answer! You are <span class=\"day-success\">one gold star</span> closer to finding the Chief Historian.</p>\n",
       "<p>You have completed Day 6! You can <span class=\"share\">[Share<span class=\"share-content\">on <a href=\"https://bsky.app/intent/compose?text=I+just+completed+%22Guard+Gallivant%22+%2D+Day+6+%2D+Advent+of+Code+2024+%23AdventOfCode+https%3A%2F%2Fadventofcode%2Ecom%2F2024%2Fday%2F6\" target=\"_blank\">Bluesky</a> <a href=\"https://twitter.com/intent/tweet?text=I+just+completed+%22Guard+Gallivant%22+%2D+Day+6+%2D+Advent+of+Code+2024&amp;url=https%3A%2F%2Fadventofcode%2Ecom%2F2024%2Fday%2F6&amp;related=ericwastl&amp;hashtags=AdventOfCode\" target=\"_blank\">Twitter</a> <a href=\"javascript:void(0);\" onclick=\"var ms; try{ms=localStorage.getItem('mastodon.server')}finally{} if(typeof ms!=='string')ms=''; ms=prompt('Mastodon Server?',ms); if(typeof ms==='string' &amp;&amp; ms.length){this.href='https://'+ms+'/share?text=I+just+completed+%22Guard+Gallivant%22+%2D+Day+6+%2D+Advent+of+Code+2024+%23AdventOfCode+https%3A%2F%2Fadventofcode%2Ecom%2F2024%2Fday%2F6';try{localStorage.setItem('mastodon.server',ms);}finally{}}else{return false;}\" target=\"_blank\">Mastodon</a></span>]</span> this victory or <a href=\"/2024\">[Return to Your Advent Calendar]</a>.</p>\n",
       "        </div>"
      ]
     },
     "execution_count": 7,
     "metadata": {},
     "output_type": "execute_result"
    }
   ],
   "execution_count": 7
  },
  {
   "metadata": {},
   "cell_type": "markdown",
   "source": "# Day 7"
  },
  {
   "metadata": {
    "ExecuteTime": {
     "end_time": "2024-12-08T13:32:20.505338Z",
     "start_time": "2024-12-08T13:32:20.401609Z"
    }
   },
   "cell_type": "code",
   "source": [
    "import com.toldoven.aoc.notebook.AocClient\n",
    "\n",
    "val aoc7 = AocClient.fromEnv().interactiveDay(2024, 7)\n",
    "aoc7.viewPartOne()"
   ],
   "outputs": [
    {
     "data": {
      "text/html": [
       "<h2>--- Day 7: Bridge Repair ---</h2>\n",
       "<p>The Historians take you to a familiar <a href=\"/2022/day/9\">rope bridge</a> over a river in the middle of a jungle. The Chief isn't on this side of the bridge, though; maybe he's on the other side?</p> \n",
       "<p>When you go to cross the bridge, you notice a group of engineers trying to repair it. (Apparently, it breaks pretty frequently.) You won't be able to cross until it's fixed.</p> \n",
       "<p>You ask how long it'll take; the engineers tell you that it only needs final calibrations, but some young elephants were playing nearby and <em>stole all the operators</em> from their calibration equations! They could finish the calibrations if only someone could determine which test values could possibly be produced by placing any combination of operators into their calibration equations (your puzzle input).</p> \n",
       "<p>For example:</p> \n",
       "<pre><code>190: 10 19\n",
       "3267: 81 40 27\n",
       "83: 17 5\n",
       "156: 15 6\n",
       "7290: 6 8 6 15\n",
       "161011: 16 10 13\n",
       "192: 17 8 14\n",
       "21037: 9 7 18 13\n",
       "292: 11 6 16 20\n",
       "</code></pre> \n",
       "<p>Each line represents a single equation. The test value appears before the colon on each line; it is your job to determine whether the remaining numbers can be combined with operators to produce the test value.</p> \n",
       "<p>Operators are <em>always evaluated left-to-right</em>, <em>not</em> according to precedence rules. Furthermore, numbers in the equations cannot be rearranged. Glancing into the jungle, you can see elephants holding two different types of operators: <em>add</em> (<code>+</code>) and <em>multiply</em> (<code>*</code>).</p> \n",
       "<p>Only three of the above equations can be made true by inserting operators:</p> \n",
       "<ul> \n",
       " <li><code>190: 10 19</code> has only one position that accepts an operator: between <code>10</code> and <code>19</code>. Choosing <code>+</code> would give <code>29</code>, but choosing <code>*</code> would give the test value (<code>10 * 19 = 190</code>).</li> \n",
       " <li><code>3267: 81 40 27</code> has two positions for operators. Of the four possible configurations of the operators, <em>two</em> cause the right side to match the test value: <code>81 + 40 * 27</code> and <code>81 * 40 + 27</code> both equal <code>3267</code> (when evaluated left-to-right)!</li> \n",
       " <li><code>292: 11 6 16 20</code> can be solved in exactly one way: <code>11 + 6 * 16 + 20</code>.</li> \n",
       "</ul> \n",
       "<p>The engineers just need the <em>total calibration result</em>, which is the sum of the test values from just the equations that could possibly be true. In the above example, the sum of the test values for the three equations listed above is <code><em>3749</em></code>.</p> \n",
       "<p>Determine which equations could possibly be true. <em>What is their total calibration result?</em></p>"
      ]
     },
     "execution_count": 1,
     "metadata": {},
     "output_type": "execute_result"
    }
   ],
   "execution_count": 1
  },
  {
   "metadata": {
    "ExecuteTime": {
     "end_time": "2024-12-08T13:32:24.887191Z",
     "start_time": "2024-12-08T13:32:22.205617Z"
    }
   },
   "cell_type": "code",
   "source": [
    "import java.util.concurrent.Executors\n",
    "\n",
    "data class Equation(val result: Long, val inputs: List<Long>, val isExtended: Boolean = false) {\n",
    "    companion object {\n",
    "        private val operatorCombinations = mutableMapOf<Int, List<List<String>>>()\n",
    "        private val operators = listOf(\"+\", \"*\")\n",
    "\n",
    "        val extendedOperatorCombinations = mutableMapOf<Int, List<List<String>>>()\n",
    "        val extendedOperators = listOf(\"+\", \"*\", \"||\")\n",
    "\n",
    "        fun getOperatorCombinations(isExtended: Boolean): MutableMap<Int, List<List<String>>> {\n",
    "            return when (isExtended) {\n",
    "                true -> extendedOperatorCombinations\n",
    "                false -> operatorCombinations\n",
    "            }\n",
    "        }\n",
    "    }\n",
    "\n",
    "    fun isSolvable(): Boolean {\n",
    "        if (inputs.isEmpty()) return false\n",
    "        if (inputs.size == 1) return inputs[0] == result\n",
    "\n",
    "        val combinations = getOperatorCombinations(this.isExtended)\n",
    "            .getOrPut(inputs.size - 1) {\n",
    "                generateOperatorCombinations(inputs.size - 1)\n",
    "            }\n",
    "\n",
    "        return try {\n",
    "            Executors.newVirtualThreadPerTaskExecutor().use { executor ->\n",
    "                val futures = combinations.map { operators ->\n",
    "                    executor.submit<Boolean> {\n",
    "                        try {\n",
    "                            calculateResult(operators) == result\n",
    "                        } catch (e: Exception) {\n",
    "                            false\n",
    "                        }\n",
    "                    }\n",
    "                }\n",
    "                futures.any { it.get() }\n",
    "            }\n",
    "        } catch (e: Exception) {\n",
    "            false\n",
    "        }\n",
    "    }\n",
    "\n",
    "    private fun calculateResult(operators: List<String>): Long {\n",
    "        var result = inputs[0]\n",
    "        for (i in operators.indices) {\n",
    "            result = when (operators[i]) {\n",
    "                \"+\" -> result + inputs[i + 1]\n",
    "                \"*\" -> result * inputs[i + 1]\n",
    "                \"||\" -> (result.toString() + inputs[i + 1].toString()).toLong()\n",
    "                else -> throw IllegalArgumentException(\"Invalid operator: ${operators[i]}\")\n",
    "            }\n",
    "        }\n",
    "        return result\n",
    "    }\n",
    "\n",
    "    private fun generateOperatorCombinations(size: Int): List<List<String>> {\n",
    "        val operators = if (isExtended) extendedOperators else operators\n",
    "        val result = ArrayList<List<String>>()\n",
    "\n",
    "        fun backtrack(current: MutableList<String>) {\n",
    "            if (current.size == size) {\n",
    "                result.add(current.toList())\n",
    "                return\n",
    "            }\n",
    "            for (operator in operators) {\n",
    "                current.add(operator)\n",
    "                backtrack(current)\n",
    "                current.removeAt(current.lastIndex)\n",
    "            }\n",
    "        }\n",
    "\n",
    "        backtrack(ArrayList(size))\n",
    "        return result\n",
    "    }\n",
    "}\n",
    "\n",
    "val input = aoc7.input()\n",
    "    .lines()\n",
    "    .filter { it.isNotEmpty() }\n",
    "\n",
    "val equations = input\n",
    "    .map { it.split(\":\") }\n",
    "    .map { (result, numbers) ->\n",
    "        Equation(\n",
    "            result = result.toLong(),\n",
    "            inputs = numbers.trim().split(\"\\\\s+\".toRegex()).map { it.toLong() }\n",
    "        )\n",
    "    }\n",
    "\n",
    "val result = Executors.newVirtualThreadPerTaskExecutor().use { executor ->\n",
    "    val futures = equations.map { equation ->\n",
    "        executor.submit<Long> {\n",
    "            if (equation.isSolvable()) equation.result else 0L\n",
    "        }\n",
    "    }\n",
    "    futures.sumOf { it.get() }\n",
    "}\n",
    "\n",
    "aoc7.submitPartOne(result)"
   ],
   "outputs": [
    {
     "data": {
      "text/html": [
       "<p>The answer is correct!</p><p>Your answer: 303876485655</p><small>You already completed this part.</small>"
      ]
     },
     "execution_count": 2,
     "metadata": {},
     "output_type": "execute_result"
    }
   ],
   "execution_count": 2
  },
  {
   "metadata": {
    "ExecuteTime": {
     "end_time": "2024-12-08T13:33:19.284922Z",
     "start_time": "2024-12-08T13:33:18.894083Z"
    }
   },
   "cell_type": "code",
   "source": "aoc7.viewPartTwo()",
   "outputs": [
    {
     "data": {
      "text/html": [
       "<h2 id=\"part2\">--- Part Two ---</h2>\n",
       "<p>The engineers seem concerned; the total calibration result you gave them is nowhere close to being within safety tolerances. Just then, you spot your mistake: some well-hidden elephants are holding a <em>third type of operator</em>.</p> \n",
       "<p>The <a href=\"https://en.wikipedia.org/wiki/Concatenation\" target=\"_blank\">concatenation</a> operator (<code><span title=\"I think you mean &quot;.&quot;.\">||</span></code>) combines the digits from its left and right inputs into a single number. For example, <code>12 || 345</code> would become <code>12345</code>. All operators are still evaluated left-to-right.</p> \n",
       "<p>Now, apart from the three equations that could be made true using only addition and multiplication, the above example has three more equations that can be made true by inserting operators:</p> \n",
       "<ul> \n",
       " <li><code>156: 15 6</code> can be made true through a single concatenation: <code>15 || 6 = 156</code>.</li> \n",
       " <li><code>7290: 6 8 6 15</code> can be made true using <code>6 * 8 || 6 * 15</code>.</li> \n",
       " <li><code>192: 17 8 14</code> can be made true using <code>17 || 8 + 14</code>.</li> \n",
       "</ul> \n",
       "<p>Adding up all six test values (the three that could be made before using only <code>+</code> and <code>*</code> plus the new three that can now be made by also using <code>||</code>) produces the new <em>total calibration result</em> of <code><em>11387</em></code>.</p> \n",
       "<p>Using your new knowledge of elephant hiding spots, determine which equations could possibly be true. <em>What is their total calibration result?</em></p>"
      ]
     },
     "execution_count": 3,
     "metadata": {},
     "output_type": "execute_result"
    }
   ],
   "execution_count": 3
  },
  {
   "metadata": {
    "ExecuteTime": {
     "end_time": "2024-12-08T14:02:40.918759Z",
     "start_time": "2024-12-08T13:33:20.298739Z"
    }
   },
   "cell_type": "code",
   "source": [
    "val equations2 = input\n",
    "    .map { it.split(\":\") }\n",
    "    .map { (result, numbers) ->\n",
    "        Equation(\n",
    "            result = result.toLong(),\n",
    "            inputs = numbers.trim().split(\"\\\\s+\".toRegex()).map { it.toLong() },\n",
    "            isExtended = true\n",
    "        )\n",
    "    }\n",
    "\n",
    "val result2 = Executors.newVirtualThreadPerTaskExecutor().use { executor ->\n",
    "    val futures = equations2.map { equation ->\n",
    "        executor.submit<Long> {\n",
    "            if (equation.isSolvable()) equation.result else 0L\n",
    "        }\n",
    "    }\n",
    "    futures.sumOf { it.get() }\n",
    "}\n",
    "\n",
    "// aoc7.submitPartTwo(result2)\n",
    "println(\"Did not submit part 2, because it is too slow\")"
   ],
   "outputs": [],
   "execution_count": null
  },
  {
   "metadata": {},
   "cell_type": "markdown",
   "source": "# Day 8"
  },
  {
   "metadata": {
    "ExecuteTime": {
     "end_time": "2024-12-08T21:39:28.568689500Z",
     "start_time": "2024-12-08T21:39:27.324785Z"
    }
   },
   "cell_type": "code",
   "source": [
    "import com.toldoven.aoc.notebook.AocClient\n",
    "\n",
    "val aoc8 = AocClient.fromEnv().interactiveDay(2024, 8)\n",
    "aoc8.viewPartOne()"
   ],
   "outputs": [
    {
     "data": {
      "text/html": [
       "<h2>--- Day 8: Resonant Collinearity ---</h2>\n",
       "<p>You find yourselves on the <a href=\"/2016/day/25\">roof</a> of a top-secret Easter Bunny installation.</p> \n",
       "<p>While The Historians do their thing, you take a look at the familiar <em>huge antenna</em>. Much to your surprise, it seems to have been reconfigured to emit a signal that makes people 0.1% more likely to buy Easter Bunny brand <span title=\"They could have imitated delicious chocolate, but the mediocre chocolate is WAY easier to imitate.\">Imitation Mediocre</span> Chocolate as a Christmas gift! Unthinkable!</p> \n",
       "<p>Scanning across the city, you find that there are actually many such antennas. Each antenna is tuned to a specific <em>frequency</em> indicated by a single lowercase letter, uppercase letter, or digit. You create a map (your puzzle input) of these antennas. For example:</p> \n",
       "<pre><code>............\n",
       "........0...\n",
       ".....0......\n",
       ".......0....\n",
       "....0.......\n",
       "......A.....\n",
       "............\n",
       "............\n",
       "........A...\n",
       ".........A..\n",
       "............\n",
       "............\n",
       "</code></pre> \n",
       "<p>The signal only applies its nefarious effect at specific <em>antinodes</em> based on the resonant frequencies of the antennas. In particular, an antinode occurs at any point that is perfectly in line with two antennas of the same frequency - but only when one of the antennas is twice as far away as the other. This means that for any pair of antennas with the same frequency, there are two antinodes, one on either side of them.</p> \n",
       "<p>So, for these two antennas with frequency <code>a</code>, they create the two antinodes marked with <code>#</code>:</p> \n",
       "<pre><code>..........\n",
       "...#......\n",
       "..........\n",
       "....a.....\n",
       "..........\n",
       ".....a....\n",
       "..........\n",
       "......#...\n",
       "..........\n",
       "..........\n",
       "</code></pre> \n",
       "<p>Adding a third antenna with the same frequency creates several more antinodes. It would ideally add four antinodes, but two are off the right side of the map, so instead it adds only two:</p> \n",
       "<pre><code>..........\n",
       "...#......\n",
       "#.........\n",
       "....a.....\n",
       "........a.\n",
       ".....a....\n",
       "..#.......\n",
       "......#...\n",
       "..........\n",
       "..........\n",
       "</code></pre> \n",
       "<p>Antennas with different frequencies don't create antinodes; <code>A</code> and <code>a</code> count as different frequencies. However, antinodes <em>can</em> occur at locations that contain antennas. In this diagram, the lone antenna with frequency capital <code>A</code> creates no antinodes but has a lowercase-<code>a</code>-frequency antinode at its location:</p> \n",
       "<pre><code>..........\n",
       "...#......\n",
       "#.........\n",
       "....a.....\n",
       "........a.\n",
       ".....a....\n",
       "..#.......\n",
       "......A...\n",
       "..........\n",
       "..........\n",
       "</code></pre> \n",
       "<p>The first example has antennas with two different frequencies, so the antinodes they create look like this, plus an antinode overlapping the topmost <code>A</code>-frequency antenna:</p> \n",
       "<pre><code>......#....#\n",
       "...#....0...\n",
       "....#0....#.\n",
       "..#....0....\n",
       "....0....#..\n",
       ".#....A.....\n",
       "...#........\n",
       "#......#....\n",
       "........A...\n",
       ".........A..\n",
       "..........#.\n",
       "..........#.\n",
       "</code></pre> \n",
       "<p>Because the topmost <code>A</code>-frequency antenna overlaps with a <code>0</code>-frequency antinode, there are <code><em>14</em></code> total unique locations that contain an antinode within the bounds of the map.</p> \n",
       "<p>Calculate the impact of the signal. <em>How many unique locations within the bounds of the map contain an antinode?</em></p>"
      ]
     },
     "execution_count": 1,
     "metadata": {},
     "output_type": "execute_result"
    }
   ],
   "execution_count": 1
  },
  {
   "metadata": {
    "ExecuteTime": {
     "end_time": "2024-12-08T22:32:53.151882900Z",
     "start_time": "2024-12-08T22:32:52.415844800Z"
    }
   },
   "cell_type": "code",
   "source": [
    "import java.lang.Exception\n",
    "import java.util.concurrent.Executors\n",
    "import kotlin.math.abs\n",
    "\n",
    "val input = aoc8.input()\n",
    "    .lines()\n",
    "    .filter { it.isNotEmpty() }\n",
    "\n",
    "data class Antenna(val frequency: String, val location: Pair<Int, Int>)\n",
    "\n",
    "/**\n",
    " * Bestimmt die Antinoden einer Liste von Antennen.\n",
    " * Eine Antinode tritt an jedem Punkt auf, der perfekt in Linie mit zwei Antennen der gleichen Frequenz liegt\n",
    " * - aber nur, wenn eine der Antennen doppelt so weit entfernt ist wie die andere.\n",
    " * @param antennas Die Liste der Antennen zur Bestimmung der Antinoden.\n",
    " * @return Die Liste der Antinoden.\n",
    " */\n",
    "fun determineAntinodes(antennas: List<Antenna>): List<Pair<Int, Int>> {\n",
    "    val antinodes = mutableSetOf<Pair<Int, Int>>()\n",
    "\n",
    "    // Iteriere über alle möglichen Paare von Antennen\n",
    "    for (i in antennas.indices) {\n",
    "        for (j in i + 1 until antennas.size) {\n",
    "            val antenna1 = antennas[i]\n",
    "            val antenna2 = antennas[j]\n",
    "\n",
    "            // Berechne den Vektor von antenna1 zu antenna2\n",
    "            val dx = antenna2.location.first - antenna1.location.first\n",
    "            val dy = antenna2.location.second - antenna1.location.second\n",
    "\n",
    "            // Berechne die beiden Antinoden\n",
    "            val antinode1 = Pair(antenna1.location.first - dx, antenna1.location.second - dy)\n",
    "            val antinode2 = Pair(antenna2.location.first + dx, antenna2.location.second + dy)\n",
    "\n",
    "            // Füge nur Antinoden hinzu, die innerhalb der Gittergrenzen liegen\n",
    "            antinodes.add(antinode1)\n",
    "            antinodes.add(antinode2)\n",
    "        }\n",
    "    }\n",
    "\n",
    "    return antinodes.toList()\n",
    "}\n",
    "\n",
    "fun isWithinGrid(point: Pair<Int, Int>, width: Int, height: Int): Boolean {\n",
    "    val (x, y) = point\n",
    "    return x in 0 until width && y in 0 until height\n",
    "}\n",
    "\n",
    "val antennas = input\n",
    "    .mapIndexed { y, line ->\n",
    "        line.mapIndexedNotNull { x, char ->\n",
    "            if (char != '.') Antenna(char.toString(), Pair(x, y)) else null\n",
    "        }\n",
    "    }\n",
    "    .flatten()\n",
    "    .groupBy { it.frequency }\n",
    "\n",
    "// Erstelle das Gitter\n",
    "val gridHeight = input.size\n",
    "val gridWidth = if (input.isNotEmpty()) input[0].length else 0\n",
    "val grid: MutableList<MutableList<String>> = MutableList(gridHeight) { MutableList(gridWidth) { \".\" } }\n",
    "\n",
    "// Funktion zum Schreiben einer Antinode ins Gitter\n",
    "fun writeAntinodeToGrid(antinode: Pair<Int, Int>) {\n",
    "    val (x, y) = antinode\n",
    "    if (y in 0 until gridHeight && x in 0 until gridWidth) {\n",
    "        grid[y][x] = \"#\"\n",
    "    }\n",
    "}\n",
    "\n",
    "// Finde alle Antinoden für jede Frequenzgruppe\n",
    "val antinodes = antennas.values.flatMap { determineAntinodes(it) }\n",
    "    .filter { isWithinGrid(it, gridWidth, gridHeight) }\n",
    "    .distinct()\n",
    "\n",
    "// Schreibe alle Antinoden ins Gitter\n",
    "antinodes.forEach { writeAntinodeToGrid(it) }\n",
    "\n",
    "// Zähle die Anzahl der Antinoden im Gitter\n",
    "val result = grid.sumOf { row -> row.count { it == \"#\" } }\n",
    "\n",
    "// Ausgabe des Ergebnisses\n",
    "aoc8.submitPartOne(result)"
   ],
   "outputs": [
    {
     "data": {
      "text/html": [
       "<div>\n",
       "    <p>Your answer: 359.</p>\n",
       "    <p>That's the right answer! You are <span class=\"day-success\">one gold star</span> closer to finding the Chief Historian. <a href=\"/2024/day/8#part2\">[Continue to Part Two]</a></p>\n",
       "</div>"
      ]
     },
     "execution_count": 7,
     "metadata": {},
     "output_type": "execute_result"
    }
   ],
   "execution_count": 7
  },
  {
   "metadata": {
    "ExecuteTime": {
     "end_time": "2024-12-08T22:33:19.001943300Z",
     "start_time": "2024-12-08T22:33:18.495409Z"
    }
   },
   "cell_type": "code",
   "source": "aoc8.viewPartTwo()",
   "outputs": [
    {
     "data": {
      "text/html": [
       "<h2 id=\"part2\">--- Part Two ---</h2>\n",
       "<p>Watching over your shoulder as you work, one of The Historians asks if you took the effects of resonant harmonics into your calculations.</p> \n",
       "<p>Whoops!</p> \n",
       "<p>After updating your model, it turns out that an antinode occurs at <em>any grid position</em> exactly in line with at least two antennas of the same frequency, regardless of distance. This means that some of the new antinodes will occur at the position of each antenna (unless that antenna is the only one of its frequency).</p> \n",
       "<p>So, these three <code>T</code>-frequency antennas now create many antinodes:</p> \n",
       "<pre><code>T....#....\n",
       "...T......\n",
       ".T....#...\n",
       ".........#\n",
       "..#.......\n",
       "..........\n",
       "...#......\n",
       "..........\n",
       "....#.....\n",
       "..........\n",
       "</code></pre> \n",
       "<p>In fact, the three <code>T</code>-frequency antennas are all exactly in line with two antennas, so they are all also antinodes! This brings the total number of antinodes in the above example to <code><em>9</em></code>.</p> \n",
       "<p>The original example now has <code><em>34</em></code> antinodes, including the antinodes that appear on every antenna:</p> \n",
       "<pre><code>##....#....#\n",
       ".#.#....0...\n",
       "..#.#0....#.\n",
       "..##...0....\n",
       "....0....#..\n",
       ".#...#A....#\n",
       "...#..#.....\n",
       "#....#.#....\n",
       "..#.....A...\n",
       "....#....A..\n",
       ".#........#.\n",
       "...#......##\n",
       "</code></pre> \n",
       "<p>Calculate the impact of the signal using this updated model. <em>How many unique locations within the bounds of the map contain an antinode?</em></p>"
      ]
     },
     "execution_count": 8,
     "metadata": {},
     "output_type": "execute_result"
    }
   ],
   "execution_count": 8
  },
  {
   "metadata": {
    "ExecuteTime": {
     "end_time": "2024-12-08T22:45:44.901886200Z",
     "start_time": "2024-12-08T22:45:44.187993300Z"
    }
   },
   "cell_type": "code",
   "source": [
    "fun gcd(a: Int, b: Int): Int {\n",
    "    return if (b == 0) a else gcd(b, a % b)\n",
    "}\n",
    "\n",
    "val grid2 = mutableListOf<MutableList<String>>()\n",
    "for (line in input) {\n",
    "    val row = mutableListOf<String>()\n",
    "    for (char in line) {\n",
    "        row.add(char.toString())\n",
    "    }\n",
    "    grid2.add(row)\n",
    "}\n",
    "\n",
    "fun isWithinGrid2(x: Int, y: Int) = isWithinGrid(x to y, grid2[0].size, grid2.size)\n",
    "\n",
    "val antinodes = mutableSetOf<Pair<Int, Int>>()\n",
    "\n",
    "fun determineAntinodes2(antennas: List<Antenna>) {\n",
    "    // Wenn es nur eine Antenne einer Frequenz gibt, entstehen keine neuen Antinoden\n",
    "    // (Diese Antenne ist ohne Partner nicht \"in line\" mit einer anderen Antenne)\n",
    "    if (antennas.size < 2) return\n",
    "\n",
    "    for (i in antennas.indices) {\n",
    "        for (j in i + 1 until antennas.size) {\n",
    "            val (x1, y1) = antennas[i].location\n",
    "            val (x2, y2) = antennas[j].location\n",
    "\n",
    "            val dx = x2 - x1\n",
    "            val dy = y2 - y1\n",
    "            val g = gcd(dx, dy)\n",
    "            val stepX = dx / g\n",
    "            val stepY = dy / g\n",
    "\n",
    "            // Jetzt vom ersten Antennenpunkt (x1,y1) in beide Richtungen gehen:\n",
    "            // Richtung 1 (vorwärts)\n",
    "            var tx = x1\n",
    "            var ty = y1\n",
    "            while (isWithinGrid2(tx, ty)) {\n",
    "                antinodes.add(tx to ty)\n",
    "                tx += stepX\n",
    "                ty += stepY\n",
    "            }\n",
    "\n",
    "            // Richtung 2 (rückwärts)\n",
    "            tx = x1\n",
    "            ty = y1\n",
    "            while (isWithinGrid2(tx, ty)) {\n",
    "                antinodes.add(tx to ty)\n",
    "                tx -= stepX\n",
    "                ty -= stepY\n",
    "            }\n",
    "        }\n",
    "    }\n",
    "}\n",
    "\n",
    "Executors.newSingleThreadExecutor().use { executor ->\n",
    "    val futures = antennas.values\n",
    "        .map { executor.submit { determineAntinodes2(it) } }\n",
    "    futures.forEach { it.get() }\n",
    "}\n",
    "\n",
    "// count the number of unique antinodes\n",
    "val result2 = antinodes.distinct().count()\n",
    "\n",
    "aoc8.submitPartTwo(result2)"
   ],
   "outputs": [
    {
     "data": {
      "text/html": [
       "        <div>\n",
       "            <p>Your answer: 1293.</p>\n",
       "            <p>That's the right answer! You are <span class=\"day-success\">one gold star</span> closer to finding the Chief Historian.</p>\n",
       "<p>You have completed Day 8! You can <span class=\"share\">[Share<span class=\"share-content\">on <a href=\"https://bsky.app/intent/compose?text=I+just+completed+%22Resonant+Collinearity%22+%2D+Day+8+%2D+Advent+of+Code+2024+%23AdventOfCode+https%3A%2F%2Fadventofcode%2Ecom%2F2024%2Fday%2F8\" target=\"_blank\">Bluesky</a> <a href=\"https://twitter.com/intent/tweet?text=I+just+completed+%22Resonant+Collinearity%22+%2D+Day+8+%2D+Advent+of+Code+2024&amp;url=https%3A%2F%2Fadventofcode%2Ecom%2F2024%2Fday%2F8&amp;related=ericwastl&amp;hashtags=AdventOfCode\" target=\"_blank\">Twitter</a> <a href=\"javascript:void(0);\" onclick=\"var ms; try{ms=localStorage.getItem('mastodon.server')}finally{} if(typeof ms!=='string')ms=''; ms=prompt('Mastodon Server?',ms); if(typeof ms==='string' &amp;&amp; ms.length){this.href='https://'+ms+'/share?text=I+just+completed+%22Resonant+Collinearity%22+%2D+Day+8+%2D+Advent+of+Code+2024+%23AdventOfCode+https%3A%2F%2Fadventofcode%2Ecom%2F2024%2Fday%2F8';try{localStorage.setItem('mastodon.server',ms);}finally{}}else{return false;}\" target=\"_blank\">Mastodon</a></span>]</span> this victory or <a href=\"/2024\">[Return to Your Advent Calendar]</a>.</p>\n",
       "        </div>"
      ]
     },
     "execution_count": 10,
     "metadata": {},
     "output_type": "execute_result"
    }
   ],
   "execution_count": 10
  },
  {
   "metadata": {},
   "cell_type": "markdown",
   "source": "# AoC 9"
  },
  {
   "metadata": {
    "ExecuteTime": {
     "end_time": "2024-12-09T09:04:19.842263100Z",
     "start_time": "2024-12-09T09:04:18.649982100Z"
    }
   },
   "cell_type": "code",
   "source": [
    "import com.toldoven.aoc.notebook.AocClient\n",
    "\n",
    "val aoc9 = AocClient.fromEnv().interactiveDay(2024, 9)\n",
    "aoc9.viewPartOne()"
   ],
   "outputs": [
    {
     "data": {
      "text/html": [
       "<h2>--- Day 9: Disk Fragmenter ---</h2>\n",
       "<p>Another push of the button leaves you in the familiar hallways of some friendly <a href=\"/2021/day/23\">amphipods</a>! Good thing you each somehow got your own personal mini submarine. The Historians jet away in search of the Chief, mostly by driving directly into walls.</p> \n",
       "<p>While The Historians quickly figure out how to pilot these things, you notice an amphipod in the corner struggling with his computer. He's trying to make more contiguous free space by compacting all of the files, but his program isn't working; you offer to help.</p> \n",
       "<p>He shows you the <em>disk map</em> (your puzzle input) he's already generated. For example:</p> \n",
       "<pre><code>2333133121414131402</code></pre> \n",
       "<p>The disk map uses a dense format to represent the layout of <em>files</em> and <em>free space</em> on the disk. The digits alternate between indicating the length of a file and the length of free space.</p> \n",
       "<p>So, a disk map like <code>12345</code> would represent a one-block file, two blocks of free space, a three-block file, four blocks of free space, and then a five-block file. A disk map like <code>90909</code> would represent three nine-block files in a row (with no free space between them).</p> \n",
       "<p>Each file on disk also has an <em>ID number</em> based on the order of the files as they appear <em>before</em> they are rearranged, starting with ID <code>0</code>. So, the disk map <code>12345</code> has three files: a one-block file with ID <code>0</code>, a three-block file with ID <code>1</code>, and a five-block file with ID <code>2</code>. Using one character for each block where digits are the file ID and <code>.</code> is free space, the disk map <code>12345</code> represents these individual blocks:</p> \n",
       "<pre><code>0..111....22222</code></pre> \n",
       "<p>The first example above, <code>2333133121414131402</code>, represents these individual blocks:</p> \n",
       "<pre><code>00...111...2...333.44.5555.6666.777.888899</code></pre> \n",
       "<p>The amphipod would like to <em>move file blocks one at a time</em> from the end of the disk to the leftmost free space block (until there are no gaps remaining between file blocks). For the disk map <code>12345</code>, the process looks like this:</p> \n",
       "<pre><code>0..111....22222\n",
       "02.111....2222.\n",
       "022111....222..\n",
       "0221112...22...\n",
       "02211122..2....\n",
       "022111222......\n",
       "</code></pre> \n",
       "<p>The first example requires a few more steps:</p> \n",
       "<pre><code>00...111...2...333.44.5555.6666.777.888899\n",
       "009..111...2...333.44.5555.6666.777.88889.\n",
       "0099.111...2...333.44.5555.6666.777.8888..\n",
       "00998111...2...333.44.5555.6666.777.888...\n",
       "009981118..2...333.44.5555.6666.777.88....\n",
       "0099811188.2...333.44.5555.6666.777.8.....\n",
       "009981118882...333.44.5555.6666.777.......\n",
       "0099811188827..333.44.5555.6666.77........\n",
       "00998111888277.333.44.5555.6666.7.........\n",
       "009981118882777333.44.5555.6666...........\n",
       "009981118882777333644.5555.666............\n",
       "00998111888277733364465555.66.............\n",
       "0099811188827773336446555566..............\n",
       "</code></pre> \n",
       "<p>The final step of this file-compacting process is to update the <em>filesystem checksum</em>. To calculate the checksum, add up the result of multiplying each of these blocks' position with the file ID number it contains. The leftmost block is in position <code>0</code>. If a block contains free space, skip it instead.</p> \n",
       "<p>Continuing the first example, the first few blocks' position multiplied by its file ID number are <code>0 * 0 = 0</code>, <code>1 * 0 = 0</code>, <code>2 * 9 = 18</code>, <code>3 * 9 = 27</code>, <code>4 * 8 = 32</code>, and so on. In this example, the checksum is the sum of these, <code><em>1928</em></code>.</p> \n",
       "<p><span title=\"Bonus points if you make a cool animation of this process.\">Compact the amphipod's hard drive</span> using the process he requested. <em>What is the resulting filesystem checksum?</em> <span class=\"quiet\">(Be careful copy/pasting the input for this puzzle; it is a single, very long line.)</span></p>"
      ]
     },
     "execution_count": 1,
     "metadata": {},
     "output_type": "execute_result"
    }
   ],
   "execution_count": 1
  },
  {
   "metadata": {
    "ExecuteTime": {
     "end_time": "2024-12-09T10:01:10.005482700Z",
     "start_time": "2024-12-09T10:01:04.355873900Z"
    }
   },
   "cell_type": "code",
   "source": [
    "val input = aoc9.input()\n",
    "    .lines()\n",
    "    .filter { it.isNotEmpty() }\n",
    "\n",
    "if (input.size != 1) {\n",
    "    throw Exception(\"Expected exactly one line of input, found ${input.size}\")\n",
    "}\n",
    "\n",
    "// Parse the input correctly, handling both file and gap, and any trailing file\n",
    "interface DataElement {\n",
    "    val size: Int\n",
    "}\n",
    "\n",
    "data class File(val id: Int, override val size: Int) : DataElement\n",
    "data class Gap(override val size: Int) : DataElement\n",
    "\n",
    "val diskMap = input[0]\n",
    "val data = mutableListOf<DataElement>()\n",
    "var id = 0\n",
    "var i = 0\n",
    "while (i < diskMap.length) {\n",
    "    // Parse file size\n",
    "    val fileSize = diskMap[i].toString().toInt()\n",
    "    data.add(File(id++, fileSize))\n",
    "    i++\n",
    "\n",
    "    // Parse gap size if present\n",
    "    if (i < diskMap.length) {\n",
    "        val gapSize = diskMap[i].toString().toInt()\n",
    "        data.add(Gap(gapSize))\n",
    "        i++\n",
    "    }\n",
    "}\n",
    "\n",
    "// Convert the parsed data into a flat list of blocks\n",
    "// Using Int? where null represents a gap and a non-null integer represents a file ID\n",
    "val layout = mutableListOf<Int?>()\n",
    "for (element in data) {\n",
    "    when (element) {\n",
    "        is File -> repeat(element.size) { layout.add(element.id) }\n",
    "        is Gap -> repeat(element.size) { layout.add(null) }\n",
    "    }\n",
    "}\n",
    "\n",
    "// Function to perform the compacting process\n",
    "fun compactLayout(layout: MutableList<Int?>): MutableList<Int?> {\n",
    "    while (true) {\n",
    "        val firstGap = layout.indexOf(null)\n",
    "        if (firstGap == -1) break // No gaps left\n",
    "\n",
    "        // Find the first gap from the left\n",
    "        val leftmostGap = firstGap\n",
    "\n",
    "        // Find the rightmost file block after the leftmost gap\n",
    "        // Ensure we're searching only after the leftmost gap\n",
    "        val rightmostFile = layout\n",
    "            .withIndex()\n",
    "            .filter { it.index > leftmostGap && it.value != null }\n",
    "            .maxByOrNull { it.index }\n",
    "            ?.index\n",
    "\n",
    "        if (rightmostFile == null || rightmostFile < leftmostGap) break // No more files to move\n",
    "\n",
    "        // Move the rightmost file block to the leftmost gap\n",
    "        val fileId = layout[rightmostFile]!!\n",
    "        layout[leftmostGap] = fileId\n",
    "        layout[rightmostFile] = null\n",
    "    }\n",
    "    return layout\n",
    "}\n",
    "\n",
    "val compactedLayout = compactLayout(layout)\n",
    "\n",
    "// Compute the checksum\n",
    "val checksum = compactedLayout\n",
    "    .mapIndexed { index, fileId ->\n",
    "        if (fileId == null) {\n",
    "            0L\n",
    "        } else {\n",
    "            index.toLong() * fileId.toLong()\n",
    "        }\n",
    "    }\n",
    "    .sum()\n",
    "\n",
    "aoc9.submitPartOne(checksum)"
   ],
   "outputs": [
    {
     "data": {
      "text/html": [
       "<div>\n",
       "    <p>Your answer: 6320029754031.</p>\n",
       "    <p>That's the right answer! You are <span class=\"day-success\">one gold star</span> closer to finding the Chief Historian. <a href=\"/2024/day/9#part2\">[Continue to Part Two]</a></p>\n",
       "</div>"
      ]
     },
     "execution_count": 10,
     "metadata": {},
     "output_type": "execute_result"
    }
   ],
   "execution_count": 10
  },
  {
   "metadata": {
    "ExecuteTime": {
     "end_time": "2024-12-09T10:01:22.247941100Z",
     "start_time": "2024-12-09T10:01:21.776015800Z"
    }
   },
   "cell_type": "code",
   "source": "aoc9.viewPartTwo()",
   "outputs": [
    {
     "data": {
      "text/html": [
       "<h2 id=\"part2\">--- Part Two ---</h2>\n",
       "<p>Upon completion, two things immediately become clear. First, the disk definitely has a lot more contiguous free space, just like the amphipod hoped. Second, the computer is running much more slowly! Maybe introducing all of that <a href=\"https://en.wikipedia.org/wiki/File_system_fragmentation\" target=\"_blank\">file system fragmentation</a> was a bad idea?</p> \n",
       "<p>The eager amphipod already has a new plan: rather than move individual blocks, he'd like to try compacting the files on his disk by moving <em>whole files</em> instead.</p> \n",
       "<p>This time, attempt to move whole files to the leftmost span of free space blocks that could fit the file. Attempt to move each file exactly once in order of <em>decreasing file ID number</em> starting with the file with the highest file ID number. If there is no span of free space to the left of a file that is large enough to fit the file, the file does not move.</p> \n",
       "<p>The first example from above now proceeds differently:</p> \n",
       "<pre><code>00...111...2...333.44.5555.6666.777.888899\n",
       "0099.111...2...333.44.5555.6666.777.8888..\n",
       "0099.1117772...333.44.5555.6666.....8888..\n",
       "0099.111777244.333....5555.6666.....8888..\n",
       "00992111777.44.333....5555.6666.....8888..\n",
       "</code></pre> \n",
       "<p>The process of updating the filesystem checksum is the same; now, this example's checksum would be <code><em>2858</em></code>.</p> \n",
       "<p>Start over, now compacting the amphipod's hard drive using this new method instead. <em>What is the resulting filesystem checksum?</em></p>"
      ]
     },
     "execution_count": 11,
     "metadata": {},
     "output_type": "execute_result"
    }
   ],
   "execution_count": 11
  },
  {
   "metadata": {
    "ExecuteTime": {
     "end_time": "2024-12-09T11:00:50.874765900Z",
     "start_time": "2024-12-09T11:00:49.786909200Z"
    }
   },
   "cell_type": "code",
   "source": [
    "fun optimizeLayoutWithWholeFiles(data: MutableList<DataElement>): List<DataElement> {\n",
    "    val result = data.toMutableList()\n",
    "    val files = result.filterIsInstance<File>().sortedByDescending { it.id }\n",
    "\n",
    "    for (file in files) {\n",
    "        // Find current position of the file\n",
    "        val currentIndex = result.indexOfFirst { it is File && it.id == file.id }\n",
    "        if (currentIndex == -1) continue\n",
    "\n",
    "        // Calculate current position from start\n",
    "        var currentPosition = 0\n",
    "        for (i in 0 until currentIndex) {\n",
    "            currentPosition += result[i].size\n",
    "        }\n",
    "\n",
    "        // Find leftmost suitable gap\n",
    "        var bestGapIndex = -1\n",
    "        var bestGapPosition = currentPosition\n",
    "        var position = 0\n",
    "\n",
    "        for (i in 0 until currentIndex) {\n",
    "            if (result[i] is Gap && result[i].size >= file.size) {\n",
    "                bestGapIndex = i\n",
    "                bestGapPosition = position\n",
    "                break\n",
    "            }\n",
    "            position += result[i].size\n",
    "        }\n",
    "\n",
    "        // Only move if we found a gap to the left\n",
    "        if (bestGapIndex != -1 && bestGapPosition < currentPosition) {\n",
    "            // Handle the gap splitting\n",
    "            val gap = result[bestGapIndex] as Gap\n",
    "            result[bestGapIndex] = file\n",
    "\n",
    "            if (gap.size > file.size) {\n",
    "                result.add(bestGapIndex + 1, Gap(gap.size - file.size))\n",
    "            }\n",
    "\n",
    "            // Remove the file from its original position\n",
    "            // Fix: Use proper Kotlin syntax for the offset calculation\n",
    "            val offset = if (bestGapIndex < currentIndex) 1 else 0\n",
    "            result.removeAt(currentIndex + offset)\n",
    "\n",
    "            // Merge any adjacent gaps\n",
    "            var i = 0\n",
    "            while (i < result.size - 1) {\n",
    "                if (result[i] is Gap && result[i + 1] is Gap) {\n",
    "                    result[i] = Gap(result[i].size + result[i + 1].size)\n",
    "                    result.removeAt(i + 1)\n",
    "                } else {\n",
    "                    i++\n",
    "                }\n",
    "            }\n",
    "        }\n",
    "    }\n",
    "\n",
    "    return result\n",
    "}\n",
    "\n",
    "\n",
    "val layoutPart2 = optimizeLayoutWithWholeFiles(dataPart2)\n",
    "\n",
    "val layoutRepresentation = mutableListOf<String>()\n",
    "for (element in layoutPart2) {\n",
    "    when (element) {\n",
    "        is File -> repeat(element.size) { layoutRepresentation.add(element.id.toString()) }\n",
    "        is Gap -> repeat(element.size) { layoutRepresentation.add(\".\") }\n",
    "    }\n",
    "}\n",
    "\n",
    "val checksumPart2 = layoutRepresentation\n",
    "    .mapIndexed { index, c ->\n",
    "        if (c == \".\") {\n",
    "            0L\n",
    "        } else {\n",
    "            index.toLong() * c.toString().toLong()\n",
    "        }\n",
    "    }\n",
    "    .sum()\n",
    "\n",
    "// aoc9.submitPartTwo(checksumPart2)\n",
    "println(\"Did not solve part 2\")"
   ],
   "outputs": [
    {
     "data": {
      "text/html": [
       "<div>\n",
       "    <p>Your answer: 16105103472188.</p>\n",
       "    <p>That's not the right answer. If you're stuck, make sure you're using the full input data; there are also some general tips on the <a href=\"/2024/about\">about page</a>, or you can ask for hints on the <a href=\"https://www.reddit.com/r/adventofcode/\" target=\"_blank\">subreddit</a>. Because you have guessed incorrectly 5 times on this puzzle, please wait 5 minutes before trying again. <a href=\"/2024/day/9\">[Return to Day 9]</a></p>\n",
       "</div>"
      ]
     },
     "execution_count": 22,
     "metadata": {},
     "output_type": "execute_result"
    }
   ],
   "execution_count": 22
  },
  {
   "metadata": {},
   "cell_type": "markdown",
   "source": "# Day 10"
  },
  {
   "metadata": {
    "ExecuteTime": {
     "end_time": "2024-12-10T07:30:51.292449Z",
     "start_time": "2024-12-10T07:30:51.255088Z"
    }
   },
   "cell_type": "code",
   "source": [
    "import com.toldoven.aoc.notebook.AocClient\n",
    "\n",
    "val aoc10 = AocClient.fromEnv().interactiveDay(2024, 10)\n",
    "aoc10.viewPartOne()"
   ],
   "outputs": [
    {
     "data": {
      "text/html": [
       "<h2>--- Day 10: Hoof It ---</h2>\n",
       "<p>You all arrive at a <a href=\"/2023/day/15\">Lava Production Facility</a> on a floating island in the sky. As the others begin to search the massive industrial complex, you feel a small nose boop your leg and look down to discover a <span title=\"i knew you would come back\">reindeer</span> wearing a hard hat.</p> \n",
       "<p>The reindeer is holding a book titled \"Lava Island Hiking Guide\". However, when you open the book, you discover that most of it seems to have been scorched by lava! As you're about to ask how you can help, the reindeer brings you a blank <a href=\"https://en.wikipedia.org/wiki/Topographic_map\" target=\"_blank\">topographic map</a> of the surrounding area (your puzzle input) and looks up at you excitedly.</p> \n",
       "<p>Perhaps you can help fill in the missing hiking trails?</p> \n",
       "<p>The topographic map indicates the <em>height</em> at each position using a scale from <code>0</code> (lowest) to <code>9</code> (highest). For example:</p> \n",
       "<pre><code>0123\n",
       "1234\n",
       "8765\n",
       "9876\n",
       "</code></pre> \n",
       "<p>Based on un-scorched scraps of the book, you determine that a good hiking trail is <em>as long as possible</em> and has an <em>even, gradual, uphill slope</em>. For all practical purposes, this means that a <em>hiking trail</em> is any path that starts at height <code>0</code>, ends at height <code>9</code>, and always increases by a height of exactly 1 at each step. Hiking trails never include diagonal steps - only up, down, left, or right (from the perspective of the map).</p> \n",
       "<p>You look up from the map and notice that the reindeer has helpfully begun to construct a small pile of pencils, markers, rulers, compasses, stickers, and other equipment you might need to update the map with hiking trails.</p> \n",
       "<p>A <em>trailhead</em> is any position that starts one or more hiking trails - here, these positions will always have height <code>0</code>. Assembling more fragments of pages, you establish that a trailhead's <em>score</em> is the number of <code>9</code>-height positions reachable from that trailhead via a hiking trail. In the above example, the single trailhead in the top left corner has a score of <code>1</code> because it can reach a single <code>9</code> (the one in the bottom left).</p> \n",
       "<p>This trailhead has a score of <code>2</code>:</p> \n",
       "<pre><code>...0...\n",
       "...1...\n",
       "...2...\n",
       "6543456\n",
       "7.....7\n",
       "8.....8\n",
       "9.....9\n",
       "</code></pre> \n",
       "<p>(The positions marked <code>.</code> are impassable tiles to simplify these examples; they do not appear on your actual topographic map.)</p> \n",
       "<p>This trailhead has a score of <code>4</code> because every <code>9</code> is reachable via a hiking trail except the one immediately to the left of the trailhead:</p> \n",
       "<pre><code>..90..9\n",
       "...1.98\n",
       "...2..7\n",
       "6543456\n",
       "765.987\n",
       "876....\n",
       "987....\n",
       "</code></pre> \n",
       "<p>This topographic map contains <em>two</em> trailheads; the trailhead at the top has a score of <code>1</code>, while the trailhead at the bottom has a score of <code>2</code>:</p> \n",
       "<pre><code>10..9..\n",
       "2...8..\n",
       "3...7..\n",
       "4567654\n",
       "...8..3\n",
       "...9..2\n",
       ".....01\n",
       "</code></pre> \n",
       "<p>Here's a larger example:</p> \n",
       "<pre><code>89010123\n",
       "78121874\n",
       "87430965\n",
       "96549874\n",
       "45678903\n",
       "32019012\n",
       "01329801\n",
       "10456732\n",
       "</code></pre> \n",
       "<p>This larger example has 9 trailheads. Considering the trailheads in reading order, they have scores of <code>5</code>, <code>6</code>, <code>5</code>, <code>3</code>, <code>1</code>, <code>3</code>, <code>5</code>, <code>3</code>, and <code>5</code>. Adding these scores together, the sum of the scores of all trailheads is <code><em>36</em></code>.</p> \n",
       "<p>The reindeer gleefully carries over a protractor and adds it to the pile. <em>What is the sum of the scores of all trailheads on your topographic map?</em></p>"
      ]
     },
     "execution_count": 3,
     "metadata": {},
     "output_type": "execute_result"
    }
   ],
   "execution_count": 3
  },
  {
   "metadata": {
    "ExecuteTime": {
     "end_time": "2024-12-10T07:47:38.124193Z",
     "start_time": "2024-12-10T07:47:37.573282Z"
    }
   },
   "cell_type": "code",
   "source": [
    "val input = day10.input()\n",
    "    .lines()\n",
    "    .filter { it.isNotEmpty() }\n",
    "\n",
    "enum class Direction(val vector: Pair<Int, Int>) {\n",
    "    UP(-1 to 0),\n",
    "    DOWN(1 to 0),\n",
    "    LEFT(0 to -1),\n",
    "    RIGHT(0 to 1)\n",
    "}\n",
    "\n",
    "data class Position(val x: Int, val y: Int) {\n",
    "\n",
    "    /**\n",
    "     * Returns all positions with height 9 that are reachable from this position.<br>\n",
    "     * Reachable positions are those that can be reached by moving in any direction (up, down, left, right)\n",
    "     * and where the height increases by 1.\n",
    "     */\n",
    "    fun findAllReachable9(grid: List<List<Char>>): List<Position> {\n",
    "        val reachable = mutableSetOf<Position>()\n",
    "        var current: Pair<Position, Int> = Pair(this, grid[y][x].digitToInt())\n",
    "        val visited = mutableSetOf<Pair<Position, Int>>()\n",
    "        val queue = ArrayDeque<Pair<Position, Int>>()\n",
    "        queue.add(current)\n",
    "        while (queue.isNotEmpty()) {\n",
    "            current = queue.removeFirst()\n",
    "            if (current.second == 9) {\n",
    "                reachable.add(current.first)\n",
    "                visited.add(current)\n",
    "            } else if (current.second < 9 && !visited.contains(current)) {\n",
    "                visited.add(current)\n",
    "                queue.addAll(getValidNeighbors(grid, current))\n",
    "            }\n",
    "\n",
    "        }\n",
    "\n",
    "        return reachable.toList()\n",
    "    }\n",
    "\n",
    "    fun countAllReachable9(grid: List<List<Char>>): Int = findAllReachable9(grid).size\n",
    "\n",
    "    private fun getValidNeighbors(grid: List<List<Char>>, current: Pair<Position, Int>)\n",
    "            : Collection<Pair<Position, Int>> {\n",
    "        val validNeighbors = mutableListOf<Pair<Position, Int>>()\n",
    "        for (direction in Direction.values()) {\n",
    "            val neighbor = Position(\n",
    "                current.first.x + direction.vector.second,  // x + dx\n",
    "                current.first.y + direction.vector.first    // y + dy\n",
    "            )\n",
    "            if (neighbor.y in grid.indices && neighbor.x in grid[0].indices) {\n",
    "                val currentHeight = current.second\n",
    "                if (grid[neighbor.y][neighbor.x] == '.') {\n",
    "                    continue\n",
    "                }\n",
    "                val neighborHeight = grid[neighbor.y][neighbor.x].digitToInt()\n",
    "                if (neighborHeight == currentHeight + 1) {\n",
    "                    validNeighbors.add(Pair(neighbor, neighborHeight))\n",
    "                }\n",
    "            }\n",
    "        }\n",
    "        return validNeighbors\n",
    "    }\n",
    "}\n",
    "\n",
    "val grid = input\n",
    "    .map { it.toCharArray().toList() }\n",
    "\n",
    "val startingPoints = grid\n",
    "    .mapIndexed { y, row ->\n",
    "        row.mapIndexed { x, c ->\n",
    "            if (c == '0') Position(x, y) else null\n",
    "        }\n",
    "            .filterNotNull()\n",
    "    }\n",
    "    .flatten()\n",
    "\n",
    "val solution1 = startingPoints\n",
    "    .map { it.countAllReachable9(grid) }\n",
    "    .sum()\n",
    "\n",
    "aoc10.submitPartOne(solution1)"
   ],
   "outputs": [
    {
     "data": {
      "text/html": [
       "<div>\n",
       "    <p>Your answer: 659.</p>\n",
       "    <p>That's the right answer! You are <span class=\"day-success\">one gold star</span> closer to finding the Chief Historian. <a href=\"/2024/day/10#part2\">[Continue to Part Two]</a></p>\n",
       "</div>"
      ]
     },
     "execution_count": 11,
     "metadata": {},
     "output_type": "execute_result"
    }
   ],
   "execution_count": 11
  },
  {
   "metadata": {
    "ExecuteTime": {
     "end_time": "2024-12-10T07:47:55.480942Z",
     "start_time": "2024-12-10T07:47:55.085772Z"
    }
   },
   "cell_type": "code",
   "source": "aoc10.viewPartTwo()",
   "outputs": [
    {
     "data": {
      "text/html": [
       "<h2 id=\"part2\">--- Part Two ---</h2>\n",
       "<p>The reindeer spends a few minutes reviewing your hiking trail map before realizing something, disappearing for a few minutes, and finally returning with yet another slightly-charred piece of paper.</p> \n",
       "<p>The paper describes a second way to measure a trailhead called its <em>rating</em>. A trailhead's rating is the <em>number of distinct hiking trails</em> which begin at that trailhead. For example:</p> \n",
       "<pre><code>.....0.\n",
       "..4321.\n",
       "..5..2.\n",
       "..6543.\n",
       "..7..4.\n",
       "..8765.\n",
       "..9....\n",
       "</code></pre> \n",
       "<p>The above map has a single trailhead; its rating is <code>3</code> because there are exactly three distinct hiking trails which begin at that position:</p> \n",
       "<pre><code>.....0.   .....0.   .....0.\n",
       "..4321.   .....1.   .....1.\n",
       "..5....   .....2.   .....2.\n",
       "..6....   ..6543.   .....3.\n",
       "..7....   ..7....   .....4.\n",
       "..8....   ..8....   ..8765.\n",
       "..9....   ..9....   ..9....\n",
       "</code></pre> \n",
       "<p>Here is a map containing a single trailhead with rating <code>13</code>:</p> \n",
       "<pre><code>..90..9\n",
       "...1.98\n",
       "...2..7\n",
       "6543456\n",
       "765.987\n",
       "876....\n",
       "987....\n",
       "</code></pre> \n",
       "<p>This map contains a single trailhead with rating <code>227</code> (because there are <code>121</code> distinct hiking trails that lead to the <code>9</code> on the right edge and <code>106</code> that lead to the <code>9</code> on the bottom edge):</p> \n",
       "<pre><code>012345\n",
       "123456\n",
       "234567\n",
       "345678\n",
       "4.6789\n",
       "56789.\n",
       "</code></pre> \n",
       "<p>Here's the larger example from before:</p> \n",
       "<pre><code>89010123\n",
       "78121874\n",
       "87430965\n",
       "96549874\n",
       "45678903\n",
       "32019012\n",
       "01329801\n",
       "10456732\n",
       "</code></pre> \n",
       "<p>Considering its trailheads in reading order, they have ratings of <code>20</code>, <code>24</code>, <code>10</code>, <code>4</code>, <code>1</code>, <code>4</code>, <code>5</code>, <code>8</code>, and <code>5</code>. The sum of all trailhead ratings in this larger example topographic map is <code><em>81</em></code>.</p> \n",
       "<p>You're not sure how, but the reindeer seems to have crafted some tiny flags out of toothpicks and bits of paper and is using them to mark trailheads on your topographic map. <em>What is the sum of the ratings of all trailheads?</em></p>"
      ]
     },
     "execution_count": 12,
     "metadata": {},
     "output_type": "execute_result"
    }
   ],
   "execution_count": 12
  },
  {
   "metadata": {
    "ExecuteTime": {
     "end_time": "2024-12-10T07:52:29.204635Z",
     "start_time": "2024-12-10T07:52:28.665981Z"
    }
   },
   "cell_type": "code",
   "source": [
    "fun Position.findDistinctValidHikingTrails(grid: List<List<Char>>): Set<List<Position>> {\n",
    "    val memo = mutableMapOf<Position, Set<List<Position>>>()\n",
    "\n",
    "    fun dfs(current: Position): Set<List<Position>> {\n",
    "        val currentHeight = grid[current.y][current.x].digitToInt()\n",
    "        if (currentHeight == 9) {\n",
    "            return setOf(listOf(current))\n",
    "        }\n",
    "\n",
    "        memo[current]?.let { return it }\n",
    "\n",
    "        val result = mutableSetOf<List<Position>>()\n",
    "        for (dir in Direction.values()) {\n",
    "            val nx = current.x + dir.vector.second\n",
    "            val ny = current.y + dir.vector.first\n",
    "            if (ny in grid.indices && nx in grid[0].indices && grid[ny][nx].isDigit()) {\n",
    "                val neighborHeight = grid[ny][nx].digitToInt()\n",
    "                if (neighborHeight == currentHeight + 1) {\n",
    "                    val subPaths = dfs(Position(nx, ny))\n",
    "                    for (subPath in subPaths) {\n",
    "                        result.add(listOf(current) + subPath)\n",
    "                    }\n",
    "                }\n",
    "            }\n",
    "        }\n",
    "\n",
    "        memo[current] = result\n",
    "        return result\n",
    "    }\n",
    "\n",
    "    return dfs(this)\n",
    "}\n",
    "\n",
    "val numberOfHikingTrails = startingPoints\n",
    "    .map { it.findDistinctValidHikingTrails(grid) }\n",
    "    .map { it.size }\n",
    "    .sum()\n",
    "\n",
    "// println(\"Found $numberOfHikingTrails distinct hiking trails\")\n",
    "aoc10.submitPartTwo(numberOfHikingTrails)"
   ],
   "outputs": [
    {
     "data": {
      "text/html": [
       "        <div>\n",
       "            <p>Your answer: 1463.</p>\n",
       "            <p>That's the right answer! You are <span class=\"day-success\">one gold star</span> closer to finding the Chief Historian.</p>\n",
       "<p>You have completed Day 10! You can <span class=\"share\">[Share<span class=\"share-content\">on <a href=\"https://bsky.app/intent/compose?text=I+just+completed+%22Hoof+It%22+%2D+Day+10+%2D+Advent+of+Code+2024+%23AdventOfCode+https%3A%2F%2Fadventofcode%2Ecom%2F2024%2Fday%2F10\" target=\"_blank\">Bluesky</a> <a href=\"https://twitter.com/intent/tweet?text=I+just+completed+%22Hoof+It%22+%2D+Day+10+%2D+Advent+of+Code+2024&amp;url=https%3A%2F%2Fadventofcode%2Ecom%2F2024%2Fday%2F10&amp;related=ericwastl&amp;hashtags=AdventOfCode\" target=\"_blank\">Twitter</a> <a href=\"javascript:void(0);\" onclick=\"var ms; try{ms=localStorage.getItem('mastodon.server')}finally{} if(typeof ms!=='string')ms=''; ms=prompt('Mastodon Server?',ms); if(typeof ms==='string' &amp;&amp; ms.length){this.href='https://'+ms+'/share?text=I+just+completed+%22Hoof+It%22+%2D+Day+10+%2D+Advent+of+Code+2024+%23AdventOfCode+https%3A%2F%2Fadventofcode%2Ecom%2F2024%2Fday%2F10';try{localStorage.setItem('mastodon.server',ms);}finally{}}else{return false;}\" target=\"_blank\">Mastodon</a></span>]</span> this victory or <a href=\"/2024\">[Return to Your Advent Calendar]</a>.</p>\n",
       "        </div>"
      ]
     },
     "execution_count": 14,
     "metadata": {},
     "output_type": "execute_result"
    }
   ],
   "execution_count": 14
  },
  {
   "metadata": {},
   "cell_type": "markdown",
   "source": "# Day 11"
  },
  {
   "metadata": {
    "ExecuteTime": {
     "end_time": "2024-12-11T08:22:57.953570200Z",
     "start_time": "2024-12-11T08:22:56.744122400Z"
    }
   },
   "cell_type": "code",
   "source": [
    "import com.toldoven.aoc.notebook.AocClient\n",
    "\n",
    "val aoc11 = AocClient.fromEnv().interactiveDay(2024, 11)\n",
    "aoc11.viewPartOne()"
   ],
   "outputs": [
    {
     "data": {
      "text/html": [
       "<h2>--- Day 11: Plutonian Pebbles ---</h2>\n",
       "<p>The ancient civilization on <a href=\"/2019/day/20\">Pluto</a> was known for its ability to manipulate spacetime, and while The Historians explore their infinite corridors, you've noticed a strange set of physics-defying stones.</p> \n",
       "<p>At first glance, they seem like normal stones: they're arranged in a perfectly <em>straight line</em>, and each stone has a <em>number</em> engraved on it.</p> \n",
       "<p>The strange part is that every time you <span title=\"No, they're not statues. Why do you ask?\">blink</span>, the stones <em>change</em>.</p> \n",
       "<p>Sometimes, the number engraved on a stone changes. Other times, a stone might <em>split in two</em>, causing all the other stones to shift over a bit to make room in their perfectly straight line.</p> \n",
       "<p>As you observe them for a while, you find that the stones have a consistent behavior. Every time you blink, the stones each <em>simultaneously</em> change according to the <em>first applicable rule</em> in this list:</p> \n",
       "<ul> \n",
       " <li>If the stone is engraved with the number <code>0</code>, it is replaced by a stone engraved with the number <code>1</code>.</li> \n",
       " <li>If the stone is engraved with a number that has an <em>even</em> number of digits, it is replaced by <em>two stones</em>. The left half of the digits are engraved on the new left stone, and the right half of the digits are engraved on the new right stone. (The new numbers don't keep extra leading zeroes: <code>1000</code> would become stones <code>10</code> and <code>0</code>.)</li> \n",
       " <li>If none of the other rules apply, the stone is replaced by a new stone; the old stone's number <em>multiplied by 2024</em> is engraved on the new stone.</li> \n",
       "</ul> \n",
       "<p>No matter how the stones change, their <em>order is preserved</em>, and they stay on their perfectly straight line.</p> \n",
       "<p>How will the stones evolve if you keep blinking at them? You take a note of the number engraved on each stone in the line (your puzzle input).</p> \n",
       "<p>If you have an arrangement of five stones engraved with the numbers <code>0 1 10 99 999</code> and you blink once, the stones transform as follows:</p> \n",
       "<ul> \n",
       " <li>The first stone, <code>0</code>, becomes a stone marked <code>1</code>.</li> \n",
       " <li>The second stone, <code>1</code>, is multiplied by 2024 to become <code>2024</code>.</li> \n",
       " <li>The third stone, <code>10</code>, is split into a stone marked <code>1</code> followed by a stone marked <code>0</code>.</li> \n",
       " <li>The fourth stone, <code>99</code>, is split into two stones marked <code>9</code>.</li> \n",
       " <li>The fifth stone, <code>999</code>, is replaced by a stone marked <code>2021976</code>.</li> \n",
       "</ul> \n",
       "<p>So, after blinking once, your five stones would become an arrangement of seven stones engraved with the numbers <code>1 2024 1 0 9 9 2021976</code>.</p> \n",
       "<p>Here is a longer example:</p> \n",
       "<pre><code>Initial arrangement:\n",
       "125 17\n",
       "\n",
       "After 1 blink:\n",
       "253000 1 7\n",
       "\n",
       "After 2 blinks:\n",
       "253 0 2024 14168\n",
       "\n",
       "After 3 blinks:\n",
       "512072 1 20 24 28676032\n",
       "\n",
       "After 4 blinks:\n",
       "512 72 2024 2 0 2 4 2867 6032\n",
       "\n",
       "After 5 blinks:\n",
       "1036288 7 2 20 24 4048 1 4048 8096 28 67 60 32\n",
       "\n",
       "After 6 blinks:\n",
       "2097446912 14168 4048 2 0 2 4 40 48 2024 40 48 80 96 2 8 6 7 6 0 3 2\n",
       "</code></pre> \n",
       "<p>In this example, after blinking six times, you would have <code>22</code> stones. After blinking 25 times, you would have <code><em>55312</em></code> stones!</p> \n",
       "<p>Consider the arrangement of stones in front of you. <em>How many stones will you have after blinking 25 times?</em></p>"
      ]
     },
     "execution_count": 1,
     "metadata": {},
     "output_type": "execute_result"
    }
   ],
   "execution_count": 1
  },
  {
   "metadata": {
    "ExecuteTime": {
     "end_time": "2024-12-11T08:48:52.589784900Z",
     "start_time": "2024-12-11T08:48:51.666036900Z"
    }
   },
   "cell_type": "code",
   "source": [
    "val input = aoc11.input()\n",
    "    .lines()\n",
    "    .filter { it.isNotEmpty() }\n",
    "\n",
    "if (input.size != 1)\n",
    "    throw IllegalArgumentException(\"Expected 1 line of input, but got ${input.size}\")\n",
    "\n",
    "data class Stone(var value: Long) {\n",
    "    fun applyRules(): List<Stone> {\n",
    "        return when {\n",
    "            value == 0L -> return listOf(Stone(1L))\n",
    "            value.toString().length % 2 == 0 -> {\n",
    "                val valueString = value.toString()\n",
    "                val newValues = valueString.chunked(valueString.length / 2)\n",
    "                    .map { it.toLong() }\n",
    "\n",
    "                if (newValues.size == 2) {\n",
    "                    return newValues.map { Stone(it) }\n",
    "                } else {\n",
    "                    throw IllegalArgumentException(\"Expected 2 new values, but got $newValues\")\n",
    "                }\n",
    "            }\n",
    "\n",
    "            else -> listOf(Stone(value * 2024))\n",
    "        }\n",
    "    }\n",
    "}\n",
    "\n",
    "val stones = input[0]\n",
    "    .split(\" \")\n",
    "    .map { it.trim() }\n",
    "    .map { Stone(it.toLong()) }\n",
    "\n",
    "fun afterNBlinks(n: Int, stones: List<Stone>): List<Stone> {\n",
    "    var currentStones = stones\n",
    "    for (i in 0 until n) {\n",
    "        currentStones = currentStones.flatMap { it.applyRules() }\n",
    "    }\n",
    "    return currentStones\n",
    "}\n",
    "\n",
    "val blinksPt1 = 25\n",
    "val result1 = afterNBlinks(blinksPt1, stones).size\n",
    "\n",
    "aoc11.submitPartOne(result1)"
   ],
   "outputs": [
    {
     "data": {
      "text/html": [
       "<div>\n",
       "    <p>Your answer: 222461.</p>\n",
       "    <p>That's the right answer! You are <span class=\"day-success\">one gold star</span> closer to finding the Chief Historian. <a href=\"/2024/day/11#part2\">[Continue to Part Two]</a></p>\n",
       "</div>"
      ]
     },
     "execution_count": 4,
     "metadata": {},
     "output_type": "execute_result"
    }
   ],
   "execution_count": 4
  },
  {
   "metadata": {
    "ExecuteTime": {
     "end_time": "2024-12-11T08:49:01.589006500Z",
     "start_time": "2024-12-11T08:49:01.116434200Z"
    }
   },
   "cell_type": "code",
   "source": "aoc11.viewPartTwo()",
   "outputs": [
    {
     "data": {
      "text/html": [
       "<h2 id=\"part2\">--- Part Two ---</h2>\n",
       "<p>The Historians sure are taking a long time. To be fair, the infinite corridors <em>are</em> very large.</p> \n",
       "<p><em>How many stones would you have after blinking a total of 75 times?</em></p>"
      ]
     },
     "execution_count": 5,
     "metadata": {},
     "output_type": "execute_result"
    }
   ],
   "execution_count": 5
  },
  {
   "metadata": {
    "ExecuteTime": {
     "end_time": "2024-12-11T09:08:16.268155100Z",
     "start_time": "2024-12-11T09:08:15.505580500Z"
    }
   },
   "cell_type": "code",
   "source": [
    "val blinksPt2 = 75\n",
    "fun countStonesAfterNBlinksOptimized(n: Int, stones: List<Long>): Long {\n",
    "    var counts = stones.groupingBy { it }.eachCount().mapValues { it.value.toLong() }\n",
    "\n",
    "    repeat(n) {\n",
    "        val newCounts = mutableMapOf<Long, Long>()\n",
    "\n",
    "        for ((value, count) in counts) {\n",
    "            when {\n",
    "                value == 0L -> newCounts[1L] = newCounts.getOrDefault(1L, 0L) + count\n",
    "                value.toString().length % 2 == 0 -> {\n",
    "                    val valueString = value.toString()\n",
    "                    val half = valueString.length / 2\n",
    "                    val left = valueString.substring(0, half).toLong()\n",
    "                    val right = valueString.substring(half).toLong()\n",
    "                    newCounts[left] = newCounts.getOrDefault(left, 0L) + count\n",
    "                    newCounts[right] = newCounts.getOrDefault(right, 0L) + count\n",
    "                }\n",
    "                else -> {\n",
    "                    val newValue = value * 2024\n",
    "                    newCounts[newValue] = newCounts.getOrDefault(newValue, 0L) + count\n",
    "                }\n",
    "            }\n",
    "        }\n",
    "\n",
    "        counts = newCounts\n",
    "    }\n",
    "\n",
    "    return counts.values.sum()\n",
    "}\n",
    "\n",
    "val result2 = countStonesAfterNBlinksOptimized(blinksPt2, stones.map { it.value })\n",
    "\n",
    "aoc11.submitPartTwo(result2)"
   ],
   "outputs": [
    {
     "data": {
      "text/html": [
       "        <div>\n",
       "            <p>Your answer: 264350935776416.</p>\n",
       "            <p>That's the right answer! You are <span class=\"day-success\">one gold star</span> closer to finding the Chief Historian.</p>\n",
       "<p>You have completed Day 11! You can <span class=\"share\">[Share<span class=\"share-content\">on <a href=\"https://bsky.app/intent/compose?text=I+just+completed+%22Plutonian+Pebbles%22+%2D+Day+11+%2D+Advent+of+Code+2024+%23AdventOfCode+https%3A%2F%2Fadventofcode%2Ecom%2F2024%2Fday%2F11\" target=\"_blank\">Bluesky</a> <a href=\"https://twitter.com/intent/tweet?text=I+just+completed+%22Plutonian+Pebbles%22+%2D+Day+11+%2D+Advent+of+Code+2024&amp;url=https%3A%2F%2Fadventofcode%2Ecom%2F2024%2Fday%2F11&amp;related=ericwastl&amp;hashtags=AdventOfCode\" target=\"_blank\">Twitter</a> <a href=\"javascript:void(0);\" onclick=\"var ms; try{ms=localStorage.getItem('mastodon.server')}finally{} if(typeof ms!=='string')ms=''; ms=prompt('Mastodon Server?',ms); if(typeof ms==='string' &amp;&amp; ms.length){this.href='https://'+ms+'/share?text=I+just+completed+%22Plutonian+Pebbles%22+%2D+Day+11+%2D+Advent+of+Code+2024+%23AdventOfCode+https%3A%2F%2Fadventofcode%2Ecom%2F2024%2Fday%2F11';try{localStorage.setItem('mastodon.server',ms);}finally{}}else{return false;}\" target=\"_blank\">Mastodon</a></span>]</span> this victory or <a href=\"/2024\">[Return to Your Advent Calendar]</a>.</p>\n",
       "        </div>"
      ]
     },
     "execution_count": 9,
     "metadata": {},
     "output_type": "execute_result"
    }
   ],
   "execution_count": 9
  },
  {
   "metadata": {},
   "cell_type": "markdown",
   "source": "# Day 12"
  },
  {
   "metadata": {
    "ExecuteTime": {
     "end_time": "2024-12-12T13:25:12.489330900Z",
     "start_time": "2024-12-12T13:25:12.326667100Z"
    }
   },
   "cell_type": "code",
   "source": [
    "import com.toldoven.aoc.notebook.AocClient\n",
    "\n",
    "val aoc12 = AocClient.fromEnv().interactiveDay(2024, 12)\n",
    "aoc12.viewPartOne()"
   ],
   "outputs": [
    {
     "data": {
      "text/html": [
       "<h2>--- Day 12: Garden Groups ---</h2>\n",
       "<p>Why not search for the Chief Historian near the <a href=\"/2023/day/5\">gardener</a> and his <a href=\"/2023/day/21\">massive farm</a>? There's plenty of food, so The Historians grab something to eat while they search.</p> \n",
       "<p>You're about to settle near a complex arrangement of garden plots when some Elves ask if you can lend a hand. They'd like to set up <span title=\"I originally wanted to title this puzzle &quot;Fencepost Problem&quot;, but I was afraid someone would then try to count fenceposts by mistake and experience a fencepost problem.\">fences</span> around each region of garden plots, but they can't figure out how much fence they need to order or how much it will cost. They hand you a map (your puzzle input) of the garden plots.</p> \n",
       "<p>Each garden plot grows only a single type of plant and is indicated by a single letter on your map. When multiple garden plots are growing the same type of plant and are touching (horizontally or vertically), they form a <em>region</em>. For example:</p> \n",
       "<pre><code>AAAA\n",
       "BBCD\n",
       "BBCC\n",
       "EEEC\n",
       "</code></pre> \n",
       "<p>This 4x4 arrangement includes garden plots growing five different types of plants (labeled <code>A</code>, <code>B</code>, <code>C</code>, <code>D</code>, and <code>E</code>), each grouped into their own region.</p> \n",
       "<p>In order to accurately calculate the cost of the fence around a single region, you need to know that region's <em>area</em> and <em>perimeter</em>.</p> \n",
       "<p>The <em>area</em> of a region is simply the number of garden plots the region contains. The above map's type <code>A</code>, <code>B</code>, and <code>C</code> plants are each in a region of area <code>4</code>. The type <code>E</code> plants are in a region of area <code>3</code>; the type <code>D</code> plants are in a region of area <code>1</code>.</p> \n",
       "<p>Each garden plot is a square and so has <em>four sides</em>. The <em>perimeter</em> of a region is the number of sides of garden plots in the region that do not touch another garden plot in the same region. The type <code>A</code> and <code>C</code> plants are each in a region with perimeter <code>10</code>. The type <code>B</code> and <code>E</code> plants are each in a region with perimeter <code>8</code>. The lone <code>D</code> plot forms its own region with perimeter <code>4</code>.</p> \n",
       "<p>Visually indicating the sides of plots in each region that contribute to the perimeter using <code>-</code> and <code>|</code>, the above map's regions' perimeters are measured as follows:</p> \n",
       "<pre><code>+-+-+-+-+\n",
       "|A A A A|\n",
       "+-+-+-+-+     +-+\n",
       "              |D|\n",
       "+-+-+   +-+   +-+\n",
       "|B B|   |C|\n",
       "+   +   + +-+\n",
       "|B B|   |C C|\n",
       "+-+-+   +-+ +\n",
       "          |C|\n",
       "+-+-+-+   +-+\n",
       "|E E E|\n",
       "+-+-+-+\n",
       "</code></pre> \n",
       "<p>Plants of the same type can appear in multiple separate regions, and regions can even appear within other regions. For example:</p> \n",
       "<pre><code>OOOOO\n",
       "OXOXO\n",
       "OOOOO\n",
       "OXOXO\n",
       "OOOOO\n",
       "</code></pre> \n",
       "<p>The above map contains <em>five</em> regions, one containing all of the <code>O</code> garden plots, and the other four each containing a single <code>X</code> plot.</p> \n",
       "<p>The four <code>X</code> regions each have area <code>1</code> and perimeter <code>4</code>. The region containing <code>21</code> type <code>O</code> plants is more complicated; in addition to its outer edge contributing a perimeter of <code>20</code>, its boundary with each <code>X</code> region contributes an additional <code>4</code> to its perimeter, for a total perimeter of <code>36</code>.</p> \n",
       "<p>Due to \"modern\" business practices, the <em>price</em> of fence required for a region is found by <em>multiplying</em> that region's area by its perimeter. The <em>total price</em> of fencing all regions on a map is found by adding together the price of fence for every region on the map.</p> \n",
       "<p>In the first example, region <code>A</code> has price <code>4 * 10 = 40</code>, region <code>B</code> has price <code>4 * 8 = 32</code>, region <code>C</code> has price <code>4 * 10 = 40</code>, region <code>D</code> has price <code>1 * 4 = 4</code>, and region <code>E</code> has price <code>3 * 8 = 24</code>. So, the total price for the first example is <code><em>140</em></code>.</p> \n",
       "<p>In the second example, the region with all of the <code>O</code> plants has price <code>21 * 36 = 756</code>, and each of the four smaller <code>X</code> regions has price <code>1 * 4 = 4</code>, for a total price of <code><em>772</em></code> (<code>756 + 4 + 4 + 4 + 4</code>).</p> \n",
       "<p>Here's a larger example:</p> \n",
       "<pre><code>RRRRIICCFF\n",
       "RRRRIICCCF\n",
       "VVRRRCCFFF\n",
       "VVRCCCJFFF\n",
       "VVVVCJJCFE\n",
       "VVIVCCJJEE\n",
       "VVIIICJJEE\n",
       "MIIIIIJJEE\n",
       "MIIISIJEEE\n",
       "MMMISSJEEE\n",
       "</code></pre> \n",
       "<p>It contains:</p> \n",
       "<ul> \n",
       " <li>A region of <code>R</code> plants with price <code>12 * 18 = 216</code>.</li> \n",
       " <li>A region of <code>I</code> plants with price <code>4 * 8 = 32</code>.</li> \n",
       " <li>A region of <code>C</code> plants with price <code>14 * 28 = 392</code>.</li> \n",
       " <li>A region of <code>F</code> plants with price <code>10 * 18 = 180</code>.</li> \n",
       " <li>A region of <code>V</code> plants with price <code>13 * 20 = 260</code>.</li> \n",
       " <li>A region of <code>J</code> plants with price <code>11 * 20 = 220</code>.</li> \n",
       " <li>A region of <code>C</code> plants with price <code>1 * 4 = 4</code>.</li> \n",
       " <li>A region of <code>E</code> plants with price <code>13 * 18 = 234</code>.</li> \n",
       " <li>A region of <code>I</code> plants with price <code>14 * 22 = 308</code>.</li> \n",
       " <li>A region of <code>M</code> plants with price <code>5 * 12 = 60</code>.</li> \n",
       " <li>A region of <code>S</code> plants with price <code>3 * 8 = 24</code>.</li> \n",
       "</ul> \n",
       "<p>So, it has a total price of <code><em>1930</em></code>.</p> \n",
       "<p><em>What is the total price of fencing all regions on your map?</em></p>"
      ]
     },
     "execution_count": 1,
     "metadata": {},
     "output_type": "execute_result"
    }
   ],
   "execution_count": 1
  },
  {
   "metadata": {
    "ExecuteTime": {
     "end_time": "2024-12-12T13:25:19.171399300Z",
     "start_time": "2024-12-12T13:25:16.627134Z"
    }
   },
   "cell_type": "code",
   "source": [
    "val input = aoc12.input()\n",
    "    .lines()\n",
    "    .filter { it.isNotEmpty() }\n",
    "\n",
    "val map = input\n",
    "    .map { it.toCharArray().toList() }\n",
    "\n",
    "enum class Directions(val vector: Pair<Int, Int>) {\n",
    "    TOP(0 to -1), DOWN(0 to 1), LEFT(-1 to 0), RIGHT(1 to 0)\n",
    "}\n",
    "\n",
    "data class Region(val plant: Char, val carets: List<Pair<Int, Int>>) {\n",
    "    fun calcFenceCost(): Int {\n",
    "        return carets.size * getPerimenter()\n",
    "    }\n",
    "\n",
    "    private fun getPerimenter(): Int {\n",
    "        var count = 0\n",
    "\n",
    "        for (caret in carets) {\n",
    "            for (direction in Directions.values()) {\n",
    "                val pos = (caret.first + direction.vector.first) to (caret.second + direction.vector.second)\n",
    "                if (!(pos in carets)) count++\n",
    "            }\n",
    "        }\n",
    "\n",
    "        return count\n",
    "    }\n",
    "}\n",
    "\n",
    "fun mapToRegions(map: List<List<Char>>): List<Region> {\n",
    "    val visited = Array(map.size) { BooleanArray(map[0].size) }\n",
    "    val regions = mutableListOf<Region>()\n",
    "\n",
    "    fun dfs(x: Int, y: Int, plant: Char, carets: MutableList<Pair<Int, Int>>) {\n",
    "        if (x !in map[0].indices || y !in map.indices || visited[y][x] || map[y][x] != plant) {\n",
    "            return\n",
    "        }\n",
    "\n",
    "        visited[y][x] = true\n",
    "        carets.add(x to y)\n",
    "\n",
    "        for (direction in Directions.values()) {\n",
    "            val dx = x + direction.vector.first\n",
    "            val dy = y + direction.vector.second\n",
    "            dfs(dx, dy, plant, carets)\n",
    "        }\n",
    "    }\n",
    "\n",
    "    for (y in map.indices) {\n",
    "        for (x in map[y].indices) {\n",
    "            if (!visited[y][x]) {\n",
    "                val plant = map[y][x]\n",
    "                val carets = mutableListOf<Pair<Int, Int>>()\n",
    "                dfs(x, y, plant, carets)\n",
    "                regions.add(Region(plant, carets)) // Neue Region hinzufügen\n",
    "            }\n",
    "        }\n",
    "    }\n",
    "\n",
    "    return regions\n",
    "}\n",
    "\n",
    "val result1 = mapToRegions(map)\n",
    "    .map { it.calcFenceCost() }\n",
    "    .sum()\n",
    "\n",
    "aoc12.submitPartOne(result1)"
   ],
   "outputs": [
    {
     "data": {
      "text/html": [
       "<p>The answer is correct!</p><p>Your answer: 1381056</p><small>You already completed this part.</small>"
      ]
     },
     "execution_count": 2,
     "metadata": {},
     "output_type": "execute_result"
    }
   ],
   "execution_count": 2
  },
  {
   "metadata": {
    "ExecuteTime": {
     "end_time": "2024-12-12T13:25:25.132945900Z",
     "start_time": "2024-12-12T13:25:25.091295900Z"
    }
   },
   "cell_type": "code",
   "source": "aoc12.viewPartTwo()",
   "outputs": [
    {
     "data": {
      "text/html": [
       "<h2 id=\"part2\">--- Part Two ---</h2>\n",
       "<p>Fortunately, the Elves are trying to order so much fence that they qualify for a <em>bulk discount</em>!</p> \n",
       "<p>Under the bulk discount, instead of using the perimeter to calculate the price, you need to use the <em>number of sides</em> each region has. Each straight section of fence counts as a side, regardless of how long it is.</p> \n",
       "<p>Consider this example again:</p> \n",
       "<pre><code>AAAA\n",
       "BBCD\n",
       "BBCC\n",
       "EEEC\n",
       "</code></pre> \n",
       "<p>The region containing type <code>A</code> plants has <code>4</code> sides, as does each of the regions containing plants of type <code>B</code>, <code>D</code>, and <code>E</code>. However, the more complex region containing the plants of type <code>C</code> has <code>8</code> sides!</p> \n",
       "<p>Using the new method of calculating the per-region price by multiplying the region's area by its number of sides, regions <code>A</code> through <code>E</code> have prices <code>16</code>, <code>16</code>, <code>32</code>, <code>4</code>, and <code>12</code>, respectively, for a total price of <code><em>80</em></code>.</p> \n",
       "<p>The second example above (full of type <code>X</code> and <code>O</code> plants) would have a total price of <code><em>436</em></code>.</p> \n",
       "<p>Here's a map that includes an E-shaped region full of type <code>E</code> plants:</p> \n",
       "<pre><code>EEEEE\n",
       "EXXXX\n",
       "EEEEE\n",
       "EXXXX\n",
       "EEEEE\n",
       "</code></pre> \n",
       "<p>The E-shaped region has an area of <code>17</code> and <code>12</code> sides for a price of <code>204</code>. Including the two regions full of type <code>X</code> plants, this map has a total price of <code><em>236</em></code>.</p> \n",
       "<p>This map has a total price of <code><em>368</em></code>:</p> \n",
       "<pre><code>AAAAAA\n",
       "AAABBA\n",
       "AAABBA\n",
       "ABBAAA\n",
       "ABBAAA\n",
       "AAAAAA\n",
       "</code></pre> \n",
       "<p>It includes two regions full of type <code>B</code> plants (each with <code>4</code> sides) and a single region full of type <code>A</code> plants (with <code>4</code> sides on the outside and <code>8</code> more sides on the inside, a total of <code>12</code> sides). Be especially careful when counting the fence around regions like the one full of type <code>A</code> plants; in particular, each section of fence has an in-side and an out-side, so the fence does not connect across the middle of the region (where the two <code>B</code> regions touch diagonally). (The Elves would have used the Möbius Fencing Company instead, but their contract terms were too one-sided.)</p> \n",
       "<p>The larger example from before now has the following updated prices:</p> \n",
       "<ul> \n",
       " <li>A region of <code>R</code> plants with price <code>12 * 10 = 120</code>.</li> \n",
       " <li>A region of <code>I</code> plants with price <code>4 * 4 = 16</code>.</li> \n",
       " <li>A region of <code>C</code> plants with price <code>14 * 22 = 308</code>.</li> \n",
       " <li>A region of <code>F</code> plants with price <code>10 * 12 = 120</code>.</li> \n",
       " <li>A region of <code>V</code> plants with price <code>13 * 10 = 130</code>.</li> \n",
       " <li>A region of <code>J</code> plants with price <code>11 * 12 = 132</code>.</li> \n",
       " <li>A region of <code>C</code> plants with price <code>1 * 4 = 4</code>.</li> \n",
       " <li>A region of <code>E</code> plants with price <code>13 * 8 = 104</code>.</li> \n",
       " <li>A region of <code>I</code> plants with price <code>14 * 16 = 224</code>.</li> \n",
       " <li>A region of <code>M</code> plants with price <code>5 * 6 = 30</code>.</li> \n",
       " <li>A region of <code>S</code> plants with price <code>3 * 6 = 18</code>.</li> \n",
       "</ul> \n",
       "<p>Adding these together produces its new total price of <code><em>1206</em></code>.</p> \n",
       "<p><em>What is the new total price of fencing all regions on your map?</em></p>"
      ]
     },
     "execution_count": 3,
     "metadata": {},
     "output_type": "execute_result"
    }
   ],
   "execution_count": 3
  },
  {
   "metadata": {
    "ExecuteTime": {
     "end_time": "2024-12-12T14:38:51.000083700Z",
     "start_time": "2024-12-12T14:38:50.263150Z"
    }
   },
   "cell_type": "code",
   "source": [
    "fun Region.calcFencePriceBySides(): Int {\n",
    "    return carets.size * countSides()\n",
    "}\n",
    "\n",
    "private fun Region.countSides(): Int {\n",
    "    val boundaryEdges = findBoundaryEdges()\n",
    "    // boundaryEdges ist jetzt eine Menge von Kanten, z.B. definiert als:\n",
    "    // ((x, y), (x+1, y)) oder ((x, y), (x, y+1)) für horizontale/vertikale Kanten\n",
    "    // Sortiere/Verketten der Kanten zu Polygonzügen\n",
    "    val polygons = tracePolygons(boundaryEdges)\n",
    "\n",
    "    // Jetzt für jedes Polygon die Anzahl der Seiten zählen\n",
    "    // Jede Seite ist ein Abschnitt gleicher Richtung.\n",
    "    return polygons.sumOf { countSidesInPolygon(it) }\n",
    "}\n",
    "\n",
    "fun Directions.applyDirection(position: Pair<Int, Int>): Pair<Int, Int> {\n",
    "    return (position.first + this.vector.first) to (position.second + this\n",
    "        .vector.second)\n",
    "}\n",
    "\n",
    "fun Directions.oppositeDirection(): Directions {\n",
    "    return when (this) {\n",
    "        Directions.TOP -> Directions.DOWN\n",
    "        Directions.DOWN -> Directions.TOP\n",
    "        Directions.LEFT -> Directions.RIGHT\n",
    "        Directions.RIGHT -> Directions.LEFT\n",
    "    }\n",
    "}\n",
    "\n",
    "data class Edge(val start: Pair<Int, Int>, val end: Pair<Int, Int>)\n",
    "\n",
    "private fun Region.findBoundaryEdges(): Set<Edge> {\n",
    "    val caretsSet = carets.toSet()\n",
    "    val edges = mutableSetOf<Edge>()\n",
    "    for ((x, y) in carets) {\n",
    "        for (direction in Directions.values()) {\n",
    "            val neighbor = direction.applyDirection(x to y)\n",
    "            if (neighbor !in caretsSet) {\n",
    "                when (direction) {\n",
    "                    Directions.TOP -> edges.add(Edge(x to y, (x+1) to y))\n",
    "                    Directions.DOWN -> edges.add(Edge(x to (y+1), (x+1) to (y+1)))\n",
    "                    Directions.LEFT -> edges.add(Edge(x to y, x to (y+1)))\n",
    "                    Directions.RIGHT -> edges.add(Edge((x+1) to y, (x+1) to (y+1)))\n",
    "                }\n",
    "            }\n",
    "        }\n",
    "    }\n",
    "    return edges\n",
    "}\n",
    "\n",
    "\n",
    "private fun Region.tracePolygons(allEdges: Set<Edge>): List<List<Pair<Int, Int>>> {\n",
    "    val polygons = mutableListOf<List<Pair<Int, Int>>>()\n",
    "    val visited = mutableSetOf<Edge>()\n",
    "    val edgesByStart = allEdges.groupBy { it.start }\n",
    "\n",
    "    for (edge in allEdges) {\n",
    "        if (edge !in visited) {\n",
    "            // Finde einen geschlossenen Pfad (Polygon)\n",
    "            val polygon = mutableListOf<Pair<Int, Int>>()\n",
    "            var currentEdge = edge\n",
    "            visited.add(currentEdge)\n",
    "            polygon.add(currentEdge.start)\n",
    "\n",
    "            while (true) {\n",
    "                polygon.add(currentEdge.end)\n",
    "                val nextEdges = edgesByStart[currentEdge.end].orEmpty().filter { it !in visited }\n",
    "                if (nextEdges.isEmpty()) {\n",
    "                    // Wir sollten am Ende auf den Start zurückkommen\n",
    "                    break\n",
    "                }\n",
    "                // Es sollte genau eine passende Kante geben, die weiterführt (bei sauberer Region)\n",
    "                currentEdge = nextEdges.first()\n",
    "                visited.add(currentEdge)\n",
    "                if (currentEdge.end == edge.start) {\n",
    "                    // Pfad geschlossen\n",
    "                    break\n",
    "                }\n",
    "            }\n",
    "            polygons.add(polygon)\n",
    "        }\n",
    "    }\n",
    "    return polygons\n",
    "}\n",
    "\n",
    "private fun Region.countSidesInPolygon(polygon: List<Pair<Int, Int>>): Int {\n",
    "    if (polygon.size < 2) return 0\n",
    "\n",
    "    val directions = polygon.zipWithNext { a, b ->\n",
    "        val dx = b.first - a.first\n",
    "        val dy = b.second - a.second\n",
    "        when {\n",
    "            dx == 1 && dy == 0 -> Directions.RIGHT\n",
    "            dx == -1 && dy == 0 -> Directions.LEFT\n",
    "            dx == 0 && dy == 1 -> Directions.DOWN\n",
    "            dx == 0 && dy == -1 -> Directions.TOP\n",
    "            else -> error(\"Unexpected direction\")\n",
    "        }\n",
    "    }\n",
    "\n",
    "    var sideCount = 0\n",
    "    // Compare each direction to the next one, wrapping around at the end\n",
    "    for (i in directions.indices) {\n",
    "        val current = directions[i]\n",
    "        val next = directions[(i + 1) % directions.size]\n",
    "        if (current != next) {\n",
    "            sideCount++\n",
    "        }\n",
    "    }\n",
    "\n",
    "    return sideCount\n",
    "}\n",
    "\n",
    "\n",
    "val result2 = mapToRegions(map)\n",
    "    .map { it.calcFencePriceBySides() }\n",
    "    .sum()\n",
    "\n",
    "// println(\"Price By sides should be: $result2\")\n",
    "aoc12.submitPartTwo(result2)"
   ],
   "outputs": [
    {
     "data": {
      "text/html": [
       "<div>\n",
       "    <p>Your answer: 359670.</p>\n",
       "    <p>That's not the right answer. If you're stuck, make sure you're using the full input data; there are also some general tips on the <a href=\"/2024/about\">about page</a>, or you can ask for hints on the <a href=\"https://www.reddit.com/r/adventofcode/\" target=\"_blank\">subreddit</a>. Because you have guessed incorrectly 4 times on this puzzle, please wait 5 minutes before trying again. <a href=\"/2024/day/12\">[Return to Day 12]</a></p>\n",
       "</div>"
      ]
     },
     "execution_count": 16,
     "metadata": {},
     "output_type": "execute_result"
    }
   ],
   "execution_count": 16
  },
  {
   "metadata": {},
   "cell_type": "markdown",
   "source": "# Day 13"
  },
  {
   "metadata": {},
   "cell_type": "code",
   "outputs": [],
   "execution_count": null,
   "source": [
    "val aoc13 = AocClient.fromEnv().interactiveDay(2024, 13)\n",
    "aoc13.viewPartOne()"
   ]
  }
 ],
 "metadata": {
  "kernelspec": {
   "display_name": "Kotlin",
   "language": "kotlin",
   "name": "kotlin"
  },
  "language_info": {
   "name": "kotlin",
   "version": "1.9.23",
   "mimetype": "text/x-kotlin",
   "file_extension": ".kt",
   "pygments_lexer": "kotlin",
   "codemirror_mode": "text/x-kotlin",
   "nbconvert_exporter": ""
  },
  "ktnbPluginMetadata": {
   "projectDependencies": [
    "aoc.main"
   ],
   "projectLibraries": false
  }
 },
 "nbformat": 4,
 "nbformat_minor": 0
}

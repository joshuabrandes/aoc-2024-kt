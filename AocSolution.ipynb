{
 "cells": [
  {
   "metadata": {},
   "cell_type": "markdown",
   "source": "# Advent of Code 2024"
  },
  {
   "metadata": {},
   "cell_type": "markdown",
   "source": "# Day 1"
  },
  {
   "metadata": {
    "collapsed": true,
    "ExecuteTime": {
     "end_time": "2024-12-01T20:36:49.093002100Z",
     "start_time": "2024-12-01T20:36:48.002799600Z"
    }
   },
   "cell_type": "code",
   "source": [
    "import com.toldoven.aoc.notebook.AocClient\n",
    "\n",
    "val aoc = AocClient.fromEnv().interactiveDay(2024, 1)\n",
    "\n",
    "aoc.viewPartOne()"
   ],
   "outputs": [
    {
     "data": {
      "text/html": [
       "<h2>--- Day 1: Historian Hysteria ---</h2>\n",
       "<p>The <em>Chief Historian</em> is always present for the big Christmas sleigh launch, but nobody has seen him in months! Last anyone heard, he was visiting locations that are historically significant to the North Pole; a group of Senior Historians has asked you to accompany them as they check the places they think he was most likely to visit.</p> \n",
       "<p>As each location is checked, they will mark it on their list with a <em class=\"star\">star</em>. They figure the Chief Historian <em>must</em> be in one of the first fifty places they'll look, so in order to save Christmas, you need to help them get <em class=\"star\">fifty stars</em> on their list before Santa takes off on December 25th.</p> \n",
       "<p>Collect stars by solving puzzles. Two puzzles will be made available on each day in the Advent calendar; the second puzzle is unlocked when you complete the first. Each puzzle grants <em class=\"star\">one star</em>. Good luck!</p> \n",
       "<p>You haven't even left yet and the group of Elvish Senior Historians has already hit a problem: their list of locations to check is currently <em>empty</em>. Eventually, someone decides that the best place to check first would be the Chief Historian's office.</p> \n",
       "<p>Upon pouring into the office, everyone confirms that the Chief Historian is indeed nowhere to be found. Instead, the Elves discover an assortment of notes and lists of historically significant locations! This seems to be the planning the Chief Historian was doing before he left. Perhaps these notes can be used to determine which locations to search?</p> \n",
       "<p>Throughout the Chief's office, the historically significant locations are listed not by name but by a unique number called the <em>location ID</em>. To make sure they don't miss anything, The Historians split into two groups, each searching the office and trying to create their own complete list of location IDs.</p> \n",
       "<p>There's just one problem: by holding the two lists up <em>side by side</em> (your puzzle input), it quickly becomes clear that the lists aren't very similar. Maybe you can help The Historians reconcile their lists?</p> \n",
       "<p>For example:</p> \n",
       "<pre><code>3   4\n",
       "4   3\n",
       "2   5\n",
       "1   3\n",
       "3   9\n",
       "3   3\n",
       "</code></pre> \n",
       "<p>Maybe the lists are only off by a small amount! To find out, pair up the numbers and measure how far apart they are. Pair up the <em>smallest number in the left list</em> with the <em>smallest number in the right list</em>, then the <em>second-smallest left number</em> with the <em>second-smallest right number</em>, and so on.</p> \n",
       "<p>Within each pair, figure out <em>how far apart</em> the two numbers are; you'll need to <em>add up all of those distances</em>. For example, if you pair up a <code>3</code> from the left list with a <code>7</code> from the right list, the distance apart is <code>4</code>; if you pair up a <code>9</code> with a <code>3</code>, the distance apart is <code>6</code>.</p> \n",
       "<p>In the example list above, the pairs and distances would be as follows:</p> \n",
       "<ul> \n",
       " <li>The smallest number in the left list is <code>1</code>, and the smallest number in the right list is <code>3</code>. The distance between them is <code><em>2</em></code>.</li> \n",
       " <li>The second-smallest number in the left list is <code>2</code>, and the second-smallest number in the right list is another <code>3</code>. The distance between them is <code><em>1</em></code>.</li> \n",
       " <li>The third-smallest number in both lists is <code>3</code>, so the distance between them is <code><em>0</em></code>.</li> \n",
       " <li>The next numbers to pair up are <code>3</code> and <code>4</code>, a distance of <code><em>1</em></code>.</li> \n",
       " <li>The fifth-smallest numbers in each list are <code>3</code> and <code>5</code>, a distance of <code><em>2</em></code>.</li> \n",
       " <li>Finally, the largest number in the left list is <code>4</code>, while the largest number in the right list is <code>9</code>; these are a distance <code><em>5</em></code> apart.</li> \n",
       "</ul> \n",
       "<p>To find the <em>total distance</em> between the left list and the right list, add up the distances between all of the pairs you found. In the example above, this is <code>2 + 1 + 0 + 1 + 2 + 5</code>, a total distance of <code><em>11</em></code>!</p> \n",
       "<p>Your actual left and right lists contain many location IDs. <em>What is the total distance between your lists?</em></p>"
      ]
     },
     "execution_count": 1,
     "metadata": {},
     "output_type": "execute_result"
    }
   ],
   "execution_count": 1
  },
  {
   "metadata": {
    "ExecuteTime": {
     "end_time": "2024-12-01T20:59:25.640168400Z",
     "start_time": "2024-12-01T20:59:24.867570100Z"
    }
   },
   "cell_type": "code",
   "source": [
    "val input = aoc.input()\n",
    "    .lines()\n",
    "\n",
    "val (leftList, rightList) = input\n",
    "    .filter { it.isNotEmpty() }\n",
    "    .map { line ->\n",
    "        line.split(\" \")\n",
    "            .filter { it.isNotEmpty() }\n",
    "            .map { it.toInt() }\n",
    "    }\n",
    "    .let { line -> line.map { it[0] } to line.map { it[1] } }\n",
    "\n",
    "// Listen sortieren\n",
    "val sortedLeft = leftList.sorted()\n",
    "val sortedRight = rightList.sorted()\n",
    "\n",
    "// Paare bilden und Differenzen berechnen\n",
    "val result = sortedLeft.zip(sortedRight)\n",
    "    .sumOf { (left, right) -> kotlin.math.abs(left - right) }\n",
    "\n",
    "aoc.submitPartOne(result)\n"
   ],
   "outputs": [
    {
     "data": {
      "text/html": [
       "<div>\n",
       "    <p>Your answer: 1834060.</p>\n",
       "    <p>That's the right answer! You are <span class=\"day-success\">one gold star</span> closer to finding the Chief Historian. <a href=\"/2024/day/1#part2\">[Continue to Part Two]</a></p>\n",
       "</div>"
      ]
     },
     "execution_count": 5,
     "metadata": {},
     "output_type": "execute_result"
    }
   ],
   "execution_count": 5
  },
  {
   "metadata": {
    "ExecuteTime": {
     "end_time": "2024-12-01T20:59:40.886667600Z",
     "start_time": "2024-12-01T20:59:40.473630100Z"
    }
   },
   "cell_type": "code",
   "source": "aoc.viewPartTwo()",
   "outputs": [
    {
     "data": {
      "text/html": [
       "<h2 id=\"part2\">--- Part Two ---</h2>\n",
       "<p>Your analysis only confirmed what everyone feared: the two lists of location IDs are indeed very different.</p> \n",
       "<p>Or are they?</p> \n",
       "<p>The Historians can't agree on which group made the mistakes <em>or</em> how to read most of the Chief's handwriting, but in the commotion you notice an interesting detail: <span title=\"We were THIS close to summoning the Alot of Location IDs!\">a lot</span> of location IDs appear in both lists! Maybe the other numbers aren't location IDs at all but rather misinterpreted handwriting.</p> \n",
       "<p>This time, you'll need to figure out exactly how often each number from the left list appears in the right list. Calculate a total <em>similarity score</em> by adding up each number in the left list after multiplying it by the number of times that number appears in the right list.</p> \n",
       "<p>Here are the same example lists again:</p> \n",
       "<pre><code>3   4\n",
       "4   3\n",
       "2   5\n",
       "1   3\n",
       "3   9\n",
       "3   3\n",
       "</code></pre> \n",
       "<p>For these example lists, here is the process of finding the similarity score:</p> \n",
       "<ul> \n",
       " <li>The first number in the left list is <code>3</code>. It appears in the right list three times, so the similarity score increases by <code>3 * 3 = <em>9</em></code>.</li> \n",
       " <li>The second number in the left list is <code>4</code>. It appears in the right list once, so the similarity score increases by <code>4 * 1 = <em>4</em></code>.</li> \n",
       " <li>The third number in the left list is <code>2</code>. It does not appear in the right list, so the similarity score does not increase (<code>2 * 0 = 0</code>).</li> \n",
       " <li>The fourth number, <code>1</code>, also does not appear in the right list.</li> \n",
       " <li>The fifth number, <code>3</code>, appears in the right list three times; the similarity score increases by <code><em>9</em></code>.</li> \n",
       " <li>The last number, <code>3</code>, appears in the right list three times; the similarity score again increases by <code><em>9</em></code>.</li> \n",
       "</ul> \n",
       "<p>So, for these example lists, the similarity score at the end of this process is <code><em>31</em></code> (<code>9 + 4 + 0 + 0 + 9 + 9</code>).</p> \n",
       "<p>Once again consider your left and right lists. <em>What is their similarity score?</em></p>"
      ]
     },
     "execution_count": 6,
     "metadata": {},
     "output_type": "execute_result"
    }
   ],
   "execution_count": 6
  },
  {
   "metadata": {
    "ExecuteTime": {
     "end_time": "2024-12-01T21:04:11.887337100Z",
     "start_time": "2024-12-01T21:04:11.173539500Z"
    }
   },
   "cell_type": "code",
   "source": [
    "val rightFreqencies = rightList.groupingBy { it }.eachCount()\n",
    "\n",
    "// for every number in leftList:\n",
    "// - find the number of occurences of the number in rightList (0 if not found)\n",
    "// - multiply the number of occurences with the number\n",
    "\n",
    "val result2 = leftList.sumOf { num ->\n",
    "    num * (rightFreqencies[num] ?: 0)\n",
    "}\n",
    "\n",
    "aoc.submitPartTwo(result2)"
   ],
   "outputs": [
    {
     "data": {
      "text/html": [
       "        <div>\n",
       "            <p>Your answer: 21607792.</p>\n",
       "            <p>That's the right answer! You are <span class=\"day-success\">one gold star</span> closer to finding the Chief Historian.</p>\n",
       "<p>You have completed Day 1! You can <span class=\"share\">[Share<span class=\"share-content\">on <a href=\"https://bsky.app/intent/compose?text=I+just+completed+%22Historian+Hysteria%22+%2D+Day+1+%2D+Advent+of+Code+2024+%23AdventOfCode+https%3A%2F%2Fadventofcode%2Ecom%2F2024%2Fday%2F1\" target=\"_blank\">Bluesky</a> <a href=\"https://twitter.com/intent/tweet?text=I+just+completed+%22Historian+Hysteria%22+%2D+Day+1+%2D+Advent+of+Code+2024&amp;url=https%3A%2F%2Fadventofcode%2Ecom%2F2024%2Fday%2F1&amp;related=ericwastl&amp;hashtags=AdventOfCode\" target=\"_blank\">Twitter</a> <a href=\"javascript:void(0);\" onclick=\"var ms; try{ms=localStorage.getItem('mastodon.server')}finally{} if(typeof ms!=='string')ms=''; ms=prompt('Mastodon Server?',ms); if(typeof ms==='string' &amp;&amp; ms.length){this.href='https://'+ms+'/share?text=I+just+completed+%22Historian+Hysteria%22+%2D+Day+1+%2D+Advent+of+Code+2024+%23AdventOfCode+https%3A%2F%2Fadventofcode%2Ecom%2F2024%2Fday%2F1';try{localStorage.setItem('mastodon.server',ms);}finally{}}else{return false;}\" target=\"_blank\">Mastodon</a></span>]</span> this victory or <a href=\"/2024\">[Return to Your Advent Calendar]</a>.</p>\n",
       "        </div>"
      ]
     },
     "execution_count": 7,
     "metadata": {},
     "output_type": "execute_result"
    }
   ],
   "execution_count": 7
  },
  {
   "metadata": {},
   "cell_type": "markdown",
   "source": "# Day 2"
  },
  {
   "metadata": {
    "ExecuteTime": {
     "end_time": "2024-12-03T07:26:03.436351Z",
     "start_time": "2024-12-03T07:26:02.739640Z"
    }
   },
   "cell_type": "code",
   "source": [
    "import com.toldoven.aoc.notebook.AocClient\n",
    "\n",
    "val aoc2 = AocClient.fromEnv().interactiveDay(2024, 2)\n",
    "\n",
    "aoc2.viewPartOne()"
   ],
   "outputs": [
    {
     "data": {
      "text/html": [
       "<h2>--- Day 2: Red-Nosed Reports ---</h2>\n",
       "<p>Fortunately, the first location The Historians want to search isn't a long walk from the Chief Historian's office.</p> \n",
       "<p>While the <a href=\"/2015/day/19\">Red-Nosed Reindeer nuclear fusion/fission plant</a> appears to contain no sign of the Chief Historian, the engineers there run up to you as soon as they see you. Apparently, they <em>still</em> talk about the time Rudolph was saved through molecular synthesis from a single electron.</p> \n",
       "<p>They're quick to add that - since you're already here - they'd really appreciate your help analyzing some unusual data from the Red-Nosed reactor. You turn to check if The Historians are waiting for you, but they seem to have already divided into groups that are currently searching every corner of the facility. You offer to help with the unusual data.</p> \n",
       "<p>The unusual data (your puzzle input) consists of many <em>reports</em>, one report per line. Each report is a list of numbers called <em>levels</em> that are separated by spaces. For example:</p> \n",
       "<pre><code>7 6 4 2 1\n",
       "1 2 7 8 9\n",
       "9 7 6 2 1\n",
       "1 3 2 4 5\n",
       "8 6 4 4 1\n",
       "1 3 6 7 9\n",
       "</code></pre> \n",
       "<p>This example data contains six reports each containing five levels.</p> \n",
       "<p>The engineers are trying to figure out which reports are <em>safe</em>. The Red-Nosed reactor safety systems can only tolerate levels that are either gradually increasing or gradually decreasing. So, a report only counts as safe if both of the following are true:</p> \n",
       "<ul> \n",
       " <li>The levels are either <em>all increasing</em> or <em>all decreasing</em>.</li> \n",
       " <li>Any two adjacent levels differ by <em>at least one</em> and <em>at most three</em>.</li> \n",
       "</ul> \n",
       "<p>In the example above, the reports can be found safe or unsafe by checking those rules:</p> \n",
       "<ul> \n",
       " <li><code>7 6 4 2 1</code>: <em>Safe</em> because the levels are all decreasing by 1 or 2.</li> \n",
       " <li><code>1 2 7 8 9</code>: <em>Unsafe</em> because <code>2 7</code> is an increase of 5.</li> \n",
       " <li><code>9 7 6 2 1</code>: <em>Unsafe</em> because <code>6 2</code> is a decrease of 4.</li> \n",
       " <li><code>1 3 2 4 5</code>: <em>Unsafe</em> because <code>1 3</code> is increasing but <code>3 2</code> is decreasing.</li> \n",
       " <li><code>8 6 4 4 1</code>: <em>Unsafe</em> because <code>4 4</code> is neither an increase or a decrease.</li> \n",
       " <li><code>1 3 6 7 9</code>: <em>Safe</em> because the levels are all increasing by 1, 2, or 3.</li> \n",
       "</ul> \n",
       "<p>So, in this example, <code><em>2</em></code> reports are <em>safe</em>.</p> \n",
       "<p>Analyze the unusual data from the engineers. <em>How many reports are safe?</em></p>"
      ]
     },
     "execution_count": 2,
     "metadata": {},
     "output_type": "execute_result"
    }
   ],
   "execution_count": 2
  },
  {
   "metadata": {
    "ExecuteTime": {
     "end_time": "2024-12-03T07:46:28.361741Z",
     "start_time": "2024-12-03T07:46:27.519124Z"
    }
   },
   "cell_type": "code",
   "source": [
    "val input = aoc2.input()\n",
    "    .lines()\n",
    "    .filter { it.isNotEmpty() }\n",
    "\n",
    "class Entry(val data: List<Int>) {\n",
    "    /**\n",
    "     * Checks if the entry is safe. Conditions:\n",
    "     * - Decreasing values can only cahnge by 1 or 2 from the previous value\n",
    "     * - Increasing values can only change by 1, 2 or 3 from the previous value\n",
    "     * - one Entry cannot have both increasing and decreasing values\n",
    "     * - the difference between two consecutive values must not be 0\n",
    "     */\n",
    "    fun isSafe(): Boolean {\n",
    "        val pairs = data.zipWithNext()\n",
    "\n",
    "        if (pairs.any { (a, b) -> a == b }) return false\n",
    "\n",
    "        val hasDecreasingPairs = pairs.any { (a, b) -> a > b }\n",
    "        val hasIncreasingPairs = pairs.any { (a, b) -> a < b }\n",
    "\n",
    "        if (hasDecreasingPairs && hasIncreasingPairs) return false\n",
    "\n",
    "        return if (hasDecreasingPairs) {\n",
    "            pairs.all { (a, b) -> b - a in -3..0 }\n",
    "        } else {\n",
    "            pairs.all { (a, b) -> b - a in 1..3 }\n",
    "        }\n",
    "    }\n",
    "}\n",
    "\n",
    "val entries = input\n",
    "    .map { it.split(\" \").filter { it.isNotEmpty() } }\n",
    "    .map { it.map { it.toInt() } }\n",
    "    .map { Entry(it) }\n",
    "    .filter { it.isSafe() }\n",
    "\n",
    "aoc2.submitPartOne(entries.size)"
   ],
   "outputs": [
    {
     "data": {
      "text/html": [
       "<div>\n",
       "    <p>Your answer: 334.</p>\n",
       "    <p>That's the right answer! You are <span class=\"day-success\">one gold star</span> closer to finding the Chief Historian. <a href=\"/2024/day/2#part2\">[Continue to Part Two]</a></p>\n",
       "</div>"
      ]
     },
     "execution_count": 5,
     "metadata": {},
     "output_type": "execute_result"
    }
   ],
   "execution_count": 5
  },
  {
   "metadata": {
    "ExecuteTime": {
     "end_time": "2024-12-03T07:46:50.881594Z",
     "start_time": "2024-12-03T07:46:50.488201Z"
    }
   },
   "cell_type": "code",
   "source": "aoc2.viewPartTwo()",
   "outputs": [
    {
     "data": {
      "text/html": [
       "<h2 id=\"part2\">--- Part Two ---</h2>\n",
       "<p>The engineers are surprised by the low number of safe reports until they realize they forgot to tell you about the <span title=\"I need to get one of these!\">Problem Dampener</span>.</p> \n",
       "<p>The Problem Dampener is a reactor-mounted module that lets the reactor safety systems <em>tolerate a single bad level</em> in what would otherwise be a safe report. It's like the bad level never happened!</p> \n",
       "<p>Now, the same rules apply as before, except if removing a single level from an unsafe report would make it safe, the report instead counts as safe.</p> \n",
       "<p>More of the above example's reports are now safe:</p> \n",
       "<ul> \n",
       " <li><code>7 6 4 2 1</code>: <em>Safe</em> without removing any level.</li> \n",
       " <li><code>1 2 7 8 9</code>: <em>Unsafe</em> regardless of which level is removed.</li> \n",
       " <li><code>9 7 6 2 1</code>: <em>Unsafe</em> regardless of which level is removed.</li> \n",
       " <li><code>1 <em>3</em> 2 4 5</code>: <em>Safe</em> by removing the second level, <code>3</code>.</li> \n",
       " <li><code>8 6 <em>4</em> 4 1</code>: <em>Safe</em> by removing the third level, <code>4</code>.</li> \n",
       " <li><code>1 3 6 7 9</code>: <em>Safe</em> without removing any level.</li> \n",
       "</ul> \n",
       "<p>Thanks to the Problem Dampener, <code><em>4</em></code> reports are actually <em>safe</em>!</p> \n",
       "<p>Update your analysis by handling situations where the Problem Dampener can remove a single level from unsafe reports. <em>How many reports are now safe?</em></p>"
      ]
     },
     "execution_count": 6,
     "metadata": {},
     "output_type": "execute_result"
    }
   ],
   "execution_count": 6
  },
  {
   "metadata": {
    "ExecuteTime": {
     "end_time": "2024-12-03T08:08:58.028341Z",
     "start_time": "2024-12-03T08:08:57.413706Z"
    }
   },
   "cell_type": "code",
   "source": [
    "fun Entry.canBeMadeSafe(): Boolean {\n",
    "    if (isSafe()) return true\n",
    "\n",
    "    for (i in data.indices) {\n",
    "        val newList = data.filterIndexed { index, _ -> index != i }\n",
    "        if (Entry(newList).isSafe()) return true\n",
    "    }\n",
    "\n",
    "    return false\n",
    "}\n",
    "\n",
    "val invalidEntries = input\n",
    "    .map { it.split(\" \").filter { it.isNotEmpty() } }\n",
    "    .map { it.map { it.toInt() } }\n",
    "    .map { Entry(it) }\n",
    "    .filter { it.canBeMadeSafe() }\n",
    "\n",
    "aoc2.submitPartTwo(invalidEntries.size)"
   ],
   "outputs": [
    {
     "data": {
      "text/html": [
       "        <div>\n",
       "            <p>Your answer: 400.</p>\n",
       "            <p>That's the right answer! You are <span class=\"day-success\">one gold star</span> closer to finding the Chief Historian.</p>\n",
       "<p>You have completed Day 2! You can <span class=\"share\">[Share<span class=\"share-content\">on <a href=\"https://bsky.app/intent/compose?text=I+just+completed+%22Red%2DNosed+Reports%22+%2D+Day+2+%2D+Advent+of+Code+2024+%23AdventOfCode+https%3A%2F%2Fadventofcode%2Ecom%2F2024%2Fday%2F2\" target=\"_blank\">Bluesky</a> <a href=\"https://twitter.com/intent/tweet?text=I+just+completed+%22Red%2DNosed+Reports%22+%2D+Day+2+%2D+Advent+of+Code+2024&amp;url=https%3A%2F%2Fadventofcode%2Ecom%2F2024%2Fday%2F2&amp;related=ericwastl&amp;hashtags=AdventOfCode\" target=\"_blank\">Twitter</a> <a href=\"javascript:void(0);\" onclick=\"var ms; try{ms=localStorage.getItem('mastodon.server')}finally{} if(typeof ms!=='string')ms=''; ms=prompt('Mastodon Server?',ms); if(typeof ms==='string' &amp;&amp; ms.length){this.href='https://'+ms+'/share?text=I+just+completed+%22Red%2DNosed+Reports%22+%2D+Day+2+%2D+Advent+of+Code+2024+%23AdventOfCode+https%3A%2F%2Fadventofcode%2Ecom%2F2024%2Fday%2F2';try{localStorage.setItem('mastodon.server',ms);}finally{}}else{return false;}\" target=\"_blank\">Mastodon</a></span>]</span> this victory or <a href=\"/2024\">[Return to Your Advent Calendar]</a>.</p>\n",
       "        </div>"
      ]
     },
     "execution_count": 12,
     "metadata": {},
     "output_type": "execute_result"
    }
   ],
   "execution_count": 12
  },
  {
   "metadata": {},
   "cell_type": "markdown",
   "source": "# Day 3"
  },
  {
   "metadata": {
    "ExecuteTime": {
     "end_time": "2024-12-03T13:38:27.524170200Z",
     "start_time": "2024-12-03T13:38:27.357611500Z"
    }
   },
   "cell_type": "code",
   "source": [
    "import com.toldoven.aoc.notebook.AocClient\n",
    "\n",
    "val aoc3 = AocClient.fromEnv().interactiveDay(2024, 3)\n",
    "aoc3.viewPartOne()"
   ],
   "outputs": [
    {
     "data": {
      "text/html": [
       "<h2>--- Day 3: Mull It Over ---</h2>\n",
       "<p>\"Our computers are having issues, so I have no idea if we have any Chief Historians <span title=\"There's a spot reserved for Chief Historians between the green toboggans and the red toboggans. They've never actually had any Chief Historians in stock, but it's best to be prepared.\">in stock</span>! You're welcome to check the warehouse, though,\" says the mildly flustered shopkeeper at the <a href=\"/2020/day/2\">North Pole Toboggan Rental Shop</a>. The Historians head out to take a look.</p> \n",
       "<p>The shopkeeper turns to you. \"Any chance you can see why our computers are having issues again?\"</p> \n",
       "<p>The computer appears to be trying to run a program, but its memory (your puzzle input) is <em>corrupted</em>. All of the instructions have been jumbled up!</p> \n",
       "<p>It seems like the goal of the program is just to <em>multiply some numbers</em>. It does that with instructions like <code>mul(X,Y)</code>, where <code>X</code> and <code>Y</code> are each 1-3 digit numbers. For instance, <code>mul(44,46)</code> multiplies <code>44</code> by <code>46</code> to get a result of <code>2024</code>. Similarly, <code>mul(123,4)</code> would multiply <code>123</code> by <code>4</code>.</p> \n",
       "<p>However, because the program's memory has been corrupted, there are also many invalid characters that should be <em>ignored</em>, even if they look like part of a <code>mul</code> instruction. Sequences like <code>mul(4*</code>, <code>mul(6,9!</code>, <code>?(12,34)</code>, or <code>mul ( 2 , 4 )</code> do <em>nothing</em>.</p> \n",
       "<p>For example, consider the following section of corrupted memory:</p> \n",
       "<pre><code>x<em>mul(2,4)</em>%&amp;mul[3,7]!@^do_not_<em>mul(5,5)</em>+mul(32,64]then(<em>mul(11,8)mul(8,5)</em>)</code></pre> \n",
       "<p>Only the four highlighted sections are real <code>mul</code> instructions. Adding up the result of each instruction produces <code><em>161</em></code> (<code>2*4 + 5*5 + 11*8 + 8*5</code>).</p> \n",
       "<p>Scan the corrupted memory for uncorrupted <code>mul</code> instructions. <em>What do you get if you add up all of the results of the multiplications?</em></p>"
      ]
     },
     "execution_count": 1,
     "metadata": {},
     "output_type": "execute_result"
    }
   ],
   "execution_count": 1
  },
  {
   "metadata": {
    "ExecuteTime": {
     "end_time": "2024-12-03T14:03:12.711113400Z",
     "start_time": "2024-12-03T14:03:11.922476500Z"
    }
   },
   "cell_type": "code",
   "source": [
    "val input = aoc3.input()\n",
    "    .lines()\n",
    "    .filter { it.isNotEmpty() }\n",
    "\n",
    "val mulRegEx = Regex(\"\"\"mul\\((\\d{1,3}),(\\d{1,3})\\)\"\"\")\n",
    "\n",
    "val result = input\n",
    "    .map { mulRegEx.findAll(it).toList() }\n",
    "    .map { it.map { it.groupValues[1].toInt() * it.groupValues[2].toInt() }.sum() }\n",
    "    .sum()\n",
    "\n",
    "aoc3.submitPartOne(result)"
   ],
   "outputs": [
    {
     "data": {
      "text/html": [
       "<div>\n",
       "    <p>Your answer: 167650499.</p>\n",
       "    <p>That's the right answer! You are <span class=\"day-success\">one gold star</span> closer to finding the Chief Historian. <a href=\"/2024/day/3#part2\">[Continue to Part Two]</a></p>\n",
       "</div>"
      ]
     },
     "execution_count": 12,
     "metadata": {},
     "output_type": "execute_result"
    }
   ],
   "execution_count": 12
  },
  {
   "metadata": {
    "ExecuteTime": {
     "end_time": "2024-12-03T14:03:23.397616400Z",
     "start_time": "2024-12-03T14:03:22.861450900Z"
    }
   },
   "cell_type": "code",
   "source": "aoc3.viewPartTwo()",
   "outputs": [
    {
     "data": {
      "text/html": [
       "<h2 id=\"part2\">--- Part Two ---</h2>\n",
       "<p>As you scan through the corrupted memory, you notice that some of the conditional statements are also still intact. If you handle some of the uncorrupted conditional statements in the program, you might be able to get an even more accurate result.</p> \n",
       "<p>There are two new instructions you'll need to handle:</p> \n",
       "<ul> \n",
       " <li>The <code>do()</code> instruction <em>enables</em> future <code>mul</code> instructions.</li> \n",
       " <li>The <code>don't()</code> instruction <em>disables</em> future <code>mul</code> instructions.</li> \n",
       "</ul> \n",
       "<p>Only the <em>most recent</em> <code>do()</code> or <code>don't()</code> instruction applies. At the beginning of the program, <code>mul</code> instructions are <em>enabled</em>.</p> \n",
       "<p>For example:</p> \n",
       "<pre><code>x<em>mul(2,4)</em>&amp;mul[3,7]!^<em>don't()</em>_mul(5,5)+mul(32,64](mul(11,8)un<em>do()</em>?<em>mul(8,5)</em>)</code></pre> \n",
       "<p>This corrupted memory is similar to the example from before, but this time the <code>mul(5,5)</code> and <code>mul(11,8)</code> instructions are <em>disabled</em> because there is a <code>don't()</code> instruction before them. The other <code>mul</code> instructions function normally, including the one at the end that gets re-<em>enabled</em> by a <code>do()</code> instruction.</p> \n",
       "<p>This time, the sum of the results is <code><em>48</em></code> (<code>2*4 + 8*5</code>).</p> \n",
       "<p>Handle the new instructions; <em>what do you get if you add up all of the results of just the enabled multiplications?</em></p>"
      ]
     },
     "execution_count": 13,
     "metadata": {},
     "output_type": "execute_result"
    }
   ],
   "execution_count": 13
  },
  {
   "metadata": {
    "ExecuteTime": {
     "end_time": "2024-12-03T14:26:59.442919200Z",
     "start_time": "2024-12-03T14:26:58.761143400Z"
    }
   },
   "cell_type": "code",
   "source": [
    "val input = aoc3.input()\n",
    "    .lines()\n",
    "    .filter { it.isNotEmpty() }\n",
    "    .joinToString(\"\")  // Füge alle Zeilen zu einer einzigen Zeichenkette zusammen\n",
    "\n",
    "// define a regular expression to match the instructions\n",
    "// Gruppe 1: do()\n",
    "// Gruppe 2: don't()\n",
    "// Gruppe 3: mul(x,y) with x and y being sub-groups\n",
    "val part2RegEx = Regex(\"\"\"do\\(\\)|don't\\(\\)|mul\\((\\d{1,3}),(\\d{1,3})\\)\"\"\")\n",
    "\n",
    "var mulEnabled = true\n",
    "var sum = 0\n",
    "\n",
    "for (match in part2RegEx.findAll(input)) {\n",
    "    when {\n",
    "        match.value == \"do()\" -> mulEnabled = true\n",
    "        match.value == \"don't()\" -> mulEnabled = false\n",
    "        match.value.startsWith(\"mul(\") -> {\n",
    "            if (mulEnabled) {\n",
    "                val x = match.groupValues[1].toInt()\n",
    "                val y = match.groupValues[2].toInt()\n",
    "                sum += x * y\n",
    "            }\n",
    "        }\n",
    "    }\n",
    "}\n",
    "\n",
    "// Reiche das Ergebnis ein\n",
    "aoc3.submitPartTwo(sum)"
   ],
   "outputs": [
    {
     "data": {
      "text/html": [
       "        <div>\n",
       "            <p>Your answer: 95846796.</p>\n",
       "            <p>That's the right answer! You are <span class=\"day-success\">one gold star</span> closer to finding the Chief Historian.</p>\n",
       "<p>You have completed Day 3! You can <span class=\"share\">[Share<span class=\"share-content\">on <a href=\"https://bsky.app/intent/compose?text=I+just+completed+%22Mull+It+Over%22+%2D+Day+3+%2D+Advent+of+Code+2024+%23AdventOfCode+https%3A%2F%2Fadventofcode%2Ecom%2F2024%2Fday%2F3\" target=\"_blank\">Bluesky</a> <a href=\"https://twitter.com/intent/tweet?text=I+just+completed+%22Mull+It+Over%22+%2D+Day+3+%2D+Advent+of+Code+2024&amp;url=https%3A%2F%2Fadventofcode%2Ecom%2F2024%2Fday%2F3&amp;related=ericwastl&amp;hashtags=AdventOfCode\" target=\"_blank\">Twitter</a> <a href=\"javascript:void(0);\" onclick=\"var ms; try{ms=localStorage.getItem('mastodon.server')}finally{} if(typeof ms!=='string')ms=''; ms=prompt('Mastodon Server?',ms); if(typeof ms==='string' &amp;&amp; ms.length){this.href='https://'+ms+'/share?text=I+just+completed+%22Mull+It+Over%22+%2D+Day+3+%2D+Advent+of+Code+2024+%23AdventOfCode+https%3A%2F%2Fadventofcode%2Ecom%2F2024%2Fday%2F3';try{localStorage.setItem('mastodon.server',ms);}finally{}}else{return false;}\" target=\"_blank\">Mastodon</a></span>]</span> this victory or <a href=\"/2024\">[Return to Your Advent Calendar]</a>.</p>\n",
       "        </div>"
      ]
     },
     "execution_count": 17,
     "metadata": {},
     "output_type": "execute_result"
    }
   ],
   "execution_count": 17
  },
  {
   "metadata": {},
   "cell_type": "markdown",
   "source": "# Day 4"
  },
  {
   "metadata": {
    "ExecuteTime": {
     "end_time": "2024-12-04T14:53:50.391427800Z",
     "start_time": "2024-12-04T14:53:49.287978200Z"
    }
   },
   "cell_type": "code",
   "source": [
    "import com.toldoven.aoc.notebook.AocClient\n",
    "\n",
    "val aoc4 = AocClient.fromEnv().interactiveDay(2024, 4)\n",
    "aoc4.viewPartOne()"
   ],
   "outputs": [
    {
     "data": {
      "text/html": [
       "<h2>--- Day 4: Ceres Search ---</h2>\n",
       "<p>\"Looks like the Chief's not here. Next!\" One of The Historians pulls out a device and pushes the only button on it. After a brief flash, you recognize the interior of the <a href=\"/2019/day/10\">Ceres monitoring station</a>!</p> \n",
       "<p>As the search for the Chief continues, a small Elf who lives on the station tugs on your shirt; she'd like to know if you could help her with her <em>word search</em> (your puzzle input). She only has to find one word: <code>XMAS</code>.</p> \n",
       "<p>This word search allows words to be horizontal, vertical, diagonal, written backwards, or even overlapping other words. It's a little unusual, though, as you don't merely need to find one instance of <code>XMAS</code> - you need to find <em>all of them</em>. Here are a few ways <code>XMAS</code> might appear, where irrelevant characters have been replaced with <code>.</code>:</p>\n",
       "<p> </p>\n",
       "<pre><code>..X...\n",
       ".SAMX.\n",
       ".A..A.\n",
       "XMAS.S\n",
       ".X....\n",
       "</code></pre> \n",
       "<p>The actual word search will be full of letters instead. For example:</p> \n",
       "<pre><code>MMMSXXMASM\n",
       "MSAMXMSMSA\n",
       "AMXSXMAAMM\n",
       "MSAMASMSMX\n",
       "XMASAMXAMM\n",
       "XXAMMXXAMA\n",
       "SMSMSASXSS\n",
       "SAXAMASAAA\n",
       "MAMMMXMMMM\n",
       "MXMXAXMASX\n",
       "</code></pre> \n",
       "<p>In this word search, <code>XMAS</code> occurs a total of <code><em>18</em></code> times; here's the same word search again, but where letters not involved in any <code>XMAS</code> have been replaced with <code>.</code>:</p> \n",
       "<pre><code>....XXMAS.\n",
       ".SAMXMS...\n",
       "...S..A...\n",
       "..A.A.MS.X\n",
       "XMASAMX.MM\n",
       "X.....XA.A\n",
       "S.S.S.S.SS\n",
       ".A.A.A.A.A\n",
       "..M.M.M.MM\n",
       ".X.X.XMASX\n",
       "</code></pre> \n",
       "<p>Take a look at the little Elf's word search. <em>How many times does <code>XMAS</code> appear?</em></p>"
      ]
     },
     "execution_count": 4,
     "metadata": {},
     "output_type": "execute_result"
    }
   ],
   "execution_count": 4
  },
  {
   "metadata": {
    "ExecuteTime": {
     "end_time": "2024-12-04T15:03:22.774523200Z",
     "start_time": "2024-12-04T15:03:22.063276400Z"
    }
   },
   "cell_type": "code",
   "source": [
    "val SEARCHED = \"XMAS\"\n",
    "\n",
    "val input = aoc4.input()\n",
    "    .lines()\n",
    "    .filter { it.isNotEmpty() }\n",
    "\n",
    "fun countXMAS(input: List<String>): Int {\n",
    "    val height = input.size\n",
    "    val width = input[0].length\n",
    "    var count = 0\n",
    "\n",
    "    val directions = listOf(\n",
    "        -1 to -1, -1 to 0, -1 to 1,\n",
    "        0 to -1,            0 to 1,\n",
    "        1 to -1,   1 to 0,  1 to 1\n",
    "    )\n",
    "\n",
    "    fun isValid(row: Int, col: Int) = row in 0 until height && col in 0 until width\n",
    "\n",
    "    fun checkWord(startRow: Int, startCol: Int, dRow: Int, dCol: Int): Boolean {\n",
    "        if (!isValid(startRow + 3 * dRow, startCol + 3 * dCol)) return false\n",
    "\n",
    "        return SEARCHED == buildString {\n",
    "            for (i in 0..3) {\n",
    "                append(input[startRow + i * dRow][startCol + i * dCol])\n",
    "            }\n",
    "        }\n",
    "    }\n",
    "\n",
    "    for (row in 0 until height) {\n",
    "        for (col in 0 until width) {\n",
    "            for ((dRow, dCol) in directions) {\n",
    "                if (checkWord(row, col, dRow, dCol)) {\n",
    "                    count++\n",
    "                }\n",
    "            }\n",
    "        }\n",
    "    }\n",
    "\n",
    "    return count\n",
    "}\n",
    "\n",
    "val result = countXMAS(input)\n",
    "\n",
    "aoc4.submitPartOne(result)"
   ],
   "outputs": [
    {
     "data": {
      "text/html": [
       "<div>\n",
       "    <p>Your answer: 2545.</p>\n",
       "    <p>That's the right answer! You are <span class=\"day-success\">one gold star</span> closer to finding the Chief Historian. <a href=\"/2024/day/4#part2\">[Continue to Part Two]</a></p>\n",
       "</div>"
      ]
     },
     "execution_count": 6,
     "metadata": {},
     "output_type": "execute_result"
    }
   ],
   "execution_count": 6
  },
  {
   "metadata": {
    "ExecuteTime": {
     "end_time": "2024-12-04T15:03:33.734607200Z",
     "start_time": "2024-12-04T15:03:33.312751Z"
    }
   },
   "cell_type": "code",
   "source": "aoc4.viewPartTwo()",
   "outputs": [
    {
     "data": {
      "text/html": [
       "<h2 id=\"part2\">--- Part Two ---</h2>\n",
       "<p>The Elf looks quizzically at you. Did you misunderstand the assignment?</p> \n",
       "<p>Looking for the instructions, you flip over the word search to find that this isn't actually an <code><em>XMAS</em></code> puzzle; it's an <span title=\"This part originally involved searching for something else, but this joke was too dumb to pass up.\"><code><em>X-MAS</em></code></span> puzzle in which you're supposed to find two <code>MAS</code> in the shape of an <code>X</code>. One way to achieve that is like this:</p> \n",
       "<pre><code>M.S\n",
       ".A.\n",
       "M.S\n",
       "</code></pre> \n",
       "<p>Irrelevant characters have again been replaced with <code>.</code> in the above diagram. Within the <code>X</code>, each <code>MAS</code> can be written forwards or backwards.</p> \n",
       "<p>Here's the same example from before, but this time all of the <code>X-MAS</code>es have been kept instead:</p> \n",
       "<pre><code>.M.S......\n",
       "..A..MSMS.\n",
       ".M.S.MAA..\n",
       "..A.ASMSM.\n",
       ".M.S.M....\n",
       "..........\n",
       "S.S.S.S.S.\n",
       ".A.A.A.A..\n",
       "M.M.M.M.M.\n",
       "..........\n",
       "</code></pre> \n",
       "<p>In this example, an <code>X-MAS</code> appears <code><em>9</em></code> times.</p> \n",
       "<p>Flip the word search from the instructions back over to the word search side and try again. <em>How many times does an <code>X-MAS</code> appear?</em></p>"
      ]
     },
     "execution_count": 7,
     "metadata": {},
     "output_type": "execute_result"
    }
   ],
   "execution_count": 7
  },
  {
   "metadata": {
    "ExecuteTime": {
     "end_time": "2024-12-04T16:14:43.674281800Z",
     "start_time": "2024-12-04T16:14:43.063019700Z"
    }
   },
   "cell_type": "code",
   "source": [
    "fun countX_MAS(grid: List<String>): Int {\n",
    "    var sum = 0\n",
    "    var data = grid.map { it.toCharArray().toList() }\n",
    "\n",
    "    repeat(4) {\n",
    "        // Durchlaufe alle möglichen Startpunkte im Gitter\n",
    "        for (i in 0 until data.size - 2) {\n",
    "            for (j in 0 until data[i].size - 2) {\n",
    "                if (data[i][j] == 'M' &&\n",
    "                    data[i][j + 2] == 'S' &&\n",
    "                    data[i + 1][j + 1] == 'A' &&\n",
    "                    data[i + 2][j] == 'M' &&\n",
    "                    data[i + 2][j + 2] == 'S') {\n",
    "                    sum++\n",
    "                }\n",
    "            }\n",
    "        }\n",
    "        data = rotate90(data)\n",
    "    }\n",
    "\n",
    "    return sum\n",
    "}\n",
    "\n",
    "/**\n",
    " * Rotates the given grid 90 degrees clockwise.\n",
    " *\n",
    " * @param grid The current grid as a list of lists of Char.\n",
    " * @return The grid rotated by 90 degrees.\n",
    " */\n",
    "fun rotate90(grid: List<List<Char>>): List<List<Char>> {\n",
    "    val numRows = grid.size\n",
    "    val numCols = grid[0].size\n",
    "    // Create new list representing the rotated grid\n",
    "    val rotated = mutableListOf<List<Char>>()\n",
    "\n",
    "    for (col in 0 until numCols) {\n",
    "        val newRow = mutableListOf<Char>()\n",
    "        for (row in numRows - 1 downTo 0) {\n",
    "            newRow.add(grid[row][col])\n",
    "        }\n",
    "        rotated.add(newRow)\n",
    "    }\n",
    "\n",
    "    return rotated\n",
    "}\n",
    "\n",
    "val input2 = aoc4.input()\n",
    "    .lines()\n",
    "    .filter { it.isNotEmpty() }\n",
    "    .map {\n",
    "        it.map {\n",
    "            if (it in releventChars) it\n",
    "            else '.'\n",
    "        }.joinToString(\"\")\n",
    "    }\n",
    "\n",
    "\n",
    "val result = countX_MAS(input2)\n",
    "\n",
    "// println(\"Found X-MAS patterns: $result\")\n",
    "aoc4.submitPartTwo(result)"
   ],
   "outputs": [
    {
     "data": {
      "text/html": [
       "        <div>\n",
       "            <p>Your answer: 1886.</p>\n",
       "            <p>That's the right answer! You are <span class=\"day-success\">one gold star</span> closer to finding the Chief Historian.</p>\n",
       "<p>You have completed Day 4! You can <span class=\"share\">[Share<span class=\"share-content\">on <a href=\"https://bsky.app/intent/compose?text=I+just+completed+%22Ceres+Search%22+%2D+Day+4+%2D+Advent+of+Code+2024+%23AdventOfCode+https%3A%2F%2Fadventofcode%2Ecom%2F2024%2Fday%2F4\" target=\"_blank\">Bluesky</a> <a href=\"https://twitter.com/intent/tweet?text=I+just+completed+%22Ceres+Search%22+%2D+Day+4+%2D+Advent+of+Code+2024&amp;url=https%3A%2F%2Fadventofcode%2Ecom%2F2024%2Fday%2F4&amp;related=ericwastl&amp;hashtags=AdventOfCode\" target=\"_blank\">Twitter</a> <a href=\"javascript:void(0);\" onclick=\"var ms; try{ms=localStorage.getItem('mastodon.server')}finally{} if(typeof ms!=='string')ms=''; ms=prompt('Mastodon Server?',ms); if(typeof ms==='string' &amp;&amp; ms.length){this.href='https://'+ms+'/share?text=I+just+completed+%22Ceres+Search%22+%2D+Day+4+%2D+Advent+of+Code+2024+%23AdventOfCode+https%3A%2F%2Fadventofcode%2Ecom%2F2024%2Fday%2F4';try{localStorage.setItem('mastodon.server',ms);}finally{}}else{return false;}\" target=\"_blank\">Mastodon</a></span>]</span> this victory or <a href=\"/2024\">[Return to Your Advent Calendar]</a>.</p>\n",
       "        </div>"
      ]
     },
     "execution_count": 33,
     "metadata": {},
     "output_type": "execute_result"
    }
   ],
   "execution_count": 33
  },
  {
   "metadata": {},
   "cell_type": "markdown",
   "source": "# Day 5"
  },
  {
   "metadata": {
    "ExecuteTime": {
     "end_time": "2024-12-05T09:41:43.673274900Z",
     "start_time": "2024-12-05T09:41:42.130022300Z"
    }
   },
   "cell_type": "code",
   "source": [
    "import com.toldoven.aoc.notebook.AocClient\n",
    "\n",
    "val aoc5 = AocClient.fromEnv().interactiveDay(2024, 5)\n",
    "aoc5.viewPartOne()"
   ],
   "outputs": [
    {
     "data": {
      "text/html": [
       "<h2>--- Day 5: Print Queue ---</h2>\n",
       "<p>Satisfied with their search on Ceres, the squadron of scholars suggests subsequently scanning the <span title=\"Specifically, the surely-stationary stationery stacks.\">stationery</span> stacks of sub-basement 17.</p> \n",
       "<p>The North Pole printing department is busier than ever this close to Christmas, and while The Historians continue their search of this historically significant facility, an Elf operating a <a href=\"/2017/day/1\">very familiar printer</a> beckons you over.</p> \n",
       "<p>The Elf must recognize you, because they waste no time explaining that the new <em>sleigh launch safety manual</em> updates won't print correctly. Failure to update the safety manuals would be dire indeed, so you offer your services.</p> \n",
       "<p>Safety protocols clearly indicate that new pages for the safety manuals must be printed in a <em>very specific order</em>. The notation <code>X|Y</code> means that if both page number <code>X</code> and page number <code>Y</code> are to be produced as part of an update, page number <code>X</code> <em>must</em> be printed at some point before page number <code>Y</code>.</p> \n",
       "<p>The Elf has for you both the <em>page ordering rules</em> and the <em>pages to produce in each update</em> (your puzzle input), but can't figure out whether each update has the pages in the right order.</p> \n",
       "<p>For example:</p> \n",
       "<pre><code>47|53\n",
       "97|13\n",
       "97|61\n",
       "97|47\n",
       "75|29\n",
       "61|13\n",
       "75|53\n",
       "29|13\n",
       "97|29\n",
       "53|29\n",
       "61|53\n",
       "97|53\n",
       "61|29\n",
       "47|13\n",
       "75|47\n",
       "97|75\n",
       "47|61\n",
       "75|61\n",
       "47|29\n",
       "75|13\n",
       "53|13\n",
       "\n",
       "75,47,61,53,29\n",
       "97,61,53,29,13\n",
       "75,29,13\n",
       "75,97,47,61,53\n",
       "61,13,29\n",
       "97,13,75,29,47\n",
       "</code></pre> \n",
       "<p>The first section specifies the <em>page ordering rules</em>, one per line. The first rule, <code>47|53</code>, means that if an update includes both page number 47 and page number 53, then page number 47 <em>must</em> be printed at some point before page number 53. (47 doesn't necessarily need to be <em>immediately</em> before 53; other pages are allowed to be between them.)</p> \n",
       "<p>The second section specifies the page numbers of each <em>update</em>. Because most safety manuals are different, the pages needed in the updates are different too. The first update, <code>75,47,61,53,29</code>, means that the update consists of page numbers 75, 47, 61, 53, and 29.</p> \n",
       "<p>To get the printers going as soon as possible, start by identifying <em>which updates are already in the right order</em>.</p> \n",
       "<p>In the above example, the first update (<code>75,47,61,53,29</code>) is in the right order:</p> \n",
       "<ul> \n",
       " <li><code>75</code> is correctly first because there are rules that put each other page after it: <code>75|47</code>, <code>75|61</code>, <code>75|53</code>, and <code>75|29</code>.</li> \n",
       " <li><code>47</code> is correctly second because 75 must be before it (<code>75|47</code>) and every other page must be after it according to <code>47|61</code>, <code>47|53</code>, and <code>47|29</code>.</li> \n",
       " <li><code>61</code> is correctly in the middle because 75 and 47 are before it (<code>75|61</code> and <code>47|61</code>) and 53 and 29 are after it (<code>61|53</code> and <code>61|29</code>).</li> \n",
       " <li><code>53</code> is correctly fourth because it is before page number 29 (<code>53|29</code>).</li> \n",
       " <li><code>29</code> is the only page left and so is correctly last.</li> \n",
       "</ul> \n",
       "<p>Because the first update does not include some page numbers, the ordering rules involving those missing page numbers are ignored.</p> \n",
       "<p>The second and third updates are also in the correct order according to the rules. Like the first update, they also do not include every page number, and so only some of the ordering rules apply - within each update, the ordering rules that involve missing page numbers are not used.</p> \n",
       "<p>The fourth update, <code>75,97,47,61,53</code>, is <em>not</em> in the correct order: it would print 75 before 97, which violates the rule <code>97|75</code>.</p> \n",
       "<p>The fifth update, <code>61,13,29</code>, is also <em>not</em> in the correct order, since it breaks the rule <code>29|13</code>.</p> \n",
       "<p>The last update, <code>97,13,75,29,47</code>, is <em>not</em> in the correct order due to breaking several rules.</p> \n",
       "<p>For some reason, the Elves also need to know the <em>middle page number</em> of each update being printed. Because you are currently only printing the correctly-ordered updates, you will need to find the middle page number of each correctly-ordered update. In the above example, the correctly-ordered updates are:</p> \n",
       "<pre><code>75,47,<em>61</em>,53,29\n",
       "97,61,<em>53</em>,29,13\n",
       "75,<em>29</em>,13\n",
       "</code></pre> \n",
       "<p>These have middle page numbers of <code>61</code>, <code>53</code>, and <code>29</code> respectively. Adding these page numbers together gives <code><em>143</em></code>.</p> \n",
       "<p>Of course, you'll need to be careful: the actual list of <em>page ordering rules</em> is bigger and more complicated than the above example.</p> \n",
       "<p>Determine which updates are already in the correct order. <em>What do you get if you add up the middle page number from those correctly-ordered updates?</em></p>"
      ]
     },
     "execution_count": 1,
     "metadata": {},
     "output_type": "execute_result"
    }
   ],
   "execution_count": 1
  },
  {
   "metadata": {
    "ExecuteTime": {
     "end_time": "2024-12-05T10:17:28.894054500Z",
     "start_time": "2024-12-05T10:17:27.998717300Z"
    }
   },
   "cell_type": "code",
   "source": [
    "val input = aoc5.input()\n",
    "    .lines()\n",
    "    .filter { it.isNotEmpty() }\n",
    "\n",
    "data class Rule(val first: Int, val second: Int) {\n",
    "    fun contains(number: Int): Boolean {\n",
    "        return number in setOf(first, second)\n",
    "    }\n",
    "}\n",
    "\n",
    "val rules = input\n",
    "    .filter { it.contains(\"|\") }\n",
    "    .map { it.split(\"|\").map { it.trim() } }\n",
    "    .filter {\n",
    "        when (it.size) {\n",
    "            2 -> true\n",
    "            else -> {\n",
    "                println(\"Invalid input: $it\")\n",
    "                false\n",
    "            }\n",
    "        }\n",
    "    }\n",
    "    .map { Rule(it[0].toInt(), it[1].toInt()) }\n",
    "\n",
    "data class Update(val pages: List<Int>) {\n",
    "    fun isValid(rules: List<Rule>): Boolean {\n",
    "        for (index in pages.indices) {\n",
    "            val page = pages[index]\n",
    "            val pagesBefore = pages.subList(0, index)\n",
    "            val pagesAfter = pages.subList(index + 1, pages.size)\n",
    "\n",
    "            val anyRuleViotaled: Boolean = rules\n",
    "                .filter { it.contains(page) }\n",
    "                .any {\n",
    "                    when (page) {\n",
    "                        it.second -> !pagesBefore.contains(it.first) && pages.contains(it.first)\n",
    "                        it.first -> pagesAfter.contains(it.second) && pagesBefore.contains(it.second)\n",
    "                        else -> false\n",
    "                    }\n",
    "                }\n",
    "\n",
    "            if (anyRuleViotaled) return false\n",
    "        }\n",
    "\n",
    "        return true\n",
    "    }\n",
    "\n",
    "    fun getMiddlePage(): Int {\n",
    "        return pages[pages.size / 2]\n",
    "    }\n",
    "}\n",
    "\n",
    "val updates = input\n",
    "    .filter { !it.contains(\"|\") }\n",
    "    .map { it.split(\",\").map { it.trim() }.filter { it.isNotEmpty() }.map { it.toInt() } }\n",
    "    .map { Update(it) }\n",
    "\n",
    "val validUpdates = updates.filter { it.isValid(rules) }\n",
    "\n",
    "println(\"Valid updates: ${validUpdates.size}\")\n",
    "\n",
    "aoc5.submitPartOne(validUpdates.sumOf { it.getMiddlePage() })"
   ],
   "outputs": [
    {
     "name": "stdout",
     "output_type": "stream",
     "text": [
      "Valid updates: 125\r\n"
     ]
    },
    {
     "data": {
      "text/html": [
       "<div>\n",
       "    <p>Your answer: 6951.</p>\n",
       "    <p>That's the right answer! You are <span class=\"day-success\">one gold star</span> closer to finding the Chief Historian. <a href=\"/2024/day/5#part2\">[Continue to Part Two]</a></p>\n",
       "</div>"
      ]
     },
     "execution_count": 6,
     "metadata": {},
     "output_type": "execute_result"
    }
   ],
   "execution_count": 6
  },
  {
   "metadata": {
    "ExecuteTime": {
     "end_time": "2024-12-05T10:17:44.004791700Z",
     "start_time": "2024-12-05T10:17:43.597334Z"
    }
   },
   "cell_type": "code",
   "source": "aoc5.viewPartTwo()",
   "outputs": [
    {
     "data": {
      "text/html": [
       "<h2 id=\"part2\">--- Part Two ---</h2>\n",
       "<p>While the Elves get to work printing the correctly-ordered updates, you have a little time to fix the rest of them.</p> \n",
       "<p>For each of the <em>incorrectly-ordered updates</em>, use the page ordering rules to put the page numbers in the right order. For the above example, here are the three incorrectly-ordered updates and their correct orderings:</p> \n",
       "<ul> \n",
       " <li><code>75,97,47,61,53</code> becomes <code>97,75,<em>47</em>,61,53</code>.</li> \n",
       " <li><code>61,13,29</code> becomes <code>61,<em>29</em>,13</code>.</li> \n",
       " <li><code>97,13,75,29,47</code> becomes <code>97,75,<em>47</em>,29,13</code>.</li> \n",
       "</ul> \n",
       "<p>After taking <em>only the incorrectly-ordered updates</em> and ordering them correctly, their middle page numbers are <code>47</code>, <code>29</code>, and <code>47</code>. Adding these together produces <code><em>123</em></code>.</p> \n",
       "<p>Find the updates which are not in the correct order. <em>What do you get if you add up the middle page numbers after correctly ordering just those updates?</em></p>"
      ]
     },
     "execution_count": 7,
     "metadata": {},
     "output_type": "execute_result"
    }
   ],
   "execution_count": 7
  },
  {
   "metadata": {
    "ExecuteTime": {
     "end_time": "2024-12-05T10:30:19.622034400Z",
     "start_time": "2024-12-05T10:30:18.697402500Z"
    }
   },
   "cell_type": "code",
   "source": [
    "val incorrectUpdates = updates.filter { !it.isValid(rules) }\n",
    "\n",
    "fun Update.fixOrder(rules: List<Rule>): Update {\n",
    "    // create dependency list and degree count\n",
    "    val graph = pages.associateWith { mutableListOf<Int>() }\n",
    "    val degree = pages.associateWith { 0 }.toMutableMap()\n",
    "\n",
    "    // build graph using relevant rules\n",
    "    rules.forEach { rule ->\n",
    "        if (rule.first in pages && rule.second in pages) {\n",
    "            graph[rule.first]?.add(rule.second)\n",
    "            degree[rule.second] = degree[rule.second]!! + 1\n",
    "        }\n",
    "    }\n",
    "\n",
    "    // find nodes with no incoming edges (degree 0)\n",
    "    val queue = ArrayDeque(pages.filter { degree[it] == 0 })\n",
    "    val result = mutableListOf<Int>()\n",
    "\n",
    "    // process queue in a topological sort\n",
    "    while (queue.isNotEmpty()) {\n",
    "        val current = queue.removeFirst()\n",
    "        result.add(current)\n",
    "\n",
    "        // remove edges from current node\n",
    "        graph[current]?.forEach { neighbor ->\n",
    "            degree[neighbor] = degree[neighbor]!! - 1\n",
    "            if (degree[neighbor] == 0) {\n",
    "                queue.add(neighbor)\n",
    "            }\n",
    "        }\n",
    "    }\n",
    "\n",
    "    return Update(result)\n",
    "}\n",
    "\n",
    "val fixedUpdates = incorrectUpdates.map { it.fixOrder(rules) }\n",
    "\n",
    "aoc5.submitPartTwo(fixedUpdates.sumOf { it.getMiddlePage() })"
   ],
   "outputs": [
    {
     "data": {
      "text/html": [
       "        <div>\n",
       "            <p>Your answer: 4121.</p>\n",
       "            <p>That's the right answer! You are <span class=\"day-success\">one gold star</span> closer to finding the Chief Historian.</p>\n",
       "<p>You have completed Day 5! You can <span class=\"share\">[Share<span class=\"share-content\">on <a href=\"https://bsky.app/intent/compose?text=I+just+completed+%22Print+Queue%22+%2D+Day+5+%2D+Advent+of+Code+2024+%23AdventOfCode+https%3A%2F%2Fadventofcode%2Ecom%2F2024%2Fday%2F5\" target=\"_blank\">Bluesky</a> <a href=\"https://twitter.com/intent/tweet?text=I+just+completed+%22Print+Queue%22+%2D+Day+5+%2D+Advent+of+Code+2024&amp;url=https%3A%2F%2Fadventofcode%2Ecom%2F2024%2Fday%2F5&amp;related=ericwastl&amp;hashtags=AdventOfCode\" target=\"_blank\">Twitter</a> <a href=\"javascript:void(0);\" onclick=\"var ms; try{ms=localStorage.getItem('mastodon.server')}finally{} if(typeof ms!=='string')ms=''; ms=prompt('Mastodon Server?',ms); if(typeof ms==='string' &amp;&amp; ms.length){this.href='https://'+ms+'/share?text=I+just+completed+%22Print+Queue%22+%2D+Day+5+%2D+Advent+of+Code+2024+%23AdventOfCode+https%3A%2F%2Fadventofcode%2Ecom%2F2024%2Fday%2F5';try{localStorage.setItem('mastodon.server',ms);}finally{}}else{return false;}\" target=\"_blank\">Mastodon</a></span>]</span> this victory or <a href=\"/2024\">[Return to Your Advent Calendar]</a>.</p>\n",
       "        </div>"
      ]
     },
     "execution_count": 8,
     "metadata": {},
     "output_type": "execute_result"
    }
   ],
   "execution_count": 8
  },
  {
   "metadata": {},
   "cell_type": "markdown",
   "source": "# Day 6"
  },
  {
   "metadata": {
    "ExecuteTime": {
     "end_time": "2024-12-06T11:02:01.110297100Z",
     "start_time": "2024-12-06T11:02:00.959600600Z"
    }
   },
   "cell_type": "code",
   "source": [
    "import com.toldoven.aoc.notebook.AocClient\n",
    "\n",
    "val aoc6 = AocClient.fromEnv().interactiveDay(2024, 6)\n",
    "aoc6.viewPartOne()"
   ],
   "outputs": [
    {
     "data": {
      "text/html": [
       "<h2>--- Day 6: Guard Gallivant ---</h2>\n",
       "<p>The Historians use their fancy <a href=\"4\">device</a> again, this time to whisk you all away to the North Pole prototype suit manufacturing lab... in the year <a href=\"/2018/day/5\">1518</a>! It turns out that having direct access to history is very convenient for a group of historians.</p> \n",
       "<p>You still have to be careful of time paradoxes, and so it will be important to avoid anyone from 1518 while The Historians search for the Chief. Unfortunately, a single <em>guard</em> is patrolling this part of the lab.</p> \n",
       "<p>Maybe you can work out where the guard will go ahead of time so that The Historians can search safely?</p> \n",
       "<p>You start by making a map (your puzzle input) of the situation. For example:</p> \n",
       "<pre><code>....#.....\n",
       ".........#\n",
       "..........\n",
       "..#.......\n",
       ".......#..\n",
       "..........\n",
       ".#..^.....\n",
       "........#.\n",
       "#.........\n",
       "......#...\n",
       "</code></pre> \n",
       "<p>The map shows the current position of the guard with <code>^</code> (to indicate the guard is currently facing <em>up</em> from the perspective of the map). Any <em>obstructions</em> - crates, desks, alchemical reactors, etc. - are shown as <code>#</code>.</p> \n",
       "<p>Lab guards in 1518 follow a very strict patrol protocol which involves repeatedly following these steps:</p> \n",
       "<ul> \n",
       " <li>If there is something directly in front of you, turn right 90 degrees.</li> \n",
       " <li>Otherwise, take a step forward.</li> \n",
       "</ul> \n",
       "<p>Following the above protocol, the guard moves up several times until she reaches an obstacle (in this case, a pile of failed suit prototypes):</p> \n",
       "<pre><code>....#.....\n",
       "....^....#\n",
       "..........\n",
       "..#.......\n",
       ".......#..\n",
       "..........\n",
       ".#........\n",
       "........#.\n",
       "#.........\n",
       "......#...\n",
       "</code></pre> \n",
       "<p>Because there is now an obstacle in front of the guard, she turns right before continuing straight in her new facing direction:</p> \n",
       "<pre><code>....#.....\n",
       "........&gt;#\n",
       "..........\n",
       "..#.......\n",
       ".......#..\n",
       "..........\n",
       ".#........\n",
       "........#.\n",
       "#.........\n",
       "......#...\n",
       "</code></pre> \n",
       "<p>Reaching another obstacle (a spool of several <em>very</em> long polymers), she turns right again and continues downward:</p> \n",
       "<pre><code>....#.....\n",
       ".........#\n",
       "..........\n",
       "..#.......\n",
       ".......#..\n",
       "..........\n",
       ".#......v.\n",
       "........#.\n",
       "#.........\n",
       "......#...\n",
       "</code></pre> \n",
       "<p>This process continues for a while, but the guard eventually leaves the mapped area (after walking past a tank of universal solvent):</p> \n",
       "<pre><code>....#.....\n",
       ".........#\n",
       "..........\n",
       "..#.......\n",
       ".......#..\n",
       "..........\n",
       ".#........\n",
       "........#.\n",
       "#.........\n",
       "......#v..\n",
       "</code></pre> \n",
       "<p>By predicting the guard's route, you can determine which specific positions in the lab will be in the patrol path. <em>Including the guard's starting position</em>, the positions visited by the guard before leaving the area are marked with an <code>X</code>:</p> \n",
       "<pre><code>....#.....\n",
       "....XXXXX#\n",
       "....X...X.\n",
       "..#.X...X.\n",
       "..XXXXX#X.\n",
       "..X.X.X.X.\n",
       ".#XXXXXXX.\n",
       ".XXXXXXX#.\n",
       "#XXXXXXX..\n",
       "......#X..\n",
       "</code></pre> \n",
       "<p>In this example, the guard will visit <code><em>41</em></code> distinct positions on your map.</p> \n",
       "<p>Predict the path of the guard. <em>How many distinct positions will the guard visit before leaving the mapped area?</em></p>"
      ]
     },
     "execution_count": 2,
     "metadata": {},
     "output_type": "execute_result"
    }
   ],
   "execution_count": 2
  },
  {
   "metadata": {
    "ExecuteTime": {
     "end_time": "2024-12-06T11:03:38.395007500Z",
     "start_time": "2024-12-06T11:03:16.955667900Z"
    }
   },
   "cell_type": "code",
   "source": [
    "val input = aoc6.input()\n",
    "    .lines()\n",
    "    .filter { it.isNotEmpty() }\n",
    "\n",
    "// transform to MutableList<MutableList<Char>>\n",
    "val grid = mutableListOf<MutableList<Char>>()\n",
    "for (line in input) {\n",
    "    val row = mutableListOf<Char>()\n",
    "    for (char in line) {\n",
    "        row.add(char)\n",
    "    }\n",
    "    grid.add(row)\n",
    "}\n",
    "\n",
    "enum class Direction {\n",
    "    TOP, BOTTOM, LEFT, RIGHT;\n",
    "\n",
    "    fun getNextDirection(): Direction {\n",
    "        return when (this) {\n",
    "            Direction.TOP -> Direction.RIGHT\n",
    "            Direction.RIGHT -> Direction.BOTTOM\n",
    "            Direction.BOTTOM -> Direction.LEFT\n",
    "            Direction.LEFT -> Direction.TOP\n",
    "        }\n",
    "    }\n",
    "}\n",
    "\n",
    "data class Guard(var direction: Direction, var positionX: Int, var positionY: Int) {\n",
    "    fun move(direction: Direction = this.direction) {\n",
    "        when (direction) {\n",
    "            Direction.TOP -> moveBy(0, -1)\n",
    "            Direction.BOTTOM -> moveBy(0, 1)\n",
    "            Direction.LEFT -> moveBy(-1, 0)\n",
    "            Direction.RIGHT -> moveBy(1, 0)\n",
    "        }\n",
    "    }\n",
    "\n",
    "    /**\n",
    "     * Moves the guard by the given step in the current direction.\n",
    "     * @param stepX The step in the x-direction. (left is -1, right is 1)\n",
    "     * @param stepY The step in the y-direction. (up is -1, down is 1)\n",
    "     */\n",
    "    fun moveBy(stepX: Int, stepY: Int) {\n",
    "        val toFar = listOf(stepX, stepY)\n",
    "            .any { it.absoluteValue > 1 }\n",
    "        if (toFar) throw Exception(\"Can't move that far\")\n",
    "        positionX += stepX\n",
    "        positionY += stepY\n",
    "    }\n",
    "\n",
    "    fun setPosition(x: Int, y: Int) {\n",
    "        positionX = x\n",
    "        positionY = y\n",
    "    }\n",
    "\n",
    "    fun getNextPosition(direction: Direction = this.direction): Pair<Int, Int> {\n",
    "        val tmp = Guard(direction, positionX, positionY)\n",
    "        tmp.move()\n",
    "        return tmp.positionX to tmp.positionY\n",
    "    }\n",
    "}\n",
    "\n",
    "// set initial guard position\n",
    "val guard = initGuard(input)\n",
    "\n",
    "fun initGuard(input: List<String>): Guard {\n",
    "    val guard = Guard(Direction.TOP, Int.MIN_VALUE, Int.MIN_VALUE)\n",
    "    for (row in input.indices) {\n",
    "        val rowString = input[row]\n",
    "        for (col in rowString.indices) {\n",
    "            if (rowString[col] == '^') {\n",
    "                guard.setPosition(col, row)\n",
    "                return guard\n",
    "            }\n",
    "        }\n",
    "    }\n",
    "\n",
    "    throw Exception(\"Guard not found\")\n",
    "}\n",
    "\n",
    "fun moveGuard(guard: Guard, grid: MutableList<MutableList<Char>>) {\n",
    "    var count = 0\n",
    "    // try until all directions are tried\n",
    "    while (count < 4) {\n",
    "        val nextPosition = guard.getNextPosition()\n",
    "        var outOfBounds = false\n",
    "        try {\n",
    "            grid[nextPosition.second][nextPosition.first]\n",
    "        } catch (e: IndexOutOfBoundsException) {\n",
    "            outOfBounds = true\n",
    "        }\n",
    "\n",
    "        if (!outOfBounds && grid[nextPosition.second][nextPosition.first] != '#') {\n",
    "            grid[guard.positionY][guard.positionX] = '.'\n",
    "            guard.move()\n",
    "            return\n",
    "        } else if (!outOfBounds && grid[nextPosition.second][nextPosition.first] == 'X') {\n",
    "            grid[guard.positionY][guard.positionX] = 'X'\n",
    "            // FIXME: figure out how to detect if we're in a loop\n",
    "        } else {\n",
    "            guard.direction = guard.direction.getNextDirection()\n",
    "            count++\n",
    "        }\n",
    "    }\n",
    "\n",
    "    throw Exception(\"Guard couldn't move\")\n",
    "}\n",
    "\n",
    "fun predict(grid: MutableList<MutableList<Char>>): Int {\n",
    "    val guard = initGuard(input)\n",
    "    while (true) {\n",
    "        try {\n",
    "            val test = grid[guard.positionY][guard.positionX]\n",
    "        } catch (e: IndexOutOfBoundsException) {\n",
    "            return grid\n",
    "                .map { it.count { it == 'X' } }\n",
    "                .sum()\n",
    "        }\n",
    "        moveGuard(guard, grid)\n",
    "    }\n",
    "}\n",
    "\n",
    "val result = predict(grid)\n",
    "\n",
    "aoc6.submitPartOne(result)"
   ],
   "outputs": [
    {
     "ename": "org.jetbrains.kotlinx.jupyter.exceptions.ReplInterruptedException",
     "evalue": "The execution was interrupted",
     "output_type": "error",
     "traceback": []
    }
   ],
   "execution_count": 5
  },
  {
   "metadata": {},
   "cell_type": "code",
   "outputs": [],
   "execution_count": null,
   "source": ""
  }
 ],
 "metadata": {
  "kernelspec": {
   "display_name": "Kotlin",
   "language": "kotlin",
   "name": "kotlin"
  },
  "language_info": {
   "name": "kotlin",
   "version": "1.9.23",
   "mimetype": "text/x-kotlin",
   "file_extension": ".kt",
   "pygments_lexer": "kotlin",
   "codemirror_mode": "text/x-kotlin",
   "nbconvert_exporter": ""
  },
  "ktnbPluginMetadata": {
   "projectDependencies": [
    "aoc.main"
   ],
   "projectLibraries": false
  }
 },
 "nbformat": 4,
 "nbformat_minor": 0
}

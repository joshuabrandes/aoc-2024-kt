{
 "cells": [
  {
   "metadata": {},
   "cell_type": "markdown",
   "source": "# Advent of Code 2024"
  },
  {
   "metadata": {},
   "cell_type": "markdown",
   "source": "# Day 1"
  },
  {
   "metadata": {
    "collapsed": true,
    "ExecuteTime": {
     "end_time": "2024-12-01T20:36:49.093002100Z",
     "start_time": "2024-12-01T20:36:48.002799600Z"
    }
   },
   "cell_type": "code",
   "source": [
    "import com.toldoven.aoc.notebook.AocClient\n",
    "\n",
    "val aoc = AocClient.fromEnv().interactiveDay(2024, 1)\n",
    "\n",
    "aoc.viewPartOne()"
   ],
   "outputs": [
    {
     "data": {
      "text/html": [
       "<h2>--- Day 1: Historian Hysteria ---</h2>\n",
       "<p>The <em>Chief Historian</em> is always present for the big Christmas sleigh launch, but nobody has seen him in months! Last anyone heard, he was visiting locations that are historically significant to the North Pole; a group of Senior Historians has asked you to accompany them as they check the places they think he was most likely to visit.</p> \n",
       "<p>As each location is checked, they will mark it on their list with a <em class=\"star\">star</em>. They figure the Chief Historian <em>must</em> be in one of the first fifty places they'll look, so in order to save Christmas, you need to help them get <em class=\"star\">fifty stars</em> on their list before Santa takes off on December 25th.</p> \n",
       "<p>Collect stars by solving puzzles. Two puzzles will be made available on each day in the Advent calendar; the second puzzle is unlocked when you complete the first. Each puzzle grants <em class=\"star\">one star</em>. Good luck!</p> \n",
       "<p>You haven't even left yet and the group of Elvish Senior Historians has already hit a problem: their list of locations to check is currently <em>empty</em>. Eventually, someone decides that the best place to check first would be the Chief Historian's office.</p> \n",
       "<p>Upon pouring into the office, everyone confirms that the Chief Historian is indeed nowhere to be found. Instead, the Elves discover an assortment of notes and lists of historically significant locations! This seems to be the planning the Chief Historian was doing before he left. Perhaps these notes can be used to determine which locations to search?</p> \n",
       "<p>Throughout the Chief's office, the historically significant locations are listed not by name but by a unique number called the <em>location ID</em>. To make sure they don't miss anything, The Historians split into two groups, each searching the office and trying to create their own complete list of location IDs.</p> \n",
       "<p>There's just one problem: by holding the two lists up <em>side by side</em> (your puzzle input), it quickly becomes clear that the lists aren't very similar. Maybe you can help The Historians reconcile their lists?</p> \n",
       "<p>For example:</p> \n",
       "<pre><code>3   4\n",
       "4   3\n",
       "2   5\n",
       "1   3\n",
       "3   9\n",
       "3   3\n",
       "</code></pre> \n",
       "<p>Maybe the lists are only off by a small amount! To find out, pair up the numbers and measure how far apart they are. Pair up the <em>smallest number in the left list</em> with the <em>smallest number in the right list</em>, then the <em>second-smallest left number</em> with the <em>second-smallest right number</em>, and so on.</p> \n",
       "<p>Within each pair, figure out <em>how far apart</em> the two numbers are; you'll need to <em>add up all of those distances</em>. For example, if you pair up a <code>3</code> from the left list with a <code>7</code> from the right list, the distance apart is <code>4</code>; if you pair up a <code>9</code> with a <code>3</code>, the distance apart is <code>6</code>.</p> \n",
       "<p>In the example list above, the pairs and distances would be as follows:</p> \n",
       "<ul> \n",
       " <li>The smallest number in the left list is <code>1</code>, and the smallest number in the right list is <code>3</code>. The distance between them is <code><em>2</em></code>.</li> \n",
       " <li>The second-smallest number in the left list is <code>2</code>, and the second-smallest number in the right list is another <code>3</code>. The distance between them is <code><em>1</em></code>.</li> \n",
       " <li>The third-smallest number in both lists is <code>3</code>, so the distance between them is <code><em>0</em></code>.</li> \n",
       " <li>The next numbers to pair up are <code>3</code> and <code>4</code>, a distance of <code><em>1</em></code>.</li> \n",
       " <li>The fifth-smallest numbers in each list are <code>3</code> and <code>5</code>, a distance of <code><em>2</em></code>.</li> \n",
       " <li>Finally, the largest number in the left list is <code>4</code>, while the largest number in the right list is <code>9</code>; these are a distance <code><em>5</em></code> apart.</li> \n",
       "</ul> \n",
       "<p>To find the <em>total distance</em> between the left list and the right list, add up the distances between all of the pairs you found. In the example above, this is <code>2 + 1 + 0 + 1 + 2 + 5</code>, a total distance of <code><em>11</em></code>!</p> \n",
       "<p>Your actual left and right lists contain many location IDs. <em>What is the total distance between your lists?</em></p>"
      ]
     },
     "execution_count": 1,
     "metadata": {},
     "output_type": "execute_result"
    }
   ],
   "execution_count": 1
  },
  {
   "metadata": {
    "ExecuteTime": {
     "end_time": "2024-12-01T20:59:25.640168400Z",
     "start_time": "2024-12-01T20:59:24.867570100Z"
    }
   },
   "cell_type": "code",
   "source": [
    "val input = aoc.input()\n",
    "    .lines()\n",
    "\n",
    "val (leftList, rightList) = input\n",
    "    .filter { it.isNotEmpty() }\n",
    "    .map { line ->\n",
    "        line.split(\" \")\n",
    "            .filter { it.isNotEmpty() }\n",
    "            .map { it.toInt() }\n",
    "    }\n",
    "    .let { line -> line.map { it[0] } to line.map { it[1] } }\n",
    "\n",
    "// Listen sortieren\n",
    "val sortedLeft = leftList.sorted()\n",
    "val sortedRight = rightList.sorted()\n",
    "\n",
    "// Paare bilden und Differenzen berechnen\n",
    "val result = sortedLeft.zip(sortedRight)\n",
    "    .sumOf { (left, right) -> kotlin.math.abs(left - right) }\n",
    "\n",
    "aoc.submitPartOne(result)\n"
   ],
   "outputs": [
    {
     "data": {
      "text/html": [
       "<div>\n",
       "    <p>Your answer: 1834060.</p>\n",
       "    <p>That's the right answer! You are <span class=\"day-success\">one gold star</span> closer to finding the Chief Historian. <a href=\"/2024/day/1#part2\">[Continue to Part Two]</a></p>\n",
       "</div>"
      ]
     },
     "execution_count": 5,
     "metadata": {},
     "output_type": "execute_result"
    }
   ],
   "execution_count": 5
  },
  {
   "metadata": {
    "ExecuteTime": {
     "end_time": "2024-12-01T20:59:40.886667600Z",
     "start_time": "2024-12-01T20:59:40.473630100Z"
    }
   },
   "cell_type": "code",
   "source": "aoc.viewPartTwo()",
   "outputs": [
    {
     "data": {
      "text/html": [
       "<h2 id=\"part2\">--- Part Two ---</h2>\n",
       "<p>Your analysis only confirmed what everyone feared: the two lists of location IDs are indeed very different.</p> \n",
       "<p>Or are they?</p> \n",
       "<p>The Historians can't agree on which group made the mistakes <em>or</em> how to read most of the Chief's handwriting, but in the commotion you notice an interesting detail: <span title=\"We were THIS close to summoning the Alot of Location IDs!\">a lot</span> of location IDs appear in both lists! Maybe the other numbers aren't location IDs at all but rather misinterpreted handwriting.</p> \n",
       "<p>This time, you'll need to figure out exactly how often each number from the left list appears in the right list. Calculate a total <em>similarity score</em> by adding up each number in the left list after multiplying it by the number of times that number appears in the right list.</p> \n",
       "<p>Here are the same example lists again:</p> \n",
       "<pre><code>3   4\n",
       "4   3\n",
       "2   5\n",
       "1   3\n",
       "3   9\n",
       "3   3\n",
       "</code></pre> \n",
       "<p>For these example lists, here is the process of finding the similarity score:</p> \n",
       "<ul> \n",
       " <li>The first number in the left list is <code>3</code>. It appears in the right list three times, so the similarity score increases by <code>3 * 3 = <em>9</em></code>.</li> \n",
       " <li>The second number in the left list is <code>4</code>. It appears in the right list once, so the similarity score increases by <code>4 * 1 = <em>4</em></code>.</li> \n",
       " <li>The third number in the left list is <code>2</code>. It does not appear in the right list, so the similarity score does not increase (<code>2 * 0 = 0</code>).</li> \n",
       " <li>The fourth number, <code>1</code>, also does not appear in the right list.</li> \n",
       " <li>The fifth number, <code>3</code>, appears in the right list three times; the similarity score increases by <code><em>9</em></code>.</li> \n",
       " <li>The last number, <code>3</code>, appears in the right list three times; the similarity score again increases by <code><em>9</em></code>.</li> \n",
       "</ul> \n",
       "<p>So, for these example lists, the similarity score at the end of this process is <code><em>31</em></code> (<code>9 + 4 + 0 + 0 + 9 + 9</code>).</p> \n",
       "<p>Once again consider your left and right lists. <em>What is their similarity score?</em></p>"
      ]
     },
     "execution_count": 6,
     "metadata": {},
     "output_type": "execute_result"
    }
   ],
   "execution_count": 6
  },
  {
   "metadata": {
    "ExecuteTime": {
     "end_time": "2024-12-01T21:04:11.887337100Z",
     "start_time": "2024-12-01T21:04:11.173539500Z"
    }
   },
   "cell_type": "code",
   "source": [
    "val rightFreqencies = rightList.groupingBy { it }.eachCount()\n",
    "\n",
    "// for every number in leftList:\n",
    "// - find the number of occurences of the number in rightList (0 if not found)\n",
    "// - multiply the number of occurences with the number\n",
    "\n",
    "val result2 = leftList.sumOf { num ->\n",
    "    num * (rightFreqencies[num] ?: 0)\n",
    "}\n",
    "\n",
    "aoc.submitPartTwo(result2)"
   ],
   "outputs": [
    {
     "data": {
      "text/html": [
       "        <div>\n",
       "            <p>Your answer: 21607792.</p>\n",
       "            <p>That's the right answer! You are <span class=\"day-success\">one gold star</span> closer to finding the Chief Historian.</p>\n",
       "<p>You have completed Day 1! You can <span class=\"share\">[Share<span class=\"share-content\">on <a href=\"https://bsky.app/intent/compose?text=I+just+completed+%22Historian+Hysteria%22+%2D+Day+1+%2D+Advent+of+Code+2024+%23AdventOfCode+https%3A%2F%2Fadventofcode%2Ecom%2F2024%2Fday%2F1\" target=\"_blank\">Bluesky</a> <a href=\"https://twitter.com/intent/tweet?text=I+just+completed+%22Historian+Hysteria%22+%2D+Day+1+%2D+Advent+of+Code+2024&amp;url=https%3A%2F%2Fadventofcode%2Ecom%2F2024%2Fday%2F1&amp;related=ericwastl&amp;hashtags=AdventOfCode\" target=\"_blank\">Twitter</a> <a href=\"javascript:void(0);\" onclick=\"var ms; try{ms=localStorage.getItem('mastodon.server')}finally{} if(typeof ms!=='string')ms=''; ms=prompt('Mastodon Server?',ms); if(typeof ms==='string' &amp;&amp; ms.length){this.href='https://'+ms+'/share?text=I+just+completed+%22Historian+Hysteria%22+%2D+Day+1+%2D+Advent+of+Code+2024+%23AdventOfCode+https%3A%2F%2Fadventofcode%2Ecom%2F2024%2Fday%2F1';try{localStorage.setItem('mastodon.server',ms);}finally{}}else{return false;}\" target=\"_blank\">Mastodon</a></span>]</span> this victory or <a href=\"/2024\">[Return to Your Advent Calendar]</a>.</p>\n",
       "        </div>"
      ]
     },
     "execution_count": 7,
     "metadata": {},
     "output_type": "execute_result"
    }
   ],
   "execution_count": 7
  },
  {
   "metadata": {},
   "cell_type": "markdown",
   "source": "# Day 2"
  },
  {
   "metadata": {
    "ExecuteTime": {
     "end_time": "2024-12-03T07:26:03.436351Z",
     "start_time": "2024-12-03T07:26:02.739640Z"
    }
   },
   "cell_type": "code",
   "source": [
    "import com.toldoven.aoc.notebook.AocClient\n",
    "\n",
    "val aoc2 = AocClient.fromEnv().interactiveDay(2024, 2)\n",
    "\n",
    "aoc2.viewPartOne()"
   ],
   "outputs": [
    {
     "data": {
      "text/html": [
       "<h2>--- Day 2: Red-Nosed Reports ---</h2>\n",
       "<p>Fortunately, the first location The Historians want to search isn't a long walk from the Chief Historian's office.</p> \n",
       "<p>While the <a href=\"/2015/day/19\">Red-Nosed Reindeer nuclear fusion/fission plant</a> appears to contain no sign of the Chief Historian, the engineers there run up to you as soon as they see you. Apparently, they <em>still</em> talk about the time Rudolph was saved through molecular synthesis from a single electron.</p> \n",
       "<p>They're quick to add that - since you're already here - they'd really appreciate your help analyzing some unusual data from the Red-Nosed reactor. You turn to check if The Historians are waiting for you, but they seem to have already divided into groups that are currently searching every corner of the facility. You offer to help with the unusual data.</p> \n",
       "<p>The unusual data (your puzzle input) consists of many <em>reports</em>, one report per line. Each report is a list of numbers called <em>levels</em> that are separated by spaces. For example:</p> \n",
       "<pre><code>7 6 4 2 1\n",
       "1 2 7 8 9\n",
       "9 7 6 2 1\n",
       "1 3 2 4 5\n",
       "8 6 4 4 1\n",
       "1 3 6 7 9\n",
       "</code></pre> \n",
       "<p>This example data contains six reports each containing five levels.</p> \n",
       "<p>The engineers are trying to figure out which reports are <em>safe</em>. The Red-Nosed reactor safety systems can only tolerate levels that are either gradually increasing or gradually decreasing. So, a report only counts as safe if both of the following are true:</p> \n",
       "<ul> \n",
       " <li>The levels are either <em>all increasing</em> or <em>all decreasing</em>.</li> \n",
       " <li>Any two adjacent levels differ by <em>at least one</em> and <em>at most three</em>.</li> \n",
       "</ul> \n",
       "<p>In the example above, the reports can be found safe or unsafe by checking those rules:</p> \n",
       "<ul> \n",
       " <li><code>7 6 4 2 1</code>: <em>Safe</em> because the levels are all decreasing by 1 or 2.</li> \n",
       " <li><code>1 2 7 8 9</code>: <em>Unsafe</em> because <code>2 7</code> is an increase of 5.</li> \n",
       " <li><code>9 7 6 2 1</code>: <em>Unsafe</em> because <code>6 2</code> is a decrease of 4.</li> \n",
       " <li><code>1 3 2 4 5</code>: <em>Unsafe</em> because <code>1 3</code> is increasing but <code>3 2</code> is decreasing.</li> \n",
       " <li><code>8 6 4 4 1</code>: <em>Unsafe</em> because <code>4 4</code> is neither an increase or a decrease.</li> \n",
       " <li><code>1 3 6 7 9</code>: <em>Safe</em> because the levels are all increasing by 1, 2, or 3.</li> \n",
       "</ul> \n",
       "<p>So, in this example, <code><em>2</em></code> reports are <em>safe</em>.</p> \n",
       "<p>Analyze the unusual data from the engineers. <em>How many reports are safe?</em></p>"
      ]
     },
     "execution_count": 2,
     "metadata": {},
     "output_type": "execute_result"
    }
   ],
   "execution_count": 2
  },
  {
   "metadata": {
    "ExecuteTime": {
     "end_time": "2024-12-03T07:46:28.361741Z",
     "start_time": "2024-12-03T07:46:27.519124Z"
    }
   },
   "cell_type": "code",
   "source": [
    "val input = aoc2.input()\n",
    "    .lines()\n",
    "    .filter { it.isNotEmpty() }\n",
    "\n",
    "class Entry(val data: List<Int>) {\n",
    "    /**\n",
    "     * Checks if the entry is safe. Conditions:\n",
    "     * - Decreasing values can only cahnge by 1 or 2 from the previous value\n",
    "     * - Increasing values can only change by 1, 2 or 3 from the previous value\n",
    "     * - one Entry cannot have both increasing and decreasing values\n",
    "     * - the difference between two consecutive values must not be 0\n",
    "     */\n",
    "    fun isSafe(): Boolean {\n",
    "        val pairs = data.zipWithNext()\n",
    "\n",
    "        if (pairs.any { (a, b) -> a == b }) return false\n",
    "\n",
    "        val hasDecreasingPairs = pairs.any { (a, b) -> a > b }\n",
    "        val hasIncreasingPairs = pairs.any { (a, b) -> a < b }\n",
    "\n",
    "        if (hasDecreasingPairs && hasIncreasingPairs) return false\n",
    "\n",
    "        return if (hasDecreasingPairs) {\n",
    "            pairs.all { (a, b) -> b - a in -3..0 }\n",
    "        } else {\n",
    "            pairs.all { (a, b) -> b - a in 1..3 }\n",
    "        }\n",
    "    }\n",
    "}\n",
    "\n",
    "val entries = input\n",
    "    .map { it.split(\" \").filter { it.isNotEmpty() } }\n",
    "    .map { it.map { it.toInt() } }\n",
    "    .map { Entry(it) }\n",
    "    .filter { it.isSafe() }\n",
    "\n",
    "aoc2.submitPartOne(entries.size)"
   ],
   "outputs": [
    {
     "data": {
      "text/html": [
       "<div>\n",
       "    <p>Your answer: 334.</p>\n",
       "    <p>That's the right answer! You are <span class=\"day-success\">one gold star</span> closer to finding the Chief Historian. <a href=\"/2024/day/2#part2\">[Continue to Part Two]</a></p>\n",
       "</div>"
      ]
     },
     "execution_count": 5,
     "metadata": {},
     "output_type": "execute_result"
    }
   ],
   "execution_count": 5
  },
  {
   "metadata": {
    "ExecuteTime": {
     "end_time": "2024-12-03T07:46:50.881594Z",
     "start_time": "2024-12-03T07:46:50.488201Z"
    }
   },
   "cell_type": "code",
   "source": "aoc2.viewPartTwo()",
   "outputs": [
    {
     "data": {
      "text/html": [
       "<h2 id=\"part2\">--- Part Two ---</h2>\n",
       "<p>The engineers are surprised by the low number of safe reports until they realize they forgot to tell you about the <span title=\"I need to get one of these!\">Problem Dampener</span>.</p> \n",
       "<p>The Problem Dampener is a reactor-mounted module that lets the reactor safety systems <em>tolerate a single bad level</em> in what would otherwise be a safe report. It's like the bad level never happened!</p> \n",
       "<p>Now, the same rules apply as before, except if removing a single level from an unsafe report would make it safe, the report instead counts as safe.</p> \n",
       "<p>More of the above example's reports are now safe:</p> \n",
       "<ul> \n",
       " <li><code>7 6 4 2 1</code>: <em>Safe</em> without removing any level.</li> \n",
       " <li><code>1 2 7 8 9</code>: <em>Unsafe</em> regardless of which level is removed.</li> \n",
       " <li><code>9 7 6 2 1</code>: <em>Unsafe</em> regardless of which level is removed.</li> \n",
       " <li><code>1 <em>3</em> 2 4 5</code>: <em>Safe</em> by removing the second level, <code>3</code>.</li> \n",
       " <li><code>8 6 <em>4</em> 4 1</code>: <em>Safe</em> by removing the third level, <code>4</code>.</li> \n",
       " <li><code>1 3 6 7 9</code>: <em>Safe</em> without removing any level.</li> \n",
       "</ul> \n",
       "<p>Thanks to the Problem Dampener, <code><em>4</em></code> reports are actually <em>safe</em>!</p> \n",
       "<p>Update your analysis by handling situations where the Problem Dampener can remove a single level from unsafe reports. <em>How many reports are now safe?</em></p>"
      ]
     },
     "execution_count": 6,
     "metadata": {},
     "output_type": "execute_result"
    }
   ],
   "execution_count": 6
  },
  {
   "metadata": {
    "ExecuteTime": {
     "end_time": "2024-12-03T08:08:58.028341Z",
     "start_time": "2024-12-03T08:08:57.413706Z"
    }
   },
   "cell_type": "code",
   "source": [
    "fun Entry.canBeMadeSafe(): Boolean {\n",
    "    if (isSafe()) return true\n",
    "\n",
    "    for (i in data.indices) {\n",
    "        val newList = data.filterIndexed { index, _ -> index != i }\n",
    "        if (Entry(newList).isSafe()) return true\n",
    "    }\n",
    "\n",
    "    return false\n",
    "}\n",
    "\n",
    "val invalidEntries = input\n",
    "    .map { it.split(\" \").filter { it.isNotEmpty() } }\n",
    "    .map { it.map { it.toInt() } }\n",
    "    .map { Entry(it) }\n",
    "    .filter { it.canBeMadeSafe() }\n",
    "\n",
    "aoc2.submitPartTwo(invalidEntries.size)"
   ],
   "outputs": [
    {
     "data": {
      "text/html": [
       "        <div>\n",
       "            <p>Your answer: 400.</p>\n",
       "            <p>That's the right answer! You are <span class=\"day-success\">one gold star</span> closer to finding the Chief Historian.</p>\n",
       "<p>You have completed Day 2! You can <span class=\"share\">[Share<span class=\"share-content\">on <a href=\"https://bsky.app/intent/compose?text=I+just+completed+%22Red%2DNosed+Reports%22+%2D+Day+2+%2D+Advent+of+Code+2024+%23AdventOfCode+https%3A%2F%2Fadventofcode%2Ecom%2F2024%2Fday%2F2\" target=\"_blank\">Bluesky</a> <a href=\"https://twitter.com/intent/tweet?text=I+just+completed+%22Red%2DNosed+Reports%22+%2D+Day+2+%2D+Advent+of+Code+2024&amp;url=https%3A%2F%2Fadventofcode%2Ecom%2F2024%2Fday%2F2&amp;related=ericwastl&amp;hashtags=AdventOfCode\" target=\"_blank\">Twitter</a> <a href=\"javascript:void(0);\" onclick=\"var ms; try{ms=localStorage.getItem('mastodon.server')}finally{} if(typeof ms!=='string')ms=''; ms=prompt('Mastodon Server?',ms); if(typeof ms==='string' &amp;&amp; ms.length){this.href='https://'+ms+'/share?text=I+just+completed+%22Red%2DNosed+Reports%22+%2D+Day+2+%2D+Advent+of+Code+2024+%23AdventOfCode+https%3A%2F%2Fadventofcode%2Ecom%2F2024%2Fday%2F2';try{localStorage.setItem('mastodon.server',ms);}finally{}}else{return false;}\" target=\"_blank\">Mastodon</a></span>]</span> this victory or <a href=\"/2024\">[Return to Your Advent Calendar]</a>.</p>\n",
       "        </div>"
      ]
     },
     "execution_count": 12,
     "metadata": {},
     "output_type": "execute_result"
    }
   ],
   "execution_count": 12
  },
  {
   "metadata": {},
   "cell_type": "markdown",
   "source": "# Day 3"
  },
  {
   "metadata": {
    "ExecuteTime": {
     "end_time": "2024-12-03T08:09:41.255236Z",
     "start_time": "2024-12-03T08:09:40.860788Z"
    }
   },
   "cell_type": "code",
   "source": [
    "import com.toldoven.aoc.notebook.AocClient\n",
    "\n",
    "val aoc3 = AocClient.fromEnv().interactiveDay(2024, 3)\n",
    "aoc3.viewPartOne()"
   ],
   "outputs": [
    {
     "data": {
      "text/html": [
       "<h2>--- Day 3: Mull It Over ---</h2>\n",
       "<p>\"Our computers are having issues, so I have no idea if we have any Chief Historians <span title=\"There's a spot reserved for Chief Historians between the green toboggans and the red toboggans. They've never actually had any Chief Historians in stock, but it's best to be prepared.\">in stock</span>! You're welcome to check the warehouse, though,\" says the mildly flustered shopkeeper at the <a href=\"/2020/day/2\">North Pole Toboggan Rental Shop</a>. The Historians head out to take a look.</p> \n",
       "<p>The shopkeeper turns to you. \"Any chance you can see why our computers are having issues again?\"</p> \n",
       "<p>The computer appears to be trying to run a program, but its memory (your puzzle input) is <em>corrupted</em>. All of the instructions have been jumbled up!</p> \n",
       "<p>It seems like the goal of the program is just to <em>multiply some numbers</em>. It does that with instructions like <code>mul(X,Y)</code>, where <code>X</code> and <code>Y</code> are each 1-3 digit numbers. For instance, <code>mul(44,46)</code> multiplies <code>44</code> by <code>46</code> to get a result of <code>2024</code>. Similarly, <code>mul(123,4)</code> would multiply <code>123</code> by <code>4</code>.</p> \n",
       "<p>However, because the program's memory has been corrupted, there are also many invalid characters that should be <em>ignored</em>, even if they look like part of a <code>mul</code> instruction. Sequences like <code>mul(4*</code>, <code>mul(6,9!</code>, <code>?(12,34)</code>, or <code>mul ( 2 , 4 )</code> do <em>nothing</em>.</p> \n",
       "<p>For example, consider the following section of corrupted memory:</p> \n",
       "<pre><code>x<em>mul(2,4)</em>%&amp;mul[3,7]!@^do_not_<em>mul(5,5)</em>+mul(32,64]then(<em>mul(11,8)mul(8,5)</em>)</code></pre> \n",
       "<p>Only the four highlighted sections are real <code>mul</code> instructions. Adding up the result of each instruction produces <code><em>161</em></code> (<code>2*4 + 5*5 + 11*8 + 8*5</code>).</p> \n",
       "<p>Scan the corrupted memory for uncorrupted <code>mul</code> instructions. <em>What do you get if you add up all of the results of the multiplications?</em></p>"
      ]
     },
     "execution_count": 13,
     "metadata": {},
     "output_type": "execute_result"
    }
   ],
   "execution_count": 13
  },
  {
   "metadata": {},
   "cell_type": "code",
   "outputs": [],
   "execution_count": null,
   "source": ""
  }
 ],
 "metadata": {
  "kernelspec": {
   "display_name": "Kotlin",
   "language": "kotlin",
   "name": "kotlin"
  },
  "language_info": {
   "name": "kotlin",
   "version": "1.9.23",
   "mimetype": "text/x-kotlin",
   "file_extension": ".kt",
   "pygments_lexer": "kotlin",
   "codemirror_mode": "text/x-kotlin",
   "nbconvert_exporter": ""
  },
  "ktnbPluginMetadata": {
   "projectDependencies": [
    "aoc.main"
   ],
   "projectLibraries": false
  }
 },
 "nbformat": 4,
 "nbformat_minor": 0
}
